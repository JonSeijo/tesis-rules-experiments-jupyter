{
 "cells": [
  {
   "cell_type": "code",
   "execution_count": 1,
   "id": "c082cc47-6864-4f9a-b190-cfb60aaa1015",
   "metadata": {},
   "outputs": [
    {
     "data": {
      "text/plain": [
       "'\\nDel analisis de los MRs anterior surgen las preguntas de CUALES son los mrs en las intersecciones,\\nCUALES son los mas frecuentes, etc.\\n'"
      ]
     },
     "execution_count": 1,
     "metadata": {},
     "output_type": "execute_result"
    }
   ],
   "source": [
    "\"\"\"\n",
    "Del analisis de los MRs anterior surgen las preguntas de CUALES son los mrs en las intersecciones,\n",
    "CUALES son los mas frecuentes, etc.\n",
    "\"\"\""
   ]
  },
  {
   "cell_type": "code",
   "execution_count": 2,
   "id": "6a12ee49-f86b-4c37-a0dd-41827a21fc71",
   "metadata": {},
   "outputs": [],
   "source": [
    "import pandas as pd\n",
    "import seaborn as sns\n",
    "\n",
    "# sns.set_style(\"darkgrid\")\n",
    "sns.set_style(\"whitegrid\")\n",
    "\n",
    "import matplotlib.pyplot as plt\n",
    "# plt.rcParams[\"figure.figsize\"]= (8, 6)"
   ]
  },
  {
   "cell_type": "code",
   "execution_count": 3,
   "id": "1be4fc1d-7040-4c3d-9ca8-dd54890622fc",
   "metadata": {},
   "outputs": [],
   "source": [
    "from compare_rules import generic_set_intersection, \\\n",
    "    fast_list_intersection, mrs_txs_interseccion_lev_1, \\\n",
    "    mrs_txs_frecuencia_mayor_set, mrs_txs_frecuencia_mayor_list, \\\n",
    "    mrs_frequency_map_from_mrs\n",
    "\n",
    "from info_rules import all_mrs_from_transactions\n",
    "\n",
    "import analysis_utils as autils\n",
    "\n",
    "from typing import Dict, List, Tuple"
   ]
  },
  {
   "cell_type": "code",
   "execution_count": 4,
   "id": "0f49f37f-34ad-4b3a-b907-5d0270c6883a",
   "metadata": {},
   "outputs": [],
   "source": [
    "transactions_newank = autils.read_clean_transactions(\"NEWAnk_len4_ALL_sub\", \"output/clean_transactions\")"
   ]
  },
  {
   "cell_type": "code",
   "execution_count": 5,
   "id": "c4f3d625-cd7d-4fb8-9e21-8646d1dc3fe2",
   "metadata": {},
   "outputs": [],
   "source": [
    "transactions_tpr = autils.read_clean_transactions(\"TPR1_len4_ALL_sub\", \"output/clean_transactions\")"
   ]
  },
  {
   "cell_type": "code",
   "execution_count": 6,
   "id": "2292d83c-5b79-4ffa-b59a-10ac05be8448",
   "metadata": {},
   "outputs": [],
   "source": [
    "transactions_lrr = autils.read_clean_transactions(\"LRR1_len4_ALL_sub\", \"output/clean_transactions\")"
   ]
  },
  {
   "cell_type": "code",
   "execution_count": 7,
   "id": "8f466a48-9d7d-4a92-b998-4139c923d240",
   "metadata": {},
   "outputs": [],
   "source": [
    "assert len(transactions_newank) == 32169\n",
    "assert len(transactions_tpr) == 36389"
   ]
  },
  {
   "cell_type": "code",
   "execution_count": 8,
   "id": "1df9d799-214e-4c32-907f-f773dd157e67",
   "metadata": {},
   "outputs": [],
   "source": [
    "mrs_newank = all_mrs_from_transactions(transactions_newank)\n",
    "mrs_newank_unique = set(mrs_newank)"
   ]
  },
  {
   "cell_type": "code",
   "execution_count": 9,
   "id": "a67fc46d-814c-4949-8d82-9d1b8a92d69c",
   "metadata": {},
   "outputs": [],
   "source": [
    "mrs_tpr = all_mrs_from_transactions(transactions_tpr)\n",
    "mrs_tpr_unique = set(mrs_tpr)"
   ]
  },
  {
   "cell_type": "code",
   "execution_count": 10,
   "id": "e9172366-5c2e-412c-86d2-c2e5b9ccb0f1",
   "metadata": {},
   "outputs": [],
   "source": [
    "mrs_lrr = all_mrs_from_transactions(transactions_lrr)\n",
    "mrs_lrr_unique = set(mrs_lrr)"
   ]
  },
  {
   "cell_type": "code",
   "execution_count": 11,
   "id": "17fb8cbf-2949-4b38-98d1-886d91dc3c5b",
   "metadata": {},
   "outputs": [],
   "source": [
    "# --------"
   ]
  },
  {
   "cell_type": "code",
   "execution_count": 12,
   "id": "2406ba8a-5d85-4213-87fb-db857b93af1e",
   "metadata": {},
   "outputs": [],
   "source": [
    "# Obtengo el frequency map por cada familia"
   ]
  },
  {
   "cell_type": "code",
   "execution_count": 13,
   "id": "7ea050bc-664d-4f26-a5c3-b123c854fc3d",
   "metadata": {},
   "outputs": [],
   "source": [
    "freqs_newank = mrs_frequency_map_from_mrs(mrs_newank)"
   ]
  },
  {
   "cell_type": "code",
   "execution_count": 14,
   "id": "ffa2b5f1-c2d7-4b80-852f-a35bee42c2be",
   "metadata": {},
   "outputs": [],
   "source": [
    "freqs_tpr = mrs_frequency_map_from_mrs(mrs_tpr)"
   ]
  },
  {
   "cell_type": "code",
   "execution_count": 15,
   "id": "d731b17e-b196-4732-b32e-ad83890d3f8b",
   "metadata": {},
   "outputs": [],
   "source": [
    "freqs_lrr = mrs_frequency_map_from_mrs(mrs_lrr)"
   ]
  },
  {
   "cell_type": "code",
   "execution_count": 16,
   "id": "a90717b0-f018-4aef-bda1-6cc6ea90cabe",
   "metadata": {},
   "outputs": [],
   "source": [
    "# Lista ordenada por frecuencia de los mas frecuentes\n",
    "\n",
    "# TODO: Mover a .py\n",
    "def top_frecuents(freqs: Dict[str, int]) -> List[Tuple[int, str]]:\n",
    "    freqs_list = [ (f,v) for v,f in freqs.items() ]\n",
    "    return sorted(freqs_list, reverse=True)"
   ]
  },
  {
   "cell_type": "code",
   "execution_count": 17,
   "id": "2022bea5-6fcd-4fc8-9990-7a7bac0b2951",
   "metadata": {},
   "outputs": [],
   "source": [
    "top_freqs_newank = top_frecuents(freqs_newank)"
   ]
  },
  {
   "cell_type": "code",
   "execution_count": 18,
   "id": "6c37eea2-4155-423e-a7ea-d1d1f9a913e1",
   "metadata": {},
   "outputs": [],
   "source": [
    "top_freqs_tpr = top_frecuents(freqs_tpr)"
   ]
  },
  {
   "cell_type": "code",
   "execution_count": 19,
   "id": "29fb7bbd-cf1f-4316-b320-27d890e22940",
   "metadata": {},
   "outputs": [],
   "source": [
    "top_freqs_lrr = top_frecuents(freqs_lrr)"
   ]
  },
  {
   "cell_type": "code",
   "execution_count": 20,
   "id": "1d2aa959-9cd4-474c-a648-3c60aac38792",
   "metadata": {},
   "outputs": [
    {
     "data": {
      "text/plain": [
       "[(19137, 'TPLH'),\n",
       " (17222, 'TALH'),\n",
       " (14329, 'LHLA'),\n",
       " (10934, 'GADV'),\n",
       " (9585, 'HLAA'),\n",
       " (9520, 'PLHL'),\n",
       " (9240, 'ADVN'),\n",
       " (8964, 'LLLE'),\n",
       " (8401, 'RTPL'),\n",
       " (8277, 'KLLL')]"
      ]
     },
     "execution_count": 20,
     "metadata": {},
     "output_type": "execute_result"
    }
   ],
   "source": [
    "top_freqs_newank[:10]"
   ]
  },
  {
   "cell_type": "code",
   "execution_count": 21,
   "id": "1da91b87-23b1-44a8-8d2a-dca89857a4f3",
   "metadata": {},
   "outputs": [
    {
     "data": {
      "text/plain": [
       "[(7615, 'KALE'),\n",
       " (6888, 'KAIE'),\n",
       " (6521, 'ALEL'),\n",
       " (6155, 'ALAL'),\n",
       " (5741, 'EEAL'),\n",
       " (5728, 'EKAL'),\n",
       " (5404, 'YEEA'),\n",
       " (5250, 'NNLG'),\n",
       " (5096, 'AIEL'),\n",
       " (4892, 'EALE')]"
      ]
     },
     "execution_count": 21,
     "metadata": {},
     "output_type": "execute_result"
    }
   ],
   "source": [
    "top_freqs_tpr[:10]"
   ]
  },
  {
   "cell_type": "code",
   "execution_count": 22,
   "id": "028dfe63-6f59-4f6a-8830-8067fb2c1069",
   "metadata": {},
   "outputs": [
    {
     "data": {
      "text/plain": [
       "[(26891, 'LDLS'),\n",
       " (18839, 'LNLS'),\n",
       " (15689, 'LSNN'),\n",
       " (14200, 'LSSN'),\n",
       " (12720, 'LSGN'),\n",
       " (12668, 'GEIP'),\n",
       " (12648, 'LSHN'),\n",
       " (12546, 'GSIP'),\n",
       " (12292, 'LSYN'),\n",
       " (12134, 'NLSG')]"
      ]
     },
     "execution_count": 22,
     "metadata": {},
     "output_type": "execute_result"
    }
   ],
   "source": [
    "top_freqs_lrr[:10]"
   ]
  },
  {
   "cell_type": "code",
   "execution_count": 23,
   "id": "b03db344-27db-4b94-b60d-8e89d1685a6f",
   "metadata": {},
   "outputs": [],
   "source": [
    "# Guardo todo en un df para plotearlo. (Seguro lo podia hacer mas limpio desde el incio...)\n",
    "def build_freq_data_df(freqs_by_family):\n",
    "    freq_data = []\n",
    "    for family, freqs in freqs_by_family.items():\n",
    "        print(f\"Processing family {family}\")\n",
    "        for mr, freq in freqs.items():\n",
    "            freq_data.append((family, mr, freq))\n",
    "    return pd.DataFrame(freq_data, columns=['family', 'mr', 'frequency'])\n",
    "\n"
   ]
  },
  {
   "cell_type": "code",
   "execution_count": 24,
   "id": "e8437e14-554b-4467-ae10-391caf1100c6",
   "metadata": {},
   "outputs": [
    {
     "name": "stdout",
     "output_type": "stream",
     "text": [
      "Processing family NEWAnk\n",
      "Processing family TPR1\n",
      "Processing family LRR1\n"
     ]
    }
   ],
   "source": [
    "input_build_freq_data = {\n",
    "    \"NEWAnk\": freqs_newank,\n",
    "    \"TPR1\": freqs_tpr,\n",
    "    \"LRR1\": freqs_lrr\n",
    "}\n",
    "\n",
    "df_frequencies = build_freq_data_df(input_build_freq_data)"
   ]
  },
  {
   "cell_type": "code",
   "execution_count": 25,
   "id": "fce4530f-1ed3-4c93-9247-e4a37b694852",
   "metadata": {},
   "outputs": [
    {
     "data": {
      "text/html": [
       "<div>\n",
       "<style scoped>\n",
       "    .dataframe tbody tr th:only-of-type {\n",
       "        vertical-align: middle;\n",
       "    }\n",
       "\n",
       "    .dataframe tbody tr th {\n",
       "        vertical-align: top;\n",
       "    }\n",
       "\n",
       "    .dataframe thead th {\n",
       "        text-align: right;\n",
       "    }\n",
       "</style>\n",
       "<table border=\"1\" class=\"dataframe\">\n",
       "  <thead>\n",
       "    <tr style=\"text-align: right;\">\n",
       "      <th></th>\n",
       "      <th>family</th>\n",
       "      <th>mr</th>\n",
       "      <th>frequency</th>\n",
       "    </tr>\n",
       "  </thead>\n",
       "  <tbody>\n",
       "    <tr>\n",
       "      <th>0</th>\n",
       "      <td>NEWAnk</td>\n",
       "      <td>AAAE</td>\n",
       "      <td>2246</td>\n",
       "    </tr>\n",
       "    <tr>\n",
       "      <th>1</th>\n",
       "      <td>NEWAnk</td>\n",
       "      <td>AACE</td>\n",
       "      <td>405</td>\n",
       "    </tr>\n",
       "    <tr>\n",
       "      <th>2</th>\n",
       "      <td>NEWAnk</td>\n",
       "      <td>AAEG</td>\n",
       "      <td>1627</td>\n",
       "    </tr>\n",
       "    <tr>\n",
       "      <th>3</th>\n",
       "      <td>NEWAnk</td>\n",
       "      <td>AAGA</td>\n",
       "      <td>3168</td>\n",
       "    </tr>\n",
       "    <tr>\n",
       "      <th>4</th>\n",
       "      <td>NEWAnk</td>\n",
       "      <td>AAGK</td>\n",
       "      <td>799</td>\n",
       "    </tr>\n",
       "    <tr>\n",
       "      <th>...</th>\n",
       "      <td>...</td>\n",
       "      <td>...</td>\n",
       "      <td>...</td>\n",
       "    </tr>\n",
       "    <tr>\n",
       "      <th>472172</th>\n",
       "      <td>LRR1</td>\n",
       "      <td>AWMK</td>\n",
       "      <td>2</td>\n",
       "    </tr>\n",
       "    <tr>\n",
       "      <th>472173</th>\n",
       "      <td>LRR1</td>\n",
       "      <td>CDYM</td>\n",
       "      <td>2</td>\n",
       "    </tr>\n",
       "    <tr>\n",
       "      <th>472174</th>\n",
       "      <td>LRR1</td>\n",
       "      <td>TMWK</td>\n",
       "      <td>2</td>\n",
       "    </tr>\n",
       "    <tr>\n",
       "      <th>472175</th>\n",
       "      <td>LRR1</td>\n",
       "      <td>AHPW</td>\n",
       "      <td>2</td>\n",
       "    </tr>\n",
       "    <tr>\n",
       "      <th>472176</th>\n",
       "      <td>LRR1</td>\n",
       "      <td>MICY</td>\n",
       "      <td>2</td>\n",
       "    </tr>\n",
       "  </tbody>\n",
       "</table>\n",
       "<p>472177 rows × 3 columns</p>\n",
       "</div>"
      ],
      "text/plain": [
       "        family    mr  frequency\n",
       "0       NEWAnk  AAAE       2246\n",
       "1       NEWAnk  AACE        405\n",
       "2       NEWAnk  AAEG       1627\n",
       "3       NEWAnk  AAGA       3168\n",
       "4       NEWAnk  AAGK        799\n",
       "...        ...   ...        ...\n",
       "472172    LRR1  AWMK          2\n",
       "472173    LRR1  CDYM          2\n",
       "472174    LRR1  TMWK          2\n",
       "472175    LRR1  AHPW          2\n",
       "472176    LRR1  MICY          2\n",
       "\n",
       "[472177 rows x 3 columns]"
      ]
     },
     "execution_count": 25,
     "metadata": {},
     "output_type": "execute_result"
    }
   ],
   "source": [
    "df_frequencies"
   ]
  },
  {
   "cell_type": "code",
   "execution_count": 26,
   "id": "e9e2cbcb-2eab-4e99-80af-5237d95a6e86",
   "metadata": {},
   "outputs": [
    {
     "data": {
      "text/html": [
       "<div>\n",
       "<style scoped>\n",
       "    .dataframe tbody tr th:only-of-type {\n",
       "        vertical-align: middle;\n",
       "    }\n",
       "\n",
       "    .dataframe tbody tr th {\n",
       "        vertical-align: top;\n",
       "    }\n",
       "\n",
       "    .dataframe thead th {\n",
       "        text-align: right;\n",
       "    }\n",
       "</style>\n",
       "<table border=\"1\" class=\"dataframe\">\n",
       "  <thead>\n",
       "    <tr style=\"text-align: right;\">\n",
       "      <th></th>\n",
       "      <th>family</th>\n",
       "      <th>mr</th>\n",
       "      <th>frequency</th>\n",
       "    </tr>\n",
       "  </thead>\n",
       "  <tbody>\n",
       "    <tr>\n",
       "      <th>2495</th>\n",
       "      <td>NEWAnk</td>\n",
       "      <td>TPLH</td>\n",
       "      <td>19137</td>\n",
       "    </tr>\n",
       "    <tr>\n",
       "      <th>2918</th>\n",
       "      <td>NEWAnk</td>\n",
       "      <td>TALH</td>\n",
       "      <td>17222</td>\n",
       "    </tr>\n",
       "    <tr>\n",
       "      <th>2759</th>\n",
       "      <td>NEWAnk</td>\n",
       "      <td>LHLA</td>\n",
       "      <td>14329</td>\n",
       "    </tr>\n",
       "    <tr>\n",
       "      <th>94</th>\n",
       "      <td>NEWAnk</td>\n",
       "      <td>GADV</td>\n",
       "      <td>10934</td>\n",
       "    </tr>\n",
       "    <tr>\n",
       "      <th>3069</th>\n",
       "      <td>NEWAnk</td>\n",
       "      <td>HLAA</td>\n",
       "      <td>9585</td>\n",
       "    </tr>\n",
       "    <tr>\n",
       "      <th>10979</th>\n",
       "      <td>NEWAnk</td>\n",
       "      <td>PLHL</td>\n",
       "      <td>9520</td>\n",
       "    </tr>\n",
       "    <tr>\n",
       "      <th>15</th>\n",
       "      <td>NEWAnk</td>\n",
       "      <td>ADVN</td>\n",
       "      <td>9240</td>\n",
       "    </tr>\n",
       "    <tr>\n",
       "      <th>946</th>\n",
       "      <td>NEWAnk</td>\n",
       "      <td>LLLE</td>\n",
       "      <td>8964</td>\n",
       "    </tr>\n",
       "    <tr>\n",
       "      <th>1263</th>\n",
       "      <td>NEWAnk</td>\n",
       "      <td>RTPL</td>\n",
       "      <td>8401</td>\n",
       "    </tr>\n",
       "    <tr>\n",
       "      <th>139</th>\n",
       "      <td>NEWAnk</td>\n",
       "      <td>KLLL</td>\n",
       "      <td>8277</td>\n",
       "    </tr>\n",
       "  </tbody>\n",
       "</table>\n",
       "</div>"
      ],
      "text/plain": [
       "       family    mr  frequency\n",
       "2495   NEWAnk  TPLH      19137\n",
       "2918   NEWAnk  TALH      17222\n",
       "2759   NEWAnk  LHLA      14329\n",
       "94     NEWAnk  GADV      10934\n",
       "3069   NEWAnk  HLAA       9585\n",
       "10979  NEWAnk  PLHL       9520\n",
       "15     NEWAnk  ADVN       9240\n",
       "946    NEWAnk  LLLE       8964\n",
       "1263   NEWAnk  RTPL       8401\n",
       "139    NEWAnk  KLLL       8277"
      ]
     },
     "execution_count": 26,
     "metadata": {},
     "output_type": "execute_result"
    }
   ],
   "source": [
    "df_frequencies[df_frequencies.family == \"NEWAnk\"].nlargest(10, 'frequency')"
   ]
  },
  {
   "cell_type": "code",
   "execution_count": 27,
   "id": "437775f0-2b39-4a05-a878-7715db551ef9",
   "metadata": {},
   "outputs": [
    {
     "data": {
      "text/html": [
       "<div>\n",
       "<style scoped>\n",
       "    .dataframe tbody tr th:only-of-type {\n",
       "        vertical-align: middle;\n",
       "    }\n",
       "\n",
       "    .dataframe tbody tr th {\n",
       "        vertical-align: top;\n",
       "    }\n",
       "\n",
       "    .dataframe thead th {\n",
       "        text-align: right;\n",
       "    }\n",
       "</style>\n",
       "<table border=\"1\" class=\"dataframe\">\n",
       "  <thead>\n",
       "    <tr style=\"text-align: right;\">\n",
       "      <th></th>\n",
       "      <th>family</th>\n",
       "      <th>mr</th>\n",
       "      <th>frequency</th>\n",
       "    </tr>\n",
       "  </thead>\n",
       "  <tbody>\n",
       "    <tr>\n",
       "      <th>10979</th>\n",
       "      <td>NEWAnk</td>\n",
       "      <td>PLHL</td>\n",
       "      <td>9520</td>\n",
       "    </tr>\n",
       "    <tr>\n",
       "      <th>1263</th>\n",
       "      <td>NEWAnk</td>\n",
       "      <td>RTPL</td>\n",
       "      <td>8401</td>\n",
       "    </tr>\n",
       "    <tr>\n",
       "      <th>168824</th>\n",
       "      <td>TPR1</td>\n",
       "      <td>NNLG</td>\n",
       "      <td>5250</td>\n",
       "    </tr>\n",
       "    <tr>\n",
       "      <th>317578</th>\n",
       "      <td>LRR1</td>\n",
       "      <td>LSGN</td>\n",
       "      <td>12720</td>\n",
       "    </tr>\n",
       "    <tr>\n",
       "      <th>163285</th>\n",
       "      <td>TPR1</td>\n",
       "      <td>YEEA</td>\n",
       "      <td>5404</td>\n",
       "    </tr>\n",
       "  </tbody>\n",
       "</table>\n",
       "</div>"
      ],
      "text/plain": [
       "        family    mr  frequency\n",
       "10979   NEWAnk  PLHL       9520\n",
       "1263    NEWAnk  RTPL       8401\n",
       "168824    TPR1  NNLG       5250\n",
       "317578    LRR1  LSGN      12720\n",
       "163285    TPR1  YEEA       5404"
      ]
     },
     "execution_count": 27,
     "metadata": {},
     "output_type": "execute_result"
    }
   ],
   "source": [
    "df_tops = df_frequencies[ df_frequencies.groupby('family')['frequency'].rank(ascending=False) <= 10 ]\n",
    "df_tops.sample(5)"
   ]
  },
  {
   "cell_type": "code",
   "execution_count": 28,
   "id": "857f8607-2715-4903-b76d-7c354b007d93",
   "metadata": {},
   "outputs": [
    {
     "name": "stderr",
     "output_type": "stream",
     "text": [
      "/tmp/ipykernel_23745/313085011.py:1: SettingWithCopyWarning: \n",
      "A value is trying to be set on a copy of a slice from a DataFrame.\n",
      "Try using .loc[row_indexer,col_indexer] = value instead\n",
      "\n",
      "See the caveats in the documentation: https://pandas.pydata.org/pandas-docs/stable/user_guide/indexing.html#returning-a-view-versus-a-copy\n",
      "  df_tops.loc[:,'family_mr'] = df_tops['family'] + \"_\" + df_tops['mr']\n"
     ]
    }
   ],
   "source": [
    "df_tops.loc[:,'family_mr'] = df_tops['family'] + \"_\" + df_tops['mr']"
   ]
  },
  {
   "cell_type": "code",
   "execution_count": 29,
   "id": "4a27afe2-6546-4cac-b0e3-c02f9bfe81ef",
   "metadata": {},
   "outputs": [
    {
     "name": "stderr",
     "output_type": "stream",
     "text": [
      "/tmp/ipykernel_23745/3021024257.py:2: SettingWithCopyWarning: \n",
      "A value is trying to be set on a copy of a slice from a DataFrame.\n",
      "Try using .loc[row_indexer,col_indexer] = value instead\n",
      "\n",
      "See the caveats in the documentation: https://pandas.pydata.org/pandas-docs/stable/user_guide/indexing.html#returning-a-view-versus-a-copy\n",
      "  df_tops['family_color'] = [ colors_map[f] for f in df_tops['family'] ]\n"
     ]
    }
   ],
   "source": [
    "colors_map = {\"NEWAnk\": '#bc5090', \"TPR1\": '#ffa600', \"LRR1\": '#003f5c'}\n",
    "df_tops['family_color'] = [ colors_map[f] for f in df_tops['family'] ]\n",
    "df_tops_sorted = df_tops.sort_values(by='frequency')"
   ]
  },
  {
   "cell_type": "code",
   "execution_count": 30,
   "id": "a5dd9d1b-1e15-4e6e-aa48-9a945c475de3",
   "metadata": {},
   "outputs": [
    {
     "data": {
      "text/plain": [
       "<BarContainer object of 30 artists>"
      ]
     },
     "execution_count": 30,
     "metadata": {},
     "output_type": "execute_result"
    },
    {
     "data": {
      "image/png": "[encoded data removed]",
      "text/plain": [
       "<Figure size 576x432 with 1 Axes>"
      ]
     },
     "metadata": {
      "needs_background": "light"
     },
     "output_type": "display_data"
    }
   ],
   "source": [
    "# https://matplotlib.org/stable/api/_as_gen/matplotlib.axes.Axes.bar.html\n",
    "fig, ax = plt.subplots(figsize=(8,6))\n",
    "ax.barh(df_tops_sorted['family_mr'], df_tops_sorted['frequency'], color=df_tops_sorted['family_color'])"
   ]
  },
  {
   "cell_type": "code",
   "execution_count": 31,
   "id": "0e223cc3-5512-4084-9a92-30de82e4851a",
   "metadata": {},
   "outputs": [],
   "source": [
    "# ---------------------------------------------------\n",
    "# ------ VER ANTES: compare_rules.py de exp misterioso\n",
    "# python3 compare_rules.py --family_a=NEWAnk_len4_ALL_sub --family_b=NEWAnk_len4_nomrs --support=0.025 --confidence=0.9\n",
    "# ---------------------------------------------------\n",
    "\n",
    "# Exp: Comparaciones en items mas frecuentes de txs en NEWAnk, NEWAnk_SCRAMBLED, NEWAnk_nomrs"
   ]
  },
  {
   "cell_type": "code",
   "execution_count": 41,
   "id": "dca9128c-3ad2-4f29-9fc0-3fee3587cb78",
   "metadata": {},
   "outputs": [],
   "source": [
    "# TODO: Mover esto a python\n",
    "from typing import NamedTuple\n",
    "\n",
    "class FamilyInput(NamedTuple):\n",
    "    family: str\n",
    "    transactions_name: str\n",
    "    color_code: str\n",
    "\n",
    "def build_top_frequency_df(df_frequencies, top_amount=10):\n",
    "    df_tops = df_frequencies[ df_frequencies.groupby('family')['freq'].rank(ascending=False) <= top_amount ]\n",
    "    return df_tops\n",
    "\n",
    "\n",
    "def build_color_map(family_inputs):\n",
    "    return { fi.family: fi.color_code for fi in family_inputs }"
   ]
  },
  {
   "cell_type": "code",
   "execution_count": 42,
   "id": "3b66db1d-f0e8-48c6-b2af-f1b9e43ce217",
   "metadata": {},
   "outputs": [
    {
     "name": "stdout",
     "output_type": "stream",
     "text": [
      "Building mr_tx_frequency for NEWAnk\n",
      " .... freq_count .... 0/32169\n",
      " .... freq_count .... 10000/32169\n",
      " .... freq_count .... 20000/32169\n",
      " .... freq_count .... 30000/32169\n",
      "Building mr_tx_frequency for NEWAnk_SCRAMBLED\n",
      " .... freq_count .... 0/32169\n",
      " .... freq_count .... 10000/32169\n",
      " .... freq_count .... 20000/32169\n",
      " .... freq_count .... 30000/32169\n",
      "Building mr_tx_frequency for NEWAnk_nomrs\n",
      " .... freq_count .... 0/32169\n",
      " .... freq_count .... 10000/32169\n",
      " .... freq_count .... 20000/32169\n",
      " .... freq_count .... 30000/32169\n"
     ]
    }
   ],
   "source": [
    "newank_input = FamilyInput(\"NEWAnk\", \"NEWAnk_len4_ALL_sub\", \"#bc5090\")\n",
    "newank_scrambled_input = FamilyInput(\"NEWAnk_SCRAMBLED\", \"NEWAnk_SCRAMBLED_len4_ALL_sub\", \"#ffa600\")\n",
    "newank_nomrs_input = FamilyInput(\"NEWAnk_nomrs\", \"NEWAnk_len4_nomrs\", \"#003f5c\")\n",
    "\n",
    "family_inputs = [\n",
    "    newank_input, newank_scrambled_input, newank_nomrs_input\n",
    "]\n",
    "\n",
    "txs_by_family = { \n",
    "    fi.family: autils.read_clean_transactions(fi.transactions_name, \"output/clean_transactions\")\n",
    "    for fi in family_inputs\n",
    "}\n",
    "\n",
    "df_freq_data = autils.build_mr_tx_frequency_df(txs_by_family)\n",
    "\n",
    "df_tops = build_top_frequency_df(df_freq_data, 30)\n",
    "color_map = build_color_map(family_inputs)"
   ]
  },
  {
   "cell_type": "code",
   "execution_count": 43,
   "id": "331cb1e4-7533-4171-9a85-1697128904c3",
   "metadata": {},
   "outputs": [
    {
     "data": {
      "text/plain": [
       "{'NEWAnk': '#bc5090', 'NEWAnk_SCRAMBLED': '#ffa600', 'NEWAnk_nomrs': '#003f5c'}"
      ]
     },
     "execution_count": 43,
     "metadata": {},
     "output_type": "execute_result"
    }
   ],
   "source": [
    "color_map"
   ]
  },
  {
   "cell_type": "code",
   "execution_count": 44,
   "id": "31c71cb1-6fbb-4407-8ebd-11f24a32ec32",
   "metadata": {},
   "outputs": [],
   "source": [
    "def sorted_df_to_plot(df_tops, color_map):\n",
    "    df_tops_sorted = df_tops.sort_values(by='freq')\n",
    "    df_tops_sorted.loc[:,'family_mr'] = df_tops_sorted['family'] + \"_\" + df_tops_sorted['mr']\n",
    "    df_tops_sorted['family_color'] = [ color_map[f] for f in df_tops_sorted['family'] ]\n",
    "    return df_tops_sorted\n"
   ]
  },
  {
   "cell_type": "code",
   "execution_count": 45,
   "id": "508b1e0c-ac53-47a2-8b6f-e388f29ea32e",
   "metadata": {},
   "outputs": [
    {
     "data": {
      "text/plain": [
       "<BarContainer object of 90 artists>"
      ]
     },
     "execution_count": 45,
     "metadata": {},
     "output_type": "execute_result"
    },
    {
     "data": {
      "image/png": "[encoded data removed]",
      "text/plain": [
       "<Figure size 576x1296 with 1 Axes>"
      ]
     },
     "metadata": {
      "needs_background": "light"
     },
     "output_type": "display_data"
    }
   ],
   "source": [
    "df_tops_sorted = sorted_df_to_plot(df_tops, color_map)\n",
    "fig, ax = plt.subplots(figsize=(8,18))\n",
    "ax.barh(df_tops_sorted['family_mr'], df_tops_sorted['freq'], color=df_tops_sorted['family_color'])\n",
    "\n",
    "# Los MRs mas frecuentes coinciden con los substrings mas frecuentes.\n",
    "# Me imagino que son los X mas frecuentes los que determinan las reglas, por eso las reglas terminan siendo iguales\n",
    "\n",
    "# TODO: la alternancia rara es solo visual, deberia poder ordenarlos por string para desempatar"
   ]
  },
  {
   "cell_type": "code",
   "execution_count": 49,
   "id": "36af76bc-f329-4d79-891d-b830cb36d3c7",
   "metadata": {},
   "outputs": [],
   "source": [
    "# TODO: Ver frecuentes en las intersecciones"
   ]
  },
  {
   "cell_type": "code",
   "execution_count": 50,
   "id": "1ee24747-9d56-4865-9a4f-3e0f35bdf3ed",
   "metadata": {},
   "outputs": [],
   "source": [
    "# Exp: Analisis de frecuencias.\n",
    "#  Cuantos items aparecen en el x% de las transacciones?"
   ]
  },
  {
   "cell_type": "code",
   "execution_count": 51,
   "id": "28f223b4-06ec-4626-849f-ef81bfb3f450",
   "metadata": {},
   "outputs": [
    {
     "data": {
      "text/plain": [
       "{'NEWAnk', 'NEWAnk_SCRAMBLED', 'NEWAnk_nomrs'}"
      ]
     },
     "execution_count": 51,
     "metadata": {},
     "output_type": "execute_result"
    }
   ],
   "source": [
    "set(df_freq_data['family'])"
   ]
  },
  {
   "cell_type": "code",
   "execution_count": 52,
   "id": "0ca4fa43-5b96-42e8-b188-f1fca4ae20a3",
   "metadata": {},
   "outputs": [
    {
     "data": {
      "image/png": "[encoded data removed]",
      "text/plain": [
       "<Figure size 432x288 with 1 Axes>"
      ]
     },
     "metadata": {
      "needs_background": "light"
     },
     "output_type": "display_data"
    }
   ],
   "source": [
    "sns.histplot(df_freq_data, x='freq_percentage', hue='family', multiple='dodge', bins=20, binrange=(0.025, 0.1));\n",
    "# NEWAnk y nomrs son identicos en los de mayor aparicion (menor support)\n",
    "# Si parece haber diferencias es solo visual, ver sig grafico"
   ]
  },
  {
   "cell_type": "code",
   "execution_count": 62,
   "id": "30fc0e1f-ee03-4393-93cd-a69587c46158",
   "metadata": {},
   "outputs": [
    {
     "data": {
      "image/png": "[encoded data removed]",
      "text/plain": [
       "<Figure size 432x288 with 1 Axes>"
      ]
     },
     "metadata": {
      "needs_background": "light"
     },
     "output_type": "display_data"
    }
   ],
   "source": [
    "sns.histplot(df_freq_data[df_freq_data.family != \"NEWAnk_SCRAMBLED\"], \n",
    "             x='freq_percentage', hue='family', multiple='dodge', bins=20, \n",
    "             binrange=(0.05, 0.20), log_scale=(False, True));"
   ]
  },
  {
   "cell_type": "code",
   "execution_count": null,
   "id": "82670aab-f928-4c0c-b64a-ce47db9fc980",
   "metadata": {},
   "outputs": [],
   "source": [
    "# Veo pares de items: es lo que importa para generar reglas"
   ]
  },
  {
   "cell_type": "code",
   "execution_count": 53,
   "id": "9d7a3f7b-659b-4ab2-a550-793934765426",
   "metadata": {},
   "outputs": [
    {
     "name": "stdout",
     "output_type": "stream",
     "text": [
      "build_pairs_mr_tx_frequency_df, min_support: 0.025\n",
      "Filtering mrs to get most frequents only\n",
      "Building freqs_by_pair_combinations for NEWAnk...\n",
      "Filtering transactions_frequents\n",
      " .... 0/32169\n",
      " .... 10000/32169\n",
      " .... 20000/32169\n",
      " .... 30000/32169\n",
      "Building freqs_by_pair_data for NEWAnk...\n",
      "NEWAnk ready.\n",
      "Building freqs_by_pair_combinations for NEWAnk_SCRAMBLED...\n",
      "Filtering transactions_frequents\n",
      " .... 0/32169\n",
      " .... 10000/32169\n",
      " .... 20000/32169\n",
      " .... 30000/32169\n",
      "Building freqs_by_pair_data for NEWAnk_SCRAMBLED...\n",
      "NEWAnk_SCRAMBLED ready.\n",
      "Building freqs_by_pair_combinations for NEWAnk_nomrs...\n",
      "Filtering transactions_frequents\n",
      " .... 0/32169\n",
      " .... 10000/32169\n",
      " .... 20000/32169\n",
      " .... 30000/32169\n",
      "Building freqs_by_pair_data for NEWAnk_nomrs...\n",
      "NEWAnk_nomrs ready.\n"
     ]
    }
   ],
   "source": [
    "min_support = 0.025\n",
    "df_freq_pairs_data = autils.build_pairs_mr_tx_frequency_df(\n",
    "    txs_by_family, df_freq_data, min_support)"
   ]
  },
  {
   "cell_type": "code",
   "execution_count": 58,
   "id": "8095a31e-bf07-4f20-8271-0913c0155ec0",
   "metadata": {},
   "outputs": [
    {
     "data": {
      "image/png": "[encoded data removed]",
      "text/plain": [
       "<Figure size 432x288 with 1 Axes>"
      ]
     },
     "metadata": {
      "needs_background": "light"
     },
     "output_type": "display_data"
    }
   ],
   "source": [
    "sns.histplot(df_freq_pairs_data, x='freq_percentage', hue='family', \n",
    "             multiple='dodge', bins=20, binrange=(0.010, 0.05));"
   ]
  },
  {
   "cell_type": "code",
   "execution_count": 63,
   "id": "c93dbc53-b34e-4015-8ee4-a3622ee5d314",
   "metadata": {},
   "outputs": [
    {
     "data": {
      "image/png": "[encoded data removed]",
      "text/plain": [
       "<Figure size 432x288 with 1 Axes>"
      ]
     },
     "metadata": {
      "needs_background": "light"
     },
     "output_type": "display_data"
    }
   ],
   "source": [
    "sns.histplot(df_freq_pairs_data[df_freq_pairs_data.family != \"NEWAnk_SCRAMBLED\"], \n",
    "             x='freq_percentage', hue='family', \n",
    "             multiple='dodge', bins=20, binrange=(0.010, 0.05),\n",
    "             log_scale=(False, True)\n",
    "            );\n",
    "# Escala log en y\n",
    "# Esto explica por que generan exactamente las mismas reglas"
   ]
  },
  {
   "cell_type": "code",
   "execution_count": 64,
   "id": "31f85bff-02e3-48af-af8d-b906360512ff",
   "metadata": {},
   "outputs": [],
   "source": [
    "# Sanity check: las transacciones NEWAnk y NEWAnk_nomrs son distintas\n",
    "# (esto se puede ver con el compare_rules.py , pero veamoslo graficamente ...)"
   ]
  },
  {
   "cell_type": "code",
   "execution_count": 65,
   "id": "c1df36b6-2c80-4651-ab32-c9b3bb4de4de",
   "metadata": {},
   "outputs": [
    {
     "name": "stdout",
     "output_type": "stream",
     "text": [
      "Building transaction_len_df for NEWAnk\n",
      "Building transaction_len_df for NEWAnk_SCRAMBLED\n",
      "Building transaction_len_df for NEWAnk_nomrs\n"
     ]
    }
   ],
   "source": [
    "df_txs_length = autils.build_transaction_len_df(txs_by_family)"
   ]
  },
  {
   "cell_type": "code",
   "execution_count": 72,
   "id": "3b9ee32a-154c-4b25-84a2-93e93358fbed",
   "metadata": {},
   "outputs": [
    {
     "data": {
      "text/html": [
       "<div>\n",
       "<style scoped>\n",
       "    .dataframe tbody tr th:only-of-type {\n",
       "        vertical-align: middle;\n",
       "    }\n",
       "\n",
       "    .dataframe tbody tr th {\n",
       "        vertical-align: top;\n",
       "    }\n",
       "\n",
       "    .dataframe thead tr th {\n",
       "        text-align: left;\n",
       "    }\n",
       "\n",
       "    .dataframe thead tr:last-of-type th {\n",
       "        text-align: right;\n",
       "    }\n",
       "</style>\n",
       "<table border=\"1\" class=\"dataframe\">\n",
       "  <thead>\n",
       "    <tr>\n",
       "      <th></th>\n",
       "      <th colspan=\"8\" halign=\"left\">tx_length</th>\n",
       "    </tr>\n",
       "    <tr>\n",
       "      <th></th>\n",
       "      <th>count</th>\n",
       "      <th>mean</th>\n",
       "      <th>std</th>\n",
       "      <th>min</th>\n",
       "      <th>25%</th>\n",
       "      <th>50%</th>\n",
       "      <th>75%</th>\n",
       "      <th>max</th>\n",
       "    </tr>\n",
       "    <tr>\n",
       "      <th>family</th>\n",
       "      <th></th>\n",
       "      <th></th>\n",
       "      <th></th>\n",
       "      <th></th>\n",
       "      <th></th>\n",
       "      <th></th>\n",
       "      <th></th>\n",
       "      <th></th>\n",
       "    </tr>\n",
       "  </thead>\n",
       "  <tbody>\n",
       "    <tr>\n",
       "      <th>NEWAnk</th>\n",
       "      <td>32169.0</td>\n",
       "      <td>687.846902</td>\n",
       "      <td>475.868414</td>\n",
       "      <td>34.0</td>\n",
       "      <td>339.0</td>\n",
       "      <td>557.0</td>\n",
       "      <td>920.0</td>\n",
       "      <td>6260.0</td>\n",
       "    </tr>\n",
       "    <tr>\n",
       "      <th>NEWAnk_SCRAMBLED</th>\n",
       "      <td>32169.0</td>\n",
       "      <td>707.733781</td>\n",
       "      <td>488.648890</td>\n",
       "      <td>60.0</td>\n",
       "      <td>352.0</td>\n",
       "      <td>570.0</td>\n",
       "      <td>943.0</td>\n",
       "      <td>6644.0</td>\n",
       "    </tr>\n",
       "    <tr>\n",
       "      <th>NEWAnk_nomrs</th>\n",
       "      <td>32169.0</td>\n",
       "      <td>687.919736</td>\n",
       "      <td>475.920511</td>\n",
       "      <td>34.0</td>\n",
       "      <td>339.0</td>\n",
       "      <td>557.0</td>\n",
       "      <td>920.0</td>\n",
       "      <td>6262.0</td>\n",
       "    </tr>\n",
       "  </tbody>\n",
       "</table>\n",
       "</div>"
      ],
      "text/plain": [
       "                 tx_length                                                     \\\n",
       "                     count        mean         std   min    25%    50%    75%   \n",
       "family                                                                          \n",
       "NEWAnk             32169.0  687.846902  475.868414  34.0  339.0  557.0  920.0   \n",
       "NEWAnk_SCRAMBLED   32169.0  707.733781  488.648890  60.0  352.0  570.0  943.0   \n",
       "NEWAnk_nomrs       32169.0  687.919736  475.920511  34.0  339.0  557.0  920.0   \n",
       "\n",
       "                          \n",
       "                     max  \n",
       "family                    \n",
       "NEWAnk            6260.0  \n",
       "NEWAnk_SCRAMBLED  6644.0  \n",
       "NEWAnk_nomrs      6262.0  "
      ]
     },
     "execution_count": 72,
     "metadata": {},
     "output_type": "execute_result"
    }
   ],
   "source": [
    "df_txs_length.groupby('family').describe()\n",
    "# NEWAnk y nomrs son practicamente iguales. En promedio nomrs es levemente mayor (tiene sentido)"
   ]
  },
  {
   "cell_type": "code",
   "execution_count": 73,
   "id": "c792ce3a-01c5-4d99-9ec1-d0d86a84b15f",
   "metadata": {},
   "outputs": [],
   "source": [
    "# df_txs_length.boxplot(column='tx_length', by='family', grid=True, rot=90, figsize=(9, 7))"
   ]
  },
  {
   "cell_type": "code",
   "execution_count": null,
   "id": "8f3ef2dd-0a48-4edb-8d57-d37b865001b2",
   "metadata": {},
   "outputs": [],
   "source": [
    "# Veamos los MRs..."
   ]
  },
  {
   "cell_type": "code",
   "execution_count": 69,
   "id": "b4246a53-8465-4ffc-aa46-976dfd79027d",
   "metadata": {},
   "outputs": [],
   "source": [
    "mrs_by_family = {family: all_mrs_from_transactions(txs) \n",
    "                 for family, txs in txs_by_family.items()}\n",
    "\n",
    "unique_mrs_by_family = {family: set(mrs) \n",
    "                 for family, mrs in mrs_by_family.items()}"
   ]
  },
  {
   "cell_type": "code",
   "execution_count": 70,
   "id": "da42f1f2-4edb-4e43-8d1e-5d12a738041d",
   "metadata": {},
   "outputs": [
    {
     "name": "stdout",
     "output_type": "stream",
     "text": [
      "Building mr_len_df for NEWAnk\n",
      "Building mr_len_df for NEWAnk_SCRAMBLED\n",
      "Building mr_len_df for NEWAnk_nomrs\n"
     ]
    },
    {
     "data": {
      "text/html": [
       "<div>\n",
       "<style scoped>\n",
       "    .dataframe tbody tr th:only-of-type {\n",
       "        vertical-align: middle;\n",
       "    }\n",
       "\n",
       "    .dataframe tbody tr th {\n",
       "        vertical-align: top;\n",
       "    }\n",
       "\n",
       "    .dataframe thead th {\n",
       "        text-align: right;\n",
       "    }\n",
       "</style>\n",
       "<table border=\"1\" class=\"dataframe\">\n",
       "  <thead>\n",
       "    <tr style=\"text-align: right;\">\n",
       "      <th></th>\n",
       "      <th></th>\n",
       "      <th>mr_length</th>\n",
       "    </tr>\n",
       "    <tr>\n",
       "      <th>family</th>\n",
       "      <th>mr_length</th>\n",
       "      <th></th>\n",
       "    </tr>\n",
       "  </thead>\n",
       "  <tbody>\n",
       "    <tr>\n",
       "      <th rowspan=\"2\" valign=\"top\">NEWAnk</th>\n",
       "      <th>4</th>\n",
       "      <td>158105</td>\n",
       "    </tr>\n",
       "    <tr>\n",
       "      <th>5</th>\n",
       "      <td>2</td>\n",
       "    </tr>\n",
       "    <tr>\n",
       "      <th>NEWAnk_SCRAMBLED</th>\n",
       "      <th>4</th>\n",
       "      <td>159639</td>\n",
       "    </tr>\n",
       "    <tr>\n",
       "      <th>NEWAnk_nomrs</th>\n",
       "      <th>4</th>\n",
       "      <td>159450</td>\n",
       "    </tr>\n",
       "  </tbody>\n",
       "</table>\n",
       "</div>"
      ],
      "text/plain": [
       "                            mr_length\n",
       "family           mr_length           \n",
       "NEWAnk           4             158105\n",
       "                 5                  2\n",
       "NEWAnk_SCRAMBLED 4             159639\n",
       "NEWAnk_nomrs     4             159450"
      ]
     },
     "execution_count": 70,
     "metadata": {},
     "output_type": "execute_result"
    }
   ],
   "source": [
    "df_mrs_length = autils.build_mr_len_df(unique_mrs_by_family)\n",
    "df_mrs_length.groupby(['family', 'mr_length']).agg({'mr_length': 'count'})"
   ]
  },
  {
   "cell_type": "code",
   "execution_count": 74,
   "id": "46042237-c44c-4570-af7f-2f5e527519ef",
   "metadata": {},
   "outputs": [],
   "source": [
    "# NEWAnk y NEWAnk_nomrs se ven practicamente iguales, me cuesta encontrar algo en que se diferencien"
   ]
  }
 ],
 "metadata": {
  "kernelspec": {
   "display_name": "Python 3 (ipykernel)",
   "language": "python",
   "name": "python3"
  },
  "language_info": {
   "codemirror_mode": {
    "name": "ipython",
    "version": 3
   },
   "file_extension": ".py",
   "mimetype": "text/x-python",
   "name": "python",
   "nbconvert_exporter": "python",
   "pygments_lexer": "ipython3",
   "version": "3.8.10"
  }
 },
 "nbformat": 4,
 "nbformat_minor": 5
}
