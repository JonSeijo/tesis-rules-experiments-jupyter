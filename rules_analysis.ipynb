{
 "cells": [
  {
   "cell_type": "code",
   "execution_count": 1,
   "id": "86d5f063-4330-4e53-b43a-51fd4dac7f40",
   "metadata": {},
   "outputs": [],
   "source": [
    "import pandas as pd\n",
    "import seaborn as sns\n",
    "\n",
    "sns.set_style(\"whitegrid\")\n",
    "\n",
    "import matplotlib.pyplot as plt"
   ]
  },
  {
   "cell_type": "code",
   "execution_count": 2,
   "id": "67225d74-fcee-4a39-963c-3950e75c37cb",
   "metadata": {},
   "outputs": [],
   "source": [
    "import info_rules as ir\n",
    "import compare_rules as cr"
   ]
  },
  {
   "cell_type": "code",
   "execution_count": 17,
   "id": "bc2222f7-2972-40b4-8197-4d84c05a3581",
   "metadata": {},
   "outputs": [],
   "source": [
    "def load_rules_list(family, min_len, min_support):\n",
    "    rules_path = f\"output/rules/{family}_len{min_len}_ALL_sub_s{min_support}_c0.9.csv\"\n",
    "    print(f\"Reading from path: {rules_path}\")\n",
    "    rules_df = pd.read_csv(rules_path)\n",
    "    rules_list = cr.build_rule_list_from_df(rules_df)\n",
    "    return rules_list"
   ]
  },
  {
   "cell_type": "code",
   "execution_count": 4,
   "id": "e88e3dff-81d9-4050-a224-aa8301721642",
   "metadata": {},
   "outputs": [],
   "source": [
    "rules_newank_len4 = load_rules_list(\"NEWAnk\", \"4\", \"0.025\")\n",
    "rules_tpr1_len4 = load_rules_list(\"TPR1\", \"4\", \"0.025\")\n",
    "rules_lrr1_len4 = load_rules_list(\"LRR1\", \"4\", \"0.025\")"
   ]
  },
  {
   "cell_type": "code",
   "execution_count": 5,
   "id": "00973388-039f-4eb7-9314-51232f0ae07d",
   "metadata": {},
   "outputs": [
    {
     "data": {
      "text/plain": [
       "0"
      ]
     },
     "execution_count": 5,
     "metadata": {},
     "output_type": "execute_result"
    }
   ],
   "source": [
    "intersection = cr.rules_intersection_exact(rules_newank_len4, rules_tpr1_len4)\n",
    "len(intersection)"
   ]
  },
  {
   "cell_type": "code",
   "execution_count": 6,
   "id": "59a060a3-252f-479f-a711-e898072f2b05",
   "metadata": {},
   "outputs": [],
   "source": [
    "# intersection = cr.rules_intersection_exact(rules_newank_len4, rules_lrr1_len4)\n",
    "# len(intersection)\n",
    "# ---> 0"
   ]
  },
  {
   "cell_type": "code",
   "execution_count": 7,
   "id": "c5f1cf71-99ad-4074-ae97-d2e97cb90221",
   "metadata": {},
   "outputs": [
    {
     "data": {
      "text/plain": [
       "0"
      ]
     },
     "execution_count": 7,
     "metadata": {},
     "output_type": "execute_result"
    }
   ],
   "source": [
    "intersection = cr.rules_intersection_exact(rules_tpr1_len4, rules_lrr1_len4)\n",
    "len(intersection)"
   ]
  },
  {
   "cell_type": "code",
   "execution_count": 8,
   "id": "99974124-3edf-4cc2-ad6e-795a3b8542a8",
   "metadata": {},
   "outputs": [],
   "source": [
    "rules_newank_len5 = load_rules_list(\"NEWAnk\", \"5\", \"0.025\")\n",
    "rules_tpr1_len5 = load_rules_list(\"TPR1\", \"5\", \"0.025\")\n",
    "rules_lrr1_len5 = load_rules_list(\"LRR1\", \"5\", \"0.025\")"
   ]
  },
  {
   "cell_type": "code",
   "execution_count": 12,
   "id": "6409559b-52e7-478f-bc27-7cfe96fb211c",
   "metadata": {},
   "outputs": [
    {
     "data": {
      "text/plain": [
       "174"
      ]
     },
     "execution_count": 12,
     "metadata": {},
     "output_type": "execute_result"
    }
   ],
   "source": [
    "len(rules_newank_len5)"
   ]
  },
  {
   "cell_type": "code",
   "execution_count": 11,
   "id": "2cc15268-6444-4a1e-8287-c1be903b2abc",
   "metadata": {},
   "outputs": [
    {
     "data": {
      "text/plain": [
       "3704"
      ]
     },
     "execution_count": 11,
     "metadata": {},
     "output_type": "execute_result"
    }
   ],
   "source": [
    "len(rules_lrr1_len5)"
   ]
  },
  {
   "cell_type": "code",
   "execution_count": 9,
   "id": "36257f0f-3738-4278-bb02-096a1b24a497",
   "metadata": {},
   "outputs": [
    {
     "data": {
      "text/plain": [
       "0"
      ]
     },
     "execution_count": 9,
     "metadata": {},
     "output_type": "execute_result"
    }
   ],
   "source": [
    "intersection = cr.rules_intersection_exact(rules_newank_len5, rules_tpr1_len5)\n",
    "len(intersection)"
   ]
  },
  {
   "cell_type": "code",
   "execution_count": 10,
   "id": "de6eefc6-c0a1-49c6-9d9d-643b2d935232",
   "metadata": {},
   "outputs": [
    {
     "data": {
      "text/plain": [
       "0"
      ]
     },
     "execution_count": 10,
     "metadata": {},
     "output_type": "execute_result"
    }
   ],
   "source": [
    "intersection = cr.rules_intersection_exact(rules_newank_len5, rules_lrr1_len5)\n",
    "len(intersection)"
   ]
  },
  {
   "cell_type": "code",
   "execution_count": 19,
   "id": "1cb6454f-466d-412f-b5dc-194445025993",
   "metadata": {},
   "outputs": [
    {
     "name": "stdout",
     "output_type": "stream",
     "text": [
      "Reading from path: output/rules/NEWAnk_len5_ALL_sub_s0.02_c0.9.csv\n",
      "Reading from path: output/rules/TPR1_len5_ALL_sub_s0.02_c0.9.csv\n",
      "Reading from path: output/rules/LRR1_len5_ALL_sub_s0.02_c0.9.csv\n"
     ]
    }
   ],
   "source": [
    "rules_newank_len5_020 = load_rules_list(\"NEWAnk\", \"5\", \"0.02\")\n",
    "rules_tpr1_len5_020 = load_rules_list(\"TPR1\", \"5\", \"0.02\")\n",
    "rules_lrr1_len5_020 = load_rules_list(\"LRR1\", \"5\", \"0.02\")"
   ]
  },
  {
   "cell_type": "code",
   "execution_count": 20,
   "id": "11a97a77-998f-4fde-bfd2-726570e39616",
   "metadata": {},
   "outputs": [
    {
     "name": "stdout",
     "output_type": "stream",
     "text": [
      "len(rules_newank_len5_020) 311\n",
      "len(rules_tpr1_len5_020) 1\n",
      "len(rules_lrr1_len5_020) 9879\n"
     ]
    }
   ],
   "source": [
    "print(\"len(rules_newank_len5_020)\", len(rules_newank_len5_020))\n",
    "print(\"len(rules_tpr1_len5_020)\", len(rules_tpr1_len5_020))\n",
    "print(\"len(rules_lrr1_len5_020)\", len(rules_lrr1_len5_020))"
   ]
  },
  {
   "cell_type": "code",
   "execution_count": 21,
   "id": "9f2f0f18-3dad-4ea4-bc8b-16356acee710",
   "metadata": {},
   "outputs": [
    {
     "data": {
      "text/plain": [
       "0"
      ]
     },
     "execution_count": 21,
     "metadata": {},
     "output_type": "execute_result"
    }
   ],
   "source": [
    "intersection = cr.rules_intersection_exact(rules_newank_len5_020, rules_tpr1_len5_020)\n",
    "len(intersection)"
   ]
  },
  {
   "cell_type": "code",
   "execution_count": 22,
   "id": "307c8bca-ea59-4c39-9d66-83d470029526",
   "metadata": {},
   "outputs": [
    {
     "data": {
      "text/plain": [
       "0"
      ]
     },
     "execution_count": 22,
     "metadata": {},
     "output_type": "execute_result"
    }
   ],
   "source": [
    "intersection = cr.rules_intersection_exact(rules_newank_len5_020, rules_lrr1_len5_020)\n",
    "len(intersection)"
   ]
  },
  {
   "cell_type": "code",
   "execution_count": 23,
   "id": "40bb8e9b-d364-4781-bd67-62e902e62730",
   "metadata": {},
   "outputs": [
    {
     "data": {
      "text/plain": [
       "0"
      ]
     },
     "execution_count": 23,
     "metadata": {},
     "output_type": "execute_result"
    }
   ],
   "source": [
    "intersection = cr.rules_intersection_exact(rules_tpr1_len5_020, rules_lrr1_len5_020)\n",
    "len(intersection)"
   ]
  },
  {
   "cell_type": "code",
   "execution_count": 28,
   "id": "30824e00-b71d-49f3-a1e9-27a6c15c42d5",
   "metadata": {},
   "outputs": [
    {
     "name": "stdout",
     "output_type": "stream",
     "text": [
      "Reading from path: output/rules/NEWAnk_len5_ALL_sub_s0.015_c0.9.csv\n",
      "Reading from path: output/rules/TPR1_len5_ALL_sub_s0.015_c0.9.csv\n",
      "Reading from path: output/rules/LRR1_len5_ALL_sub_s0.015_c0.9.csv\n"
     ]
    }
   ],
   "source": [
    "rules_newank_len5_015 = load_rules_list(\"NEWAnk\", \"5\", \"0.015\")\n",
    "rules_tpr1_len5_015 = load_rules_list(\"TPR1\", \"5\", \"0.015\")\n",
    "rules_lrr1_len5_015 = load_rules_list(\"LRR1\", \"5\", \"0.015\")"
   ]
  },
  {
   "cell_type": "code",
   "execution_count": 29,
   "id": "2c7e9dda-2a92-49eb-97da-7b257284a4fa",
   "metadata": {},
   "outputs": [
    {
     "name": "stdout",
     "output_type": "stream",
     "text": [
      "len(rules_newank_len5_015) 1192\n",
      "len(rules_tpr1_len5_015) 13\n",
      "len(rules_lrr1_len5_015) 35390\n"
     ]
    }
   ],
   "source": [
    "print(\"len(rules_newank_len5_015)\", len(rules_newank_len5_015))\n",
    "print(\"len(rules_tpr1_len5_015)\", len(rules_tpr1_len5_015))\n",
    "print(\"len(rules_lrr1_len5_015)\", len(rules_lrr1_len5_015))"
   ]
  },
  {
   "cell_type": "code",
   "execution_count": 30,
   "id": "b55d3263-3be8-45df-aa02-c32ed21b42d9",
   "metadata": {},
   "outputs": [
    {
     "data": {
      "text/plain": [
       "0"
      ]
     },
     "execution_count": 30,
     "metadata": {},
     "output_type": "execute_result"
    }
   ],
   "source": [
    "intersection = cr.rules_intersection_exact(rules_newank_len5_015, rules_tpr1_len5_015)\n",
    "len(intersection)"
   ]
  },
  {
   "cell_type": "code",
   "execution_count": 31,
   "id": "2c367b6e-e538-4732-981a-2f51ac0b72a8",
   "metadata": {},
   "outputs": [
    {
     "data": {
      "text/plain": [
       "0"
      ]
     },
     "execution_count": 31,
     "metadata": {},
     "output_type": "execute_result"
    }
   ],
   "source": [
    "intersection = cr.rules_intersection_exact(rules_newank_len5_015, rules_lrr1_len5_015)\n",
    "len(intersection)"
   ]
  },
  {
   "cell_type": "code",
   "execution_count": 32,
   "id": "519a9f5f-0219-4936-bca0-3e71dccd2b99",
   "metadata": {},
   "outputs": [
    {
     "data": {
      "text/plain": [
       "0"
      ]
     },
     "execution_count": 32,
     "metadata": {},
     "output_type": "execute_result"
    }
   ],
   "source": [
    "intersection = cr.rules_intersection_exact(rules_tpr1_len5_015, rules_lrr1_len5_015)\n",
    "len(intersection)"
   ]
  },
  {
   "cell_type": "code",
   "execution_count": null,
   "id": "195d07f2-605f-4669-9bc1-c3bae7399e2a",
   "metadata": {},
   "outputs": [],
   "source": []
  },
  {
   "cell_type": "code",
   "execution_count": null,
   "id": "dccf5760-b49d-47a3-af7b-1c39fc6955dd",
   "metadata": {},
   "outputs": [],
   "source": []
  },
  {
   "cell_type": "code",
   "execution_count": null,
   "id": "c03d1fd1-a47d-45c0-a202-686241dc8d9b",
   "metadata": {},
   "outputs": [],
   "source": []
  },
  {
   "cell_type": "code",
   "execution_count": null,
   "id": "6bf224bc-f76a-48df-abe2-2fdee687fd9e",
   "metadata": {},
   "outputs": [],
   "source": [
    "rules_path = \"output/rules/NEWAnk_len4_ALL_sub_s0.025_c0.9.csv\"\n",
    "df_rules = ir.build_df_rules_from_path(rules_path)"
   ]
  },
  {
   "cell_type": "code",
   "execution_count": 4,
   "id": "2fd3f65c-3f23-481e-afe5-c99bcb49b5d9",
   "metadata": {},
   "outputs": [
    {
     "data": {
      "text/html": [
       "<div>\n",
       "<style scoped>\n",
       "    .dataframe tbody tr th:only-of-type {\n",
       "        vertical-align: middle;\n",
       "    }\n",
       "\n",
       "    .dataframe tbody tr th {\n",
       "        vertical-align: top;\n",
       "    }\n",
       "\n",
       "    .dataframe thead th {\n",
       "        text-align: right;\n",
       "    }\n",
       "</style>\n",
       "<table border=\"1\" class=\"dataframe\">\n",
       "  <thead>\n",
       "    <tr style=\"text-align: right;\">\n",
       "      <th></th>\n",
       "      <th>rules</th>\n",
       "      <th>support</th>\n",
       "      <th>confidence</th>\n",
       "      <th>coverage</th>\n",
       "      <th>lift</th>\n",
       "      <th>count</th>\n",
       "      <th>consequent</th>\n",
       "      <th>rule_size</th>\n",
       "      <th>ruletype</th>\n",
       "      <th>ruletype_simple</th>\n",
       "    </tr>\n",
       "  </thead>\n",
       "  <tbody>\n",
       "    <tr>\n",
       "      <th>0</th>\n",
       "      <td>{HYAC} =&gt; {LHYA}</td>\n",
       "      <td>0.026485</td>\n",
       "      <td>0.932166</td>\n",
       "      <td>0.028412</td>\n",
       "      <td>3.953442</td>\n",
       "      <td>852</td>\n",
       "      <td>LHYA</td>\n",
       "      <td>2</td>\n",
       "      <td>Agrega +L</td>\n",
       "      <td>Agrega</td>\n",
       "    </tr>\n",
       "    <tr>\n",
       "      <th>1</th>\n",
       "      <td>{PLHD} =&gt; {TPLH}</td>\n",
       "      <td>0.030557</td>\n",
       "      <td>0.905991</td>\n",
       "      <td>0.033728</td>\n",
       "      <td>1.522956</td>\n",
       "      <td>983</td>\n",
       "      <td>TPLH</td>\n",
       "      <td>2</td>\n",
       "      <td>Agrega +T</td>\n",
       "      <td>Agrega</td>\n",
       "    </tr>\n",
       "    <tr>\n",
       "      <th>2</th>\n",
       "      <td>{ALHM} =&gt; {TALH}</td>\n",
       "      <td>0.034225</td>\n",
       "      <td>0.913693</td>\n",
       "      <td>0.037458</td>\n",
       "      <td>1.706688</td>\n",
       "      <td>1101</td>\n",
       "      <td>TALH</td>\n",
       "      <td>2</td>\n",
       "      <td>Agrega +T</td>\n",
       "      <td>Agrega</td>\n",
       "    </tr>\n",
       "    <tr>\n",
       "      <th>3</th>\n",
       "      <td>{PLHM} =&gt; {TPLH}</td>\n",
       "      <td>0.033728</td>\n",
       "      <td>0.915612</td>\n",
       "      <td>0.036837</td>\n",
       "      <td>1.539129</td>\n",
       "      <td>1085</td>\n",
       "      <td>TPLH</td>\n",
       "      <td>2</td>\n",
       "      <td>Agrega +T</td>\n",
       "      <td>Agrega</td>\n",
       "    </tr>\n",
       "    <tr>\n",
       "      <th>4</th>\n",
       "      <td>{PLHT} =&gt; {TPLH}</td>\n",
       "      <td>0.035997</td>\n",
       "      <td>0.930868</td>\n",
       "      <td>0.038671</td>\n",
       "      <td>1.564775</td>\n",
       "      <td>1158</td>\n",
       "      <td>TPLH</td>\n",
       "      <td>2</td>\n",
       "      <td>N/A</td>\n",
       "      <td>N/A</td>\n",
       "    </tr>\n",
       "  </tbody>\n",
       "</table>\n",
       "</div>"
      ],
      "text/plain": [
       "              rules   support  confidence  coverage      lift  count  \\\n",
       "0  {HYAC} => {LHYA}  0.026485    0.932166  0.028412  3.953442    852   \n",
       "1  {PLHD} => {TPLH}  0.030557    0.905991  0.033728  1.522956    983   \n",
       "2  {ALHM} => {TALH}  0.034225    0.913693  0.037458  1.706688   1101   \n",
       "3  {PLHM} => {TPLH}  0.033728    0.915612  0.036837  1.539129   1085   \n",
       "4  {PLHT} => {TPLH}  0.035997    0.930868  0.038671  1.564775   1158   \n",
       "\n",
       "  consequent  rule_size   ruletype ruletype_simple  \n",
       "0       LHYA          2  Agrega +L          Agrega  \n",
       "1       TPLH          2  Agrega +T          Agrega  \n",
       "2       TALH          2  Agrega +T          Agrega  \n",
       "3       TPLH          2  Agrega +T          Agrega  \n",
       "4       TPLH          2        N/A             N/A  "
      ]
     },
     "execution_count": 4,
     "metadata": {},
     "output_type": "execute_result"
    }
   ],
   "source": [
    "df_rules.head()"
   ]
  },
  {
   "cell_type": "code",
   "execution_count": 5,
   "id": "97f8d1b3-41bb-485e-a12a-6f610d65864b",
   "metadata": {},
   "outputs": [],
   "source": [
    "# Como es la distribucion de clasificaciones?"
   ]
  },
  {
   "cell_type": "code",
   "execution_count": 6,
   "id": "dd54381a-a941-4ca6-87fe-1d179e52248a",
   "metadata": {},
   "outputs": [
    {
     "data": {
      "text/plain": [
       "<AxesSubplot:xlabel='ruletype_simple', ylabel='count'>"
      ]
     },
     "execution_count": 6,
     "metadata": {},
     "output_type": "execute_result"
    },
    {
     "data": {
      "image/png": "[encoded data removed]",
      "text/plain": [
       "<Figure size 432x288 with 1 Axes>"
      ]
     },
     "metadata": {
      "needs_background": "light"
     },
     "output_type": "display_data"
    }
   ],
   "source": [
    "sns.countplot(x=\"ruletype_simple\", data=df_rules)"
   ]
  },
  {
   "cell_type": "code",
   "execution_count": 7,
   "id": "edbe5f48-b741-4aff-88eb-b7472e0d1081",
   "metadata": {},
   "outputs": [
    {
     "data": {
      "text/plain": [
       "<AxesSubplot:xlabel='rule_size', ylabel='count'>"
      ]
     },
     "execution_count": 7,
     "metadata": {},
     "output_type": "execute_result"
    },
    {
     "data": {
      "image/png": "[encoded data removed]",
      "text/plain": [
       "<Figure size 432x288 with 1 Axes>"
      ]
     },
     "metadata": {
      "needs_background": "light"
     },
     "output_type": "display_data"
    }
   ],
   "source": [
    "sns.countplot(x=\"rule_size\", data=df_rules)"
   ]
  },
  {
   "cell_type": "code",
   "execution_count": 8,
   "id": "8ed8e915-27f1-455e-89a1-5d5d794866e9",
   "metadata": {},
   "outputs": [
    {
     "data": {
      "text/plain": [
       "<AxesSubplot:xlabel='count', ylabel='ruletype'>"
      ]
     },
     "execution_count": 8,
     "metadata": {},
     "output_type": "execute_result"
    },
    {
     "data": {
      "image/png": "[encoded data removed]",
      "text/plain": [
       "<Figure size 432x288 with 1 Axes>"
      ]
     },
     "metadata": {
      "needs_background": "light"
     },
     "output_type": "display_data"
    }
   ],
   "source": [
    "sns.countplot(y=\"ruletype\", data=df_rules)"
   ]
  },
  {
   "cell_type": "code",
   "execution_count": 9,
   "id": "6a5c063a-6b27-49ae-9be0-74ae0ca6f112",
   "metadata": {},
   "outputs": [
    {
     "data": {
      "text/plain": [
       "<AxesSubplot:xlabel='count', ylabel='consequent'>"
      ]
     },
     "execution_count": 9,
     "metadata": {},
     "output_type": "execute_result"
    },
    {
     "data": {
      "image/png": "[encoded data removed]",
      "text/plain": [
       "<Figure size 864x1080 with 1 Axes>"
      ]
     },
     "metadata": {
      "needs_background": "light"
     },
     "output_type": "display_data"
    }
   ],
   "source": [
    "plt.figure(figsize=(12,15))\n",
    "sns.countplot(y=\"consequent\", \n",
    "             data=df_rules,\n",
    "             order = df_rules['consequent'].value_counts(ascending=True).index)"
   ]
  },
  {
   "cell_type": "code",
   "execution_count": 10,
   "id": "ffc6646e-519f-4e28-9608-b5b6f3f93e1e",
   "metadata": {},
   "outputs": [
    {
     "data": {
      "text/html": [
       "<div>\n",
       "<style scoped>\n",
       "    .dataframe tbody tr th:only-of-type {\n",
       "        vertical-align: middle;\n",
       "    }\n",
       "\n",
       "    .dataframe tbody tr th {\n",
       "        vertical-align: top;\n",
       "    }\n",
       "\n",
       "    .dataframe thead th {\n",
       "        text-align: right;\n",
       "    }\n",
       "</style>\n",
       "<table border=\"1\" class=\"dataframe\">\n",
       "  <thead>\n",
       "    <tr style=\"text-align: right;\">\n",
       "      <th></th>\n",
       "      <th>support</th>\n",
       "      <th>confidence</th>\n",
       "      <th>coverage</th>\n",
       "      <th>lift</th>\n",
       "      <th>count</th>\n",
       "      <th>rule_size</th>\n",
       "    </tr>\n",
       "  </thead>\n",
       "  <tbody>\n",
       "    <tr>\n",
       "      <th>count</th>\n",
       "      <td>4888.000000</td>\n",
       "      <td>4888.000000</td>\n",
       "      <td>4888.000000</td>\n",
       "      <td>4888.000000</td>\n",
       "      <td>4888.000000</td>\n",
       "      <td>4888.000000</td>\n",
       "    </tr>\n",
       "    <tr>\n",
       "      <th>mean</th>\n",
       "      <td>0.036210</td>\n",
       "      <td>0.945762</td>\n",
       "      <td>0.038351</td>\n",
       "      <td>2.843419</td>\n",
       "      <td>1164.838993</td>\n",
       "      <td>4.055033</td>\n",
       "    </tr>\n",
       "    <tr>\n",
       "      <th>std</th>\n",
       "      <td>0.016628</td>\n",
       "      <td>0.028037</td>\n",
       "      <td>0.017829</td>\n",
       "      <td>2.212209</td>\n",
       "      <td>534.909239</td>\n",
       "      <td>0.859259</td>\n",
       "    </tr>\n",
       "    <tr>\n",
       "      <th>min</th>\n",
       "      <td>0.025024</td>\n",
       "      <td>0.900000</td>\n",
       "      <td>0.025086</td>\n",
       "      <td>1.512886</td>\n",
       "      <td>805.000000</td>\n",
       "      <td>2.000000</td>\n",
       "    </tr>\n",
       "    <tr>\n",
       "      <th>25%</th>\n",
       "      <td>0.027542</td>\n",
       "      <td>0.922771</td>\n",
       "      <td>0.029034</td>\n",
       "      <td>1.701966</td>\n",
       "      <td>886.000000</td>\n",
       "      <td>3.000000</td>\n",
       "    </tr>\n",
       "    <tr>\n",
       "      <th>50%</th>\n",
       "      <td>0.030993</td>\n",
       "      <td>0.943273</td>\n",
       "      <td>0.032827</td>\n",
       "      <td>2.129266</td>\n",
       "      <td>997.000000</td>\n",
       "      <td>4.000000</td>\n",
       "    </tr>\n",
       "    <tr>\n",
       "      <th>75%</th>\n",
       "      <td>0.038982</td>\n",
       "      <td>0.966748</td>\n",
       "      <td>0.041220</td>\n",
       "      <td>2.662183</td>\n",
       "      <td>1254.000000</td>\n",
       "      <td>5.000000</td>\n",
       "    </tr>\n",
       "    <tr>\n",
       "      <th>max</th>\n",
       "      <td>0.277534</td>\n",
       "      <td>1.000000</td>\n",
       "      <td>0.297958</td>\n",
       "      <td>25.998122</td>\n",
       "      <td>8928.000000</td>\n",
       "      <td>7.000000</td>\n",
       "    </tr>\n",
       "  </tbody>\n",
       "</table>\n",
       "</div>"
      ],
      "text/plain": [
       "           support   confidence     coverage         lift        count  \\\n",
       "count  4888.000000  4888.000000  4888.000000  4888.000000  4888.000000   \n",
       "mean      0.036210     0.945762     0.038351     2.843419  1164.838993   \n",
       "std       0.016628     0.028037     0.017829     2.212209   534.909239   \n",
       "min       0.025024     0.900000     0.025086     1.512886   805.000000   \n",
       "25%       0.027542     0.922771     0.029034     1.701966   886.000000   \n",
       "50%       0.030993     0.943273     0.032827     2.129266   997.000000   \n",
       "75%       0.038982     0.966748     0.041220     2.662183  1254.000000   \n",
       "max       0.277534     1.000000     0.297958    25.998122  8928.000000   \n",
       "\n",
       "         rule_size  \n",
       "count  4888.000000  \n",
       "mean      4.055033  \n",
       "std       0.859259  \n",
       "min       2.000000  \n",
       "25%       3.000000  \n",
       "50%       4.000000  \n",
       "75%       5.000000  \n",
       "max       7.000000  "
      ]
     },
     "execution_count": 10,
     "metadata": {},
     "output_type": "execute_result"
    }
   ],
   "source": [
    "df_rules.describe()"
   ]
  },
  {
   "cell_type": "code",
   "execution_count": 11,
   "id": "58c4fe16-5ff6-428c-aa31-d2a154affbf3",
   "metadata": {},
   "outputs": [
    {
     "data": {
      "text/html": [
       "<div>\n",
       "<style scoped>\n",
       "    .dataframe tbody tr th:only-of-type {\n",
       "        vertical-align: middle;\n",
       "    }\n",
       "\n",
       "    .dataframe tbody tr th {\n",
       "        vertical-align: top;\n",
       "    }\n",
       "\n",
       "    .dataframe thead th {\n",
       "        text-align: right;\n",
       "    }\n",
       "</style>\n",
       "<table border=\"1\" class=\"dataframe\">\n",
       "  <thead>\n",
       "    <tr style=\"text-align: right;\">\n",
       "      <th></th>\n",
       "      <th>rules</th>\n",
       "      <th>support</th>\n",
       "      <th>confidence</th>\n",
       "      <th>coverage</th>\n",
       "      <th>lift</th>\n",
       "      <th>count</th>\n",
       "      <th>consequent</th>\n",
       "      <th>rule_size</th>\n",
       "      <th>ruletype</th>\n",
       "      <th>ruletype_simple</th>\n",
       "    </tr>\n",
       "  </thead>\n",
       "  <tbody>\n",
       "    <tr>\n",
       "      <th>653</th>\n",
       "      <td>{HAAA,HVAA} =&gt; {TPLH}</td>\n",
       "      <td>0.026858</td>\n",
       "      <td>0.901879</td>\n",
       "      <td>0.02978</td>\n",
       "      <td>1.516044</td>\n",
       "      <td>864</td>\n",
       "      <td>TPLH</td>\n",
       "      <td>3</td>\n",
       "      <td>Agrega +TPL</td>\n",
       "      <td>Agrega</td>\n",
       "    </tr>\n",
       "  </tbody>\n",
       "</table>\n",
       "</div>"
      ],
      "text/plain": [
       "                     rules   support  confidence  coverage      lift  count  \\\n",
       "653  {HAAA,HVAA} => {TPLH}  0.026858    0.901879   0.02978  1.516044    864   \n",
       "\n",
       "    consequent  rule_size     ruletype ruletype_simple  \n",
       "653       TPLH          3  Agrega +TPL          Agrega  "
      ]
     },
     "execution_count": 11,
     "metadata": {},
     "output_type": "execute_result"
    }
   ],
   "source": [
    "df_rules[df_rules.ruletype == \"Agrega +TPL\"]\n",
    "# Lift es cercano a 1, la regla existe porque TPLH aparece demasiado "
   ]
  },
  {
   "cell_type": "code",
   "execution_count": 12,
   "id": "90e71779-9f0a-431a-98c5-75560822de33",
   "metadata": {},
   "outputs": [
    {
     "data": {
      "text/plain": [
       "<AxesSubplot:ylabel='Frequency'>"
      ]
     },
     "execution_count": 12,
     "metadata": {},
     "output_type": "execute_result"
    },
    {
     "data": {
      "image/png": "[encoded data removed]",
      "text/plain": [
       "<Figure size 432x288 with 1 Axes>"
      ]
     },
     "metadata": {
      "needs_background": "light"
     },
     "output_type": "display_data"
    }
   ],
   "source": [
    "df_rules.lift.plot.hist()"
   ]
  },
  {
   "cell_type": "code",
   "execution_count": 13,
   "id": "8ce6c9ab-56b0-46a2-aca2-e1a62c85c1e2",
   "metadata": {},
   "outputs": [],
   "source": [
    "df_lift_alto = df_rules[df_rules.lift >= 5].sort_values(\"lift\", ascending=False)"
   ]
  },
  {
   "cell_type": "code",
   "execution_count": 14,
   "id": "57145163-5fb2-4a21-93cc-b0213351a7e5",
   "metadata": {},
   "outputs": [
    {
     "data": {
      "text/html": [
       "<div>\n",
       "<style scoped>\n",
       "    .dataframe tbody tr th:only-of-type {\n",
       "        vertical-align: middle;\n",
       "    }\n",
       "\n",
       "    .dataframe tbody tr th {\n",
       "        vertical-align: top;\n",
       "    }\n",
       "\n",
       "    .dataframe thead th {\n",
       "        text-align: right;\n",
       "    }\n",
       "</style>\n",
       "<table border=\"1\" class=\"dataframe\">\n",
       "  <thead>\n",
       "    <tr style=\"text-align: right;\">\n",
       "      <th></th>\n",
       "      <th>support</th>\n",
       "      <th>confidence</th>\n",
       "      <th>coverage</th>\n",
       "      <th>lift</th>\n",
       "      <th>count</th>\n",
       "      <th>rule_size</th>\n",
       "    </tr>\n",
       "  </thead>\n",
       "  <tbody>\n",
       "    <tr>\n",
       "      <th>count</th>\n",
       "      <td>584.000000</td>\n",
       "      <td>584.000000</td>\n",
       "      <td>584.000000</td>\n",
       "      <td>584.000000</td>\n",
       "      <td>584.000000</td>\n",
       "      <td>584.000000</td>\n",
       "    </tr>\n",
       "    <tr>\n",
       "      <th>mean</th>\n",
       "      <td>0.034373</td>\n",
       "      <td>0.938922</td>\n",
       "      <td>0.036666</td>\n",
       "      <td>7.690050</td>\n",
       "      <td>1105.734589</td>\n",
       "      <td>3.791096</td>\n",
       "    </tr>\n",
       "    <tr>\n",
       "      <th>std</th>\n",
       "      <td>0.012455</td>\n",
       "      <td>0.025340</td>\n",
       "      <td>0.013523</td>\n",
       "      <td>3.230456</td>\n",
       "      <td>400.665809</td>\n",
       "      <td>0.779798</td>\n",
       "    </tr>\n",
       "    <tr>\n",
       "      <th>min</th>\n",
       "      <td>0.025024</td>\n",
       "      <td>0.900110</td>\n",
       "      <td>0.025242</td>\n",
       "      <td>5.014272</td>\n",
       "      <td>805.000000</td>\n",
       "      <td>2.000000</td>\n",
       "    </tr>\n",
       "    <tr>\n",
       "      <th>25%</th>\n",
       "      <td>0.027130</td>\n",
       "      <td>0.917913</td>\n",
       "      <td>0.028809</td>\n",
       "      <td>5.651054</td>\n",
       "      <td>872.750000</td>\n",
       "      <td>3.000000</td>\n",
       "    </tr>\n",
       "    <tr>\n",
       "      <th>50%</th>\n",
       "      <td>0.029500</td>\n",
       "      <td>0.936324</td>\n",
       "      <td>0.031474</td>\n",
       "      <td>6.671202</td>\n",
       "      <td>949.000000</td>\n",
       "      <td>4.000000</td>\n",
       "    </tr>\n",
       "    <tr>\n",
       "      <th>75%</th>\n",
       "      <td>0.036510</td>\n",
       "      <td>0.956250</td>\n",
       "      <td>0.038679</td>\n",
       "      <td>8.330360</td>\n",
       "      <td>1174.500000</td>\n",
       "      <td>4.000000</td>\n",
       "    </tr>\n",
       "    <tr>\n",
       "      <th>max</th>\n",
       "      <td>0.123255</td>\n",
       "      <td>0.998785</td>\n",
       "      <td>0.135565</td>\n",
       "      <td>25.998122</td>\n",
       "      <td>3965.000000</td>\n",
       "      <td>7.000000</td>\n",
       "    </tr>\n",
       "  </tbody>\n",
       "</table>\n",
       "</div>"
      ],
      "text/plain": [
       "          support  confidence    coverage        lift        count   rule_size\n",
       "count  584.000000  584.000000  584.000000  584.000000   584.000000  584.000000\n",
       "mean     0.034373    0.938922    0.036666    7.690050  1105.734589    3.791096\n",
       "std      0.012455    0.025340    0.013523    3.230456   400.665809    0.779798\n",
       "min      0.025024    0.900110    0.025242    5.014272   805.000000    2.000000\n",
       "25%      0.027130    0.917913    0.028809    5.651054   872.750000    3.000000\n",
       "50%      0.029500    0.936324    0.031474    6.671202   949.000000    4.000000\n",
       "75%      0.036510    0.956250    0.038679    8.330360  1174.500000    4.000000\n",
       "max      0.123255    0.998785    0.135565   25.998122  3965.000000    7.000000"
      ]
     },
     "execution_count": 14,
     "metadata": {},
     "output_type": "execute_result"
    }
   ],
   "source": [
    "df_lift_alto.describe()"
   ]
  },
  {
   "cell_type": "code",
   "execution_count": 15,
   "id": "2efa5990-575b-4f6b-afa1-5a2bffff14e3",
   "metadata": {},
   "outputs": [
    {
     "data": {
      "text/plain": [
       "<AxesSubplot:xlabel='rule_size', ylabel='count'>"
      ]
     },
     "execution_count": 15,
     "metadata": {},
     "output_type": "execute_result"
    },
    {
     "data": {
      "image/png": "[encoded data removed]",
      "text/plain": [
       "<Figure size 432x288 with 1 Axes>"
      ]
     },
     "metadata": {
      "needs_background": "light"
     },
     "output_type": "display_data"
    }
   ],
   "source": [
    "# Sigo teniendo la misma distribucion de longitudes despues de filtrar por lift alto\n",
    "sns.countplot(x=\"rule_size\", data=df_lift_alto)"
   ]
  },
  {
   "cell_type": "code",
   "execution_count": 16,
   "id": "9f4819d0-ee6d-4aa9-8008-0a9017b43877",
   "metadata": {},
   "outputs": [
    {
     "data": {
      "text/plain": [
       "<AxesSubplot:xlabel='count', ylabel='ruletype'>"
      ]
     },
     "execution_count": 16,
     "metadata": {},
     "output_type": "execute_result"
    },
    {
     "data": {
      "image/png": "[encoded data removed]",
      "text/plain": [
       "<Figure size 432x288 with 1 Axes>"
      ]
     },
     "metadata": {
      "needs_background": "light"
     },
     "output_type": "display_data"
    }
   ],
   "source": [
    "sns.countplot(y=\"ruletype\", data=df_lift_alto)"
   ]
  },
  {
   "cell_type": "code",
   "execution_count": 17,
   "id": "792dbda1-78f3-4306-93a1-ca1996f71d58",
   "metadata": {},
   "outputs": [
    {
     "data": {
      "text/plain": [
       "<AxesSubplot:xlabel='count', ylabel='consequent'>"
      ]
     },
     "execution_count": 17,
     "metadata": {},
     "output_type": "execute_result"
    },
    {
     "data": {
      "image/png": "[encoded data removed]",
      "text/plain": [
       "<Figure size 864x1080 with 1 Axes>"
      ]
     },
     "metadata": {
      "needs_background": "light"
     },
     "output_type": "display_data"
    }
   ],
   "source": [
    "plt.figure(figsize=(12,15))\n",
    "sns.countplot(y=\"consequent\", \n",
    "             data=df_lift_alto,\n",
    "             order = df_lift_alto['consequent'].value_counts(ascending=True).index)\n",
    "\n",
    "# Interesante!\n",
    "# Habiendo filtrado el lift, TPLH, LHLA, TALH, .. NO aparecen entre los consecuentes de las reglas!\n",
    "# Los consecuentes de mayor relevancia son otros"
   ]
  },
  {
   "cell_type": "code",
   "execution_count": 18,
   "id": "1b2ea87d-efc3-4e8d-878b-2d13f57ef070",
   "metadata": {},
   "outputs": [],
   "source": [
    "# Puede ser que los N/A sean las reglas mas \"interesantes\"?"
   ]
  },
  {
   "cell_type": "code",
   "execution_count": 19,
   "id": "2a18a44a-0fbb-4402-b733-4218fee734d0",
   "metadata": {},
   "outputs": [
    {
     "data": {
      "text/html": [
       "<div>\n",
       "<style scoped>\n",
       "    .dataframe tbody tr th:only-of-type {\n",
       "        vertical-align: middle;\n",
       "    }\n",
       "\n",
       "    .dataframe tbody tr th {\n",
       "        vertical-align: top;\n",
       "    }\n",
       "\n",
       "    .dataframe thead th {\n",
       "        text-align: right;\n",
       "    }\n",
       "</style>\n",
       "<table border=\"1\" class=\"dataframe\">\n",
       "  <thead>\n",
       "    <tr style=\"text-align: right;\">\n",
       "      <th></th>\n",
       "      <th>rules</th>\n",
       "      <th>support</th>\n",
       "      <th>confidence</th>\n",
       "      <th>coverage</th>\n",
       "      <th>lift</th>\n",
       "      <th>count</th>\n",
       "      <th>consequent</th>\n",
       "      <th>rule_size</th>\n",
       "      <th>ruletype</th>\n",
       "      <th>ruletype_simple</th>\n",
       "    </tr>\n",
       "  </thead>\n",
       "  <tbody>\n",
       "    <tr>\n",
       "      <th>132</th>\n",
       "      <td>{ALDE,LDEC} =&gt; {DALD}</td>\n",
       "      <td>0.027169</td>\n",
       "      <td>0.970033</td>\n",
       "      <td>0.028008</td>\n",
       "      <td>16.616082</td>\n",
       "      <td>874</td>\n",
       "      <td>DALD</td>\n",
       "      <td>3</td>\n",
       "      <td>N/A</td>\n",
       "      <td>N/A</td>\n",
       "    </tr>\n",
       "    <tr>\n",
       "      <th>56</th>\n",
       "      <td>{GCTP,TALH} =&gt; {CTPL}</td>\n",
       "      <td>0.026827</td>\n",
       "      <td>0.909378</td>\n",
       "      <td>0.029500</td>\n",
       "      <td>14.403639</td>\n",
       "      <td>863</td>\n",
       "      <td>CTPL</td>\n",
       "      <td>3</td>\n",
       "      <td>N/A</td>\n",
       "      <td>N/A</td>\n",
       "    </tr>\n",
       "    <tr>\n",
       "      <th>1344</th>\n",
       "      <td>{LHLA,PLHC,TPLH} =&gt; {LHCA}</td>\n",
       "      <td>0.032174</td>\n",
       "      <td>0.923283</td>\n",
       "      <td>0.034847</td>\n",
       "      <td>10.524835</td>\n",
       "      <td>1035</td>\n",
       "      <td>LHCA</td>\n",
       "      <td>4</td>\n",
       "      <td>N/A</td>\n",
       "      <td>N/A</td>\n",
       "    </tr>\n",
       "    <tr>\n",
       "      <th>62</th>\n",
       "      <td>{LHLA,PLHC} =&gt; {LHCA}</td>\n",
       "      <td>0.033137</td>\n",
       "      <td>0.922944</td>\n",
       "      <td>0.035904</td>\n",
       "      <td>10.520970</td>\n",
       "      <td>1066</td>\n",
       "      <td>LHCA</td>\n",
       "      <td>3</td>\n",
       "      <td>N/A</td>\n",
       "      <td>N/A</td>\n",
       "    </tr>\n",
       "    <tr>\n",
       "      <th>1346</th>\n",
       "      <td>{PLHC,TALH,TPLH} =&gt; {LHCA}</td>\n",
       "      <td>0.029003</td>\n",
       "      <td>0.919212</td>\n",
       "      <td>0.031552</td>\n",
       "      <td>10.478428</td>\n",
       "      <td>933</td>\n",
       "      <td>LHCA</td>\n",
       "      <td>4</td>\n",
       "      <td>N/A</td>\n",
       "      <td>N/A</td>\n",
       "    </tr>\n",
       "    <tr>\n",
       "      <th>...</th>\n",
       "      <td>...</td>\n",
       "      <td>...</td>\n",
       "      <td>...</td>\n",
       "      <td>...</td>\n",
       "      <td>...</td>\n",
       "      <td>...</td>\n",
       "      <td>...</td>\n",
       "      <td>...</td>\n",
       "      <td>...</td>\n",
       "      <td>...</td>\n",
       "    </tr>\n",
       "    <tr>\n",
       "      <th>2046</th>\n",
       "      <td>{HLAA,LEAG,TPLH} =&gt; {LLEA}</td>\n",
       "      <td>0.026951</td>\n",
       "      <td>0.900312</td>\n",
       "      <td>0.029936</td>\n",
       "      <td>5.205270</td>\n",
       "      <td>867</td>\n",
       "      <td>LLEA</td>\n",
       "      <td>4</td>\n",
       "      <td>N/A</td>\n",
       "      <td>N/A</td>\n",
       "    </tr>\n",
       "    <tr>\n",
       "      <th>3700</th>\n",
       "      <td>{HLAA,LEAG,LHLA,TPLH} =&gt; {LLEA}</td>\n",
       "      <td>0.025490</td>\n",
       "      <td>0.900110</td>\n",
       "      <td>0.028319</td>\n",
       "      <td>5.204103</td>\n",
       "      <td>820</td>\n",
       "      <td>LLEA</td>\n",
       "      <td>5</td>\n",
       "      <td>N/A</td>\n",
       "      <td>N/A</td>\n",
       "    </tr>\n",
       "    <tr>\n",
       "      <th>1093</th>\n",
       "      <td>{GNTA,HLAA} =&gt; {NTAL}</td>\n",
       "      <td>0.047406</td>\n",
       "      <td>0.903972</td>\n",
       "      <td>0.052442</td>\n",
       "      <td>5.178960</td>\n",
       "      <td>1525</td>\n",
       "      <td>NTAL</td>\n",
       "      <td>3</td>\n",
       "      <td>N/A</td>\n",
       "      <td>N/A</td>\n",
       "    </tr>\n",
       "    <tr>\n",
       "      <th>854</th>\n",
       "      <td>{GNTA,KTAL} =&gt; {NTAL}</td>\n",
       "      <td>0.026330</td>\n",
       "      <td>0.902985</td>\n",
       "      <td>0.029159</td>\n",
       "      <td>5.173308</td>\n",
       "      <td>847</td>\n",
       "      <td>NTAL</td>\n",
       "      <td>3</td>\n",
       "      <td>N/A</td>\n",
       "      <td>N/A</td>\n",
       "    </tr>\n",
       "    <tr>\n",
       "      <th>1087</th>\n",
       "      <td>{GNTA,NTPL} =&gt; {NTAL}</td>\n",
       "      <td>0.029127</td>\n",
       "      <td>0.902697</td>\n",
       "      <td>0.032267</td>\n",
       "      <td>5.171661</td>\n",
       "      <td>937</td>\n",
       "      <td>NTAL</td>\n",
       "      <td>3</td>\n",
       "      <td>N/A</td>\n",
       "      <td>N/A</td>\n",
       "    </tr>\n",
       "  </tbody>\n",
       "</table>\n",
       "<p>108 rows × 10 columns</p>\n",
       "</div>"
      ],
      "text/plain": [
       "                                rules   support  confidence  coverage  \\\n",
       "132             {ALDE,LDEC} => {DALD}  0.027169    0.970033  0.028008   \n",
       "56              {GCTP,TALH} => {CTPL}  0.026827    0.909378  0.029500   \n",
       "1344       {LHLA,PLHC,TPLH} => {LHCA}  0.032174    0.923283  0.034847   \n",
       "62              {LHLA,PLHC} => {LHCA}  0.033137    0.922944  0.035904   \n",
       "1346       {PLHC,TALH,TPLH} => {LHCA}  0.029003    0.919212  0.031552   \n",
       "...                               ...       ...         ...       ...   \n",
       "2046       {HLAA,LEAG,TPLH} => {LLEA}  0.026951    0.900312  0.029936   \n",
       "3700  {HLAA,LEAG,LHLA,TPLH} => {LLEA}  0.025490    0.900110  0.028319   \n",
       "1093            {GNTA,HLAA} => {NTAL}  0.047406    0.903972  0.052442   \n",
       "854             {GNTA,KTAL} => {NTAL}  0.026330    0.902985  0.029159   \n",
       "1087            {GNTA,NTPL} => {NTAL}  0.029127    0.902697  0.032267   \n",
       "\n",
       "           lift  count consequent  rule_size ruletype ruletype_simple  \n",
       "132   16.616082    874       DALD          3      N/A             N/A  \n",
       "56    14.403639    863       CTPL          3      N/A             N/A  \n",
       "1344  10.524835   1035       LHCA          4      N/A             N/A  \n",
       "62    10.520970   1066       LHCA          3      N/A             N/A  \n",
       "1346  10.478428    933       LHCA          4      N/A             N/A  \n",
       "...         ...    ...        ...        ...      ...             ...  \n",
       "2046   5.205270    867       LLEA          4      N/A             N/A  \n",
       "3700   5.204103    820       LLEA          5      N/A             N/A  \n",
       "1093   5.178960   1525       NTAL          3      N/A             N/A  \n",
       "854    5.173308    847       NTAL          3      N/A             N/A  \n",
       "1087   5.171661    937       NTAL          3      N/A             N/A  \n",
       "\n",
       "[108 rows x 10 columns]"
      ]
     },
     "execution_count": 19,
     "metadata": {},
     "output_type": "execute_result"
    }
   ],
   "source": [
    "df_lift_alto[df_lift_alto.ruletype_simple == \"N/A\"]"
   ]
  },
  {
   "cell_type": "code",
   "execution_count": 20,
   "id": "dcb86767-0225-4cf5-b201-ba4620627542",
   "metadata": {},
   "outputs": [
    {
     "data": {
      "text/html": [
       "<div>\n",
       "<style scoped>\n",
       "    .dataframe tbody tr th:only-of-type {\n",
       "        vertical-align: middle;\n",
       "    }\n",
       "\n",
       "    .dataframe tbody tr th {\n",
       "        vertical-align: top;\n",
       "    }\n",
       "\n",
       "    .dataframe thead th {\n",
       "        text-align: right;\n",
       "    }\n",
       "</style>\n",
       "<table border=\"1\" class=\"dataframe\">\n",
       "  <thead>\n",
       "    <tr style=\"text-align: right;\">\n",
       "      <th></th>\n",
       "      <th>rules</th>\n",
       "      <th>support</th>\n",
       "      <th>confidence</th>\n",
       "      <th>coverage</th>\n",
       "      <th>lift</th>\n",
       "      <th>count</th>\n",
       "      <th>consequent</th>\n",
       "      <th>rule_size</th>\n",
       "      <th>ruletype</th>\n",
       "      <th>ruletype_simple</th>\n",
       "    </tr>\n",
       "  </thead>\n",
       "  <tbody>\n",
       "    <tr>\n",
       "      <th>3788</th>\n",
       "      <td>{GNTP,LHIA,PLHL,TPLH} =&gt; {NTPL}</td>\n",
       "      <td>0.025521</td>\n",
       "      <td>0.968160</td>\n",
       "      <td>0.026361</td>\n",
       "      <td>5.984772</td>\n",
       "      <td>821</td>\n",
       "      <td>NTPL</td>\n",
       "      <td>5</td>\n",
       "      <td>Overlapping</td>\n",
       "      <td>Overlapping</td>\n",
       "    </tr>\n",
       "    <tr>\n",
       "      <th>3779</th>\n",
       "      <td>{GNTP,LHLA,LHVA,PLHL} =&gt; {NTPL}</td>\n",
       "      <td>0.028568</td>\n",
       "      <td>0.967368</td>\n",
       "      <td>0.029532</td>\n",
       "      <td>5.979876</td>\n",
       "      <td>919</td>\n",
       "      <td>NTPL</td>\n",
       "      <td>5</td>\n",
       "      <td>Overlapping</td>\n",
       "      <td>Overlapping</td>\n",
       "    </tr>\n",
       "    <tr>\n",
       "      <th>4669</th>\n",
       "      <td>{GNTP,LHLA,LHVA,PLHL,TPLH} =&gt; {NTPL}</td>\n",
       "      <td>0.028288</td>\n",
       "      <td>0.967056</td>\n",
       "      <td>0.029252</td>\n",
       "      <td>5.977947</td>\n",
       "      <td>910</td>\n",
       "      <td>NTPL</td>\n",
       "      <td>6</td>\n",
       "      <td>Overlapping</td>\n",
       "      <td>Overlapping</td>\n",
       "    </tr>\n",
       "    <tr>\n",
       "      <th>2198</th>\n",
       "      <td>{GNTP,LHVA,PLHL} =&gt; {NTPL}</td>\n",
       "      <td>0.029314</td>\n",
       "      <td>0.966189</td>\n",
       "      <td>0.030340</td>\n",
       "      <td>5.972582</td>\n",
       "      <td>943</td>\n",
       "      <td>NTPL</td>\n",
       "      <td>4</td>\n",
       "      <td>Overlapping</td>\n",
       "      <td>Overlapping</td>\n",
       "    </tr>\n",
       "    <tr>\n",
       "      <th>3781</th>\n",
       "      <td>{GNTP,LHVA,PLHL,TPLH} =&gt; {NTPL}</td>\n",
       "      <td>0.029034</td>\n",
       "      <td>0.965874</td>\n",
       "      <td>0.030060</td>\n",
       "      <td>5.970637</td>\n",
       "      <td>934</td>\n",
       "      <td>NTPL</td>\n",
       "      <td>5</td>\n",
       "      <td>Overlapping</td>\n",
       "      <td>Overlapping</td>\n",
       "    </tr>\n",
       "    <tr>\n",
       "      <th>...</th>\n",
       "      <td>...</td>\n",
       "      <td>...</td>\n",
       "      <td>...</td>\n",
       "      <td>...</td>\n",
       "      <td>...</td>\n",
       "      <td>...</td>\n",
       "      <td>...</td>\n",
       "      <td>...</td>\n",
       "      <td>...</td>\n",
       "      <td>...</td>\n",
       "    </tr>\n",
       "    <tr>\n",
       "      <th>2173</th>\n",
       "      <td>{GNTP,LHYA,PLHY} =&gt; {NTPL}</td>\n",
       "      <td>0.026609</td>\n",
       "      <td>0.905820</td>\n",
       "      <td>0.029376</td>\n",
       "      <td>5.599409</td>\n",
       "      <td>856</td>\n",
       "      <td>NTPL</td>\n",
       "      <td>4</td>\n",
       "      <td>Overlapping</td>\n",
       "      <td>Overlapping</td>\n",
       "    </tr>\n",
       "    <tr>\n",
       "      <th>790</th>\n",
       "      <td>{GNTP,RTAL} =&gt; {NTPL}</td>\n",
       "      <td>0.027604</td>\n",
       "      <td>0.904277</td>\n",
       "      <td>0.030526</td>\n",
       "      <td>5.589871</td>\n",
       "      <td>888</td>\n",
       "      <td>NTPL</td>\n",
       "      <td>3</td>\n",
       "      <td>N/A</td>\n",
       "      <td>N/A</td>\n",
       "    </tr>\n",
       "    <tr>\n",
       "      <th>789</th>\n",
       "      <td>{GNTP,LHYA} =&gt; {NTPL}</td>\n",
       "      <td>0.039417</td>\n",
       "      <td>0.903134</td>\n",
       "      <td>0.043645</td>\n",
       "      <td>5.582804</td>\n",
       "      <td>1268</td>\n",
       "      <td>NTPL</td>\n",
       "      <td>3</td>\n",
       "      <td>Overlapping</td>\n",
       "      <td>Overlapping</td>\n",
       "    </tr>\n",
       "    <tr>\n",
       "      <th>796</th>\n",
       "      <td>{ADVN,GNTP} =&gt; {NTPL}</td>\n",
       "      <td>0.031397</td>\n",
       "      <td>0.901786</td>\n",
       "      <td>0.034816</td>\n",
       "      <td>5.574471</td>\n",
       "      <td>1010</td>\n",
       "      <td>NTPL</td>\n",
       "      <td>3</td>\n",
       "      <td>Agrega +L</td>\n",
       "      <td>Agrega</td>\n",
       "    </tr>\n",
       "    <tr>\n",
       "      <th>2209</th>\n",
       "      <td>{ALHL,GNTP,TALH} =&gt; {NTPL}</td>\n",
       "      <td>0.026205</td>\n",
       "      <td>0.900641</td>\n",
       "      <td>0.029096</td>\n",
       "      <td>5.567395</td>\n",
       "      <td>843</td>\n",
       "      <td>NTPL</td>\n",
       "      <td>4</td>\n",
       "      <td>N/A</td>\n",
       "      <td>N/A</td>\n",
       "    </tr>\n",
       "  </tbody>\n",
       "</table>\n",
       "<p>85 rows × 10 columns</p>\n",
       "</div>"
      ],
      "text/plain": [
       "                                     rules   support  confidence  coverage  \\\n",
       "3788       {GNTP,LHIA,PLHL,TPLH} => {NTPL}  0.025521    0.968160  0.026361   \n",
       "3779       {GNTP,LHLA,LHVA,PLHL} => {NTPL}  0.028568    0.967368  0.029532   \n",
       "4669  {GNTP,LHLA,LHVA,PLHL,TPLH} => {NTPL}  0.028288    0.967056  0.029252   \n",
       "2198            {GNTP,LHVA,PLHL} => {NTPL}  0.029314    0.966189  0.030340   \n",
       "3781       {GNTP,LHVA,PLHL,TPLH} => {NTPL}  0.029034    0.965874  0.030060   \n",
       "...                                    ...       ...         ...       ...   \n",
       "2173            {GNTP,LHYA,PLHY} => {NTPL}  0.026609    0.905820  0.029376   \n",
       "790                  {GNTP,RTAL} => {NTPL}  0.027604    0.904277  0.030526   \n",
       "789                  {GNTP,LHYA} => {NTPL}  0.039417    0.903134  0.043645   \n",
       "796                  {ADVN,GNTP} => {NTPL}  0.031397    0.901786  0.034816   \n",
       "2209            {ALHL,GNTP,TALH} => {NTPL}  0.026205    0.900641  0.029096   \n",
       "\n",
       "          lift  count consequent  rule_size     ruletype ruletype_simple  \n",
       "3788  5.984772    821       NTPL          5  Overlapping     Overlapping  \n",
       "3779  5.979876    919       NTPL          5  Overlapping     Overlapping  \n",
       "4669  5.977947    910       NTPL          6  Overlapping     Overlapping  \n",
       "2198  5.972582    943       NTPL          4  Overlapping     Overlapping  \n",
       "3781  5.970637    934       NTPL          5  Overlapping     Overlapping  \n",
       "...        ...    ...        ...        ...          ...             ...  \n",
       "2173  5.599409    856       NTPL          4  Overlapping     Overlapping  \n",
       "790   5.589871    888       NTPL          3          N/A             N/A  \n",
       "789   5.582804   1268       NTPL          3  Overlapping     Overlapping  \n",
       "796   5.574471   1010       NTPL          3    Agrega +L          Agrega  \n",
       "2209  5.567395    843       NTPL          4          N/A             N/A  \n",
       "\n",
       "[85 rows x 10 columns]"
      ]
     },
     "execution_count": 20,
     "metadata": {},
     "output_type": "execute_result"
    }
   ],
   "source": [
    "df_lift_alto[df_lift_alto.consequent == \"NTPL\"]"
   ]
  },
  {
   "cell_type": "code",
   "execution_count": null,
   "id": "2dfa5347-31e2-4bd4-83d7-925f653823a0",
   "metadata": {},
   "outputs": [],
   "source": []
  }
 ],
 "metadata": {
  "kernelspec": {
   "display_name": "Python 3 (ipykernel)",
   "language": "python",
   "name": "python3"
  },
  "language_info": {
   "codemirror_mode": {
    "name": "ipython",
    "version": 3
   },
   "file_extension": ".py",
   "mimetype": "text/x-python",
   "name": "python",
   "nbconvert_exporter": "python",
   "pygments_lexer": "ipython3",
   "version": "3.8.10"
  }
 },
 "nbformat": 4,
 "nbformat_minor": 5
}
