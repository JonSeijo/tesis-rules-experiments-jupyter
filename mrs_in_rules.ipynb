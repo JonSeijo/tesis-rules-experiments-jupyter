{
 "cells": [
  {
   "cell_type": "code",
   "execution_count": 1,
   "id": "4ddb1cc0-d8fd-4386-bbaf-5892c2fad7bf",
   "metadata": {},
   "outputs": [],
   "source": [
    "import pandas as pd\n",
    "import seaborn as sns\n",
    "\n",
    "# sns.set_style(\"darkgrid\")\n",
    "sns.set_style(\"whitegrid\")\n",
    "\n",
    "import matplotlib.pyplot as plt\n",
    "plt.rcParams[\"figure.figsize\"]= (8, 6)"
   ]
  },
  {
   "cell_type": "code",
   "execution_count": 2,
   "id": "2d964d6b-e723-431e-881e-8a61ebb68387",
   "metadata": {},
   "outputs": [],
   "source": [
    "import info_rules as ir"
   ]
  },
  {
   "cell_type": "code",
   "execution_count": 3,
   "id": "a519c340-197b-4fbb-bb23-34dbfde6fd46",
   "metadata": {},
   "outputs": [],
   "source": [
    "# TODO: Parametrizar mejor\n",
    "def mr_len_in_rules(family_name, min_len):\n",
    "    min_len = str(min_len)\n",
    "\n",
    "    support = \"0.025\"\n",
    "    confidence = \"0.9\"\n",
    "    family_a = f\"{family_name}_len{min_len}_ALL_sub\"\n",
    "    path_rules_a = f\"output/rules/{family_a}_s{support}_c{confidence}.csv\"\n",
    "    \n",
    "    df_rules = pd.read_csv(path_rules_a)\n",
    "    \n",
    "    # rules: List[Tuple[Set[str], Set[str]]]\n",
    "    rules = ir.build_rule_list_from_df(df_rules)\n",
    "    items = ir.itemset(rules)\n",
    "    \n",
    "    return count_lens_in_itemset(items)\n",
    "    \n",
    "def count_lens_in_itemset(items):\n",
    "    count_by_len = {}\n",
    "    for item in items:\n",
    "        if len(item) not in count_by_len:\n",
    "            count_by_len[len(item)] = 0\n",
    "        count_by_len[len(item)] += 1\n",
    "    return count_by_len"
   ]
  },
  {
   "cell_type": "code",
   "execution_count": 8,
   "id": "155de280-eca1-4b97-ac6d-493245b05961",
   "metadata": {},
   "outputs": [
    {
     "name": "stdout",
     "output_type": "stream",
     "text": [
      "min_len: 4\n",
      "{4: 313}\n",
      "-----------\n",
      "min_len: 5\n",
      "{5: 128}\n",
      "-----------\n",
      "min_len: 6\n",
      "{6: 20}\n",
      "-----------\n",
      "min_len: 7\n",
      "{7: 4}\n",
      "-----------\n"
     ]
    }
   ],
   "source": [
    "for min_len in range(4, 8):\n",
    "    len_dict = mr_len_in_rules(\"NEWAnk\", min_len)\n",
    "    print(f\"min_len: {min_len}\")\n",
    "    print(len_dict)\n",
    "    print(\"-----------\")"
   ]
  },
  {
   "cell_type": "code",
   "execution_count": 6,
   "id": "3a6734e5-5f84-4292-a62e-7c7f3b5e954c",
   "metadata": {},
   "outputs": [
    {
     "name": "stdout",
     "output_type": "stream",
     "text": [
      "min_len: 4\n",
      "{4: 2140}\n",
      "-----------\n",
      "min_len: 5\n",
      "{5: 353}\n",
      "-----------\n",
      "min_len: 6\n",
      "{6: 83}\n",
      "-----------\n",
      "min_len: 7\n",
      "{7: 25}\n",
      "-----------\n"
     ]
    }
   ],
   "source": [
    "for min_len in range(4, 8):\n",
    "    len_dict = mr_len_in_rules(\"LRR1\", min_len)\n",
    "    print(f\"min_len: {min_len}\")\n",
    "    print(len_dict)\n",
    "    print(\"-----------\")"
   ]
  },
  {
   "cell_type": "code",
   "execution_count": 13,
   "id": "35a2631d-2498-46d3-b31d-70772ee54d52",
   "metadata": {},
   "outputs": [
    {
     "name": "stdout",
     "output_type": "stream",
     "text": [
      "min_len: 4\n",
      "{4: 7}\n",
      "-----------\n",
      "min_len >= 5: 0 reglas\n"
     ]
    }
   ],
   "source": [
    "for min_len in range(4, 5):\n",
    "    len_dict = mr_len_in_rules(\"TPR1\", min_len)\n",
    "    print(f\"min_len: {min_len}\")\n",
    "    print(len_dict)\n",
    "    print(\"-----------\")\n",
    "print(\"min_len >= 5: 0 reglas\")"
   ]
  },
  {
   "cell_type": "code",
   "execution_count": 12,
   "id": "dca241f5-1c23-4e23-a639-6f127ace8bb4",
   "metadata": {},
   "outputs": [
    {
     "data": {
      "text/plain": [
       "{4: 313}"
      ]
     },
     "execution_count": 12,
     "metadata": {},
     "output_type": "execute_result"
    }
   ],
   "source": []
  }
 ],
 "metadata": {
  "kernelspec": {
   "display_name": "Python 3 (ipykernel)",
   "language": "python",
   "name": "python3"
  },
  "language_info": {
   "codemirror_mode": {
    "name": "ipython",
    "version": 3
   },
   "file_extension": ".py",
   "mimetype": "text/x-python",
   "name": "python",
   "nbconvert_exporter": "python",
   "pygments_lexer": "ipython3",
   "version": "3.8.10"
  }
 },
 "nbformat": 4,
 "nbformat_minor": 5
}
