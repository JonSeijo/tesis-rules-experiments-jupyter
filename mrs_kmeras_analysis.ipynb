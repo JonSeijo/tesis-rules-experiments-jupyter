{
 "cells": [
  {
   "cell_type": "code",
   "execution_count": 1,
   "id": "e08ad142-9ca7-4da3-a0be-408e6fd82d18",
   "metadata": {},
   "outputs": [],
   "source": [
    "import pandas as pd\n",
    "import seaborn as sns\n",
    "\n",
    "sns.set_style(\"whitegrid\")\n",
    "\n",
    "import matplotlib.pyplot as plt"
   ]
  },
  {
   "cell_type": "code",
   "execution_count": 2,
   "id": "e0187659-3628-4c45-966a-507534bfad0e",
   "metadata": {},
   "outputs": [],
   "source": [
    "import analysis_utils as autils\n",
    "\n",
    "from typing import Dict, List, Tuple"
   ]
  },
  {
   "cell_type": "code",
   "execution_count": 3,
   "id": "50cedf1d-ffa3-49a0-a41d-dc9deaa50abd",
   "metadata": {},
   "outputs": [],
   "source": [
    "from plot_utils import set_spanish_locale, format_mil_spanish, matplot_formatter_mil_spanish\n",
    "from plot_utils import plot_histogram_mrs_support_count\n",
    "\n",
    "set_spanish_locale()"
   ]
  },
  {
   "cell_type": "code",
   "execution_count": 71,
   "id": "9c5bbcfd-3260-4796-8832-dcd4bd76cb0b",
   "metadata": {},
   "outputs": [],
   "source": [
    "transactions_newank_len4_min = autils.read_clean_transactions(\"NEWAnk_len4_ALL_min\", \"output/clean_transactions\")\n",
    "transactions_tpr_len4_min = autils.read_clean_transactions(\"TPR1_len4_ALL_min\", \"output/clean_transactions\")\n",
    "transactions_lrr_len4_min = autils.read_clean_transactions(\"LRR1_len4_ALL_min\", \"output/clean_transactions\")"
   ]
  },
  {
   "cell_type": "code",
   "execution_count": 72,
   "id": "78c7ce02-4c5c-482c-a25d-ba46f6a77902",
   "metadata": {},
   "outputs": [
    {
     "name": "stdout",
     "output_type": "stream",
     "text": [
      "Building transaction_len_df for NEWAnk\n",
      "Building transaction_len_df for TPR1\n",
      "Building transaction_len_df for LRR1\n"
     ]
    }
   ],
   "source": [
    "input_transaction_len4_min = {\n",
    "    \"NEWAnk\": transactions_newank_len4_min,\n",
    "    \"TPR1\": transactions_tpr_len4_min,\n",
    "    \"LRR1\": transactions_lrr_len4_min\n",
    "}\n",
    "\n",
    "df_txs_len4_min = autils.build_transaction_len_df(input_transaction_len4_min)"
   ]
  },
  {
   "cell_type": "code",
   "execution_count": 73,
   "id": "3a044d92-2420-4c85-b4d0-a9b89f6fd01b",
   "metadata": {},
   "outputs": [],
   "source": [
    "# Distribucion del largo de las transacciones por cada familia\n",
    "def plot_transactions_len_boxplot(df_txs_lens):\n",
    "    ax_boxplot = df_txs_lens.boxplot(\n",
    "        column='tx_length', by='family', grid=True, figsize=(7, 5)\n",
    "    )\n",
    "\n",
    "    ax_boxplot.get_yaxis().set_major_formatter(matplot_formatter_mil_spanish())\n",
    "    ax_boxplot.set_ylabel('Cantidad de ítems')\n",
    "    ax_boxplot.set_xlabel('Familia')\n",
    "\n",
    "    plt.title(\"\")\n",
    "    plt.suptitle(\"\")\n",
    "\n",
    "    fig = ax_boxplot.get_figure()\n",
    "    return fig\n"
   ]
  },
  {
   "cell_type": "code",
   "execution_count": 76,
   "id": "7c3a4b3a-a71e-4553-92c2-91eedc9ab87e",
   "metadata": {},
   "outputs": [
    {
     "data": {
      "image/png": "[encoded data removed]",
      "text/plain": [
       "<Figure size 504x360 with 1 Axes>"
      ]
     },
     "metadata": {
      "needs_background": "light"
     },
     "output_type": "display_data"
    }
   ],
   "source": [
    "fig = plot_transactions_len_boxplot(df_txs_len4_min)\n",
    "# fig.savefig('imagenes/kmeras/transactions_mrs_length_boxplot_newank_tpr_lrr.pdf', bbox_inches = \"tight\")\n"
   ]
  },
  {
   "cell_type": "code",
   "execution_count": 77,
   "id": "83350e63-42d8-4b38-bc29-d8522f67007e",
   "metadata": {},
   "outputs": [
    {
     "data": {
      "text/html": [
       "<div>\n",
       "<style scoped>\n",
       "    .dataframe tbody tr th:only-of-type {\n",
       "        vertical-align: middle;\n",
       "    }\n",
       "\n",
       "    .dataframe tbody tr th {\n",
       "        vertical-align: top;\n",
       "    }\n",
       "\n",
       "    .dataframe thead tr th {\n",
       "        text-align: left;\n",
       "    }\n",
       "\n",
       "    .dataframe thead tr:last-of-type th {\n",
       "        text-align: right;\n",
       "    }\n",
       "</style>\n",
       "<table border=\"1\" class=\"dataframe\">\n",
       "  <thead>\n",
       "    <tr>\n",
       "      <th></th>\n",
       "      <th colspan=\"8\" halign=\"left\">tx_length</th>\n",
       "    </tr>\n",
       "    <tr>\n",
       "      <th></th>\n",
       "      <th>count</th>\n",
       "      <th>mean</th>\n",
       "      <th>std</th>\n",
       "      <th>min</th>\n",
       "      <th>25%</th>\n",
       "      <th>50%</th>\n",
       "      <th>75%</th>\n",
       "      <th>max</th>\n",
       "    </tr>\n",
       "    <tr>\n",
       "      <th>family</th>\n",
       "      <th></th>\n",
       "      <th></th>\n",
       "      <th></th>\n",
       "      <th></th>\n",
       "      <th></th>\n",
       "      <th></th>\n",
       "      <th></th>\n",
       "      <th></th>\n",
       "    </tr>\n",
       "  </thead>\n",
       "  <tbody>\n",
       "    <tr>\n",
       "      <th>LRR1</th>\n",
       "      <td>33060.0</td>\n",
       "      <td>656.477405</td>\n",
       "      <td>334.029371</td>\n",
       "      <td>39.0</td>\n",
       "      <td>376.0</td>\n",
       "      <td>637.0</td>\n",
       "      <td>915.0</td>\n",
       "      <td>3472.0</td>\n",
       "    </tr>\n",
       "    <tr>\n",
       "      <th>NEWAnk</th>\n",
       "      <td>32169.0</td>\n",
       "      <td>687.846747</td>\n",
       "      <td>475.868210</td>\n",
       "      <td>34.0</td>\n",
       "      <td>339.0</td>\n",
       "      <td>557.0</td>\n",
       "      <td>920.0</td>\n",
       "      <td>6260.0</td>\n",
       "    </tr>\n",
       "    <tr>\n",
       "      <th>TPR1</th>\n",
       "      <td>36389.0</td>\n",
       "      <td>615.275330</td>\n",
       "      <td>358.567716</td>\n",
       "      <td>34.0</td>\n",
       "      <td>346.0</td>\n",
       "      <td>566.0</td>\n",
       "      <td>782.0</td>\n",
       "      <td>4099.0</td>\n",
       "    </tr>\n",
       "  </tbody>\n",
       "</table>\n",
       "</div>"
      ],
      "text/plain": [
       "       tx_length                                                           \n",
       "           count        mean         std   min    25%    50%    75%     max\n",
       "family                                                                     \n",
       "LRR1     33060.0  656.477405  334.029371  39.0  376.0  637.0  915.0  3472.0\n",
       "NEWAnk   32169.0  687.846747  475.868210  34.0  339.0  557.0  920.0  6260.0\n",
       "TPR1     36389.0  615.275330  358.567716  34.0  346.0  566.0  782.0  4099.0"
      ]
     },
     "execution_count": 77,
     "metadata": {},
     "output_type": "execute_result"
    }
   ],
   "source": [
    "df_txs_len4_min.groupby('family').describe()"
   ]
  },
  {
   "cell_type": "code",
   "execution_count": 4,
   "id": "468428e0-2dcf-4fb2-9c0b-f84b72a82be7",
   "metadata": {},
   "outputs": [],
   "source": [
    "from typing import NamedTuple\n",
    "\n",
    "class FamilyInput(NamedTuple):\n",
    "    family: str\n",
    "    transactions_name: str\n",
    "    color_code: str\n"
   ]
  },
  {
   "cell_type": "code",
   "execution_count": 5,
   "id": "718fee99-96f2-4741-aef5-8e521497bcf8",
   "metadata": {},
   "outputs": [
    {
     "name": "stdout",
     "output_type": "stream",
     "text": [
      "ABCD, BCDE, CDEA, DEAB, EABC, ABCD, BCDE, \n"
     ]
    }
   ],
   "source": [
    "# Ejemplo de NOMRS\n",
    "def print_all_substrings(ss):\n",
    "    subs = [ ss[i:i+4] for i in range(len(ss)-4+1) ]\n",
    "    sb = \"\"\n",
    "    for s in subs:\n",
    "        sb += s + \", \"\n",
    "    print(sb)\n",
    "\n",
    "print_all_substrings(\"ABCDEABCDE\")"
   ]
  },
  {
   "cell_type": "code",
   "execution_count": 6,
   "id": "7a68b6c0-6c81-444f-a63d-3e18eab52c3f",
   "metadata": {},
   "outputs": [],
   "source": [
    "# TODO: Parametrizar len=5\n",
    "newank_input = FamilyInput(\"NEWAnk\", \"NEWAnk_len5_ALL_sub\", \"#bc5090\")\n",
    "newank_nomrs_input = FamilyInput(\"NEWAnk_nomrs\", \"NEWAnk_len5_nomrs\", \"#003f5c\")"
   ]
  },
  {
   "cell_type": "code",
   "execution_count": 7,
   "id": "f781160c-2bcd-4a9e-aa2a-b3039c3527d7",
   "metadata": {},
   "outputs": [],
   "source": [
    "def build_txs_by_family(family_inputs): # TODO: typing\n",
    "    return { \n",
    "        fi.family: autils.read_clean_transactions(fi.transactions_name, \"output/clean_transactions\")\n",
    "        for fi in family_inputs\n",
    "    }"
   ]
  },
  {
   "cell_type": "code",
   "execution_count": 8,
   "id": "bdb87ec2-a98b-496e-bd29-f57a4abe2da8",
   "metadata": {},
   "outputs": [],
   "source": [
    "family_inputs = [\n",
    "    newank_input, newank_nomrs_input\n",
    "]\n",
    "\n",
    "txs_by_family = build_txs_by_family(family_inputs)"
   ]
  },
  {
   "cell_type": "code",
   "execution_count": 9,
   "id": "c97077f4-35a1-4fed-af03-09157ad473ac",
   "metadata": {},
   "outputs": [
    {
     "name": "stdout",
     "output_type": "stream",
     "text": [
      "Building transaction_len_df for NEWAnk\n",
      "Building transaction_len_df for NEWAnk_nomrs\n"
     ]
    }
   ],
   "source": [
    "df_txs_length = autils.build_transaction_len_df(txs_by_family)"
   ]
  },
  {
   "cell_type": "code",
   "execution_count": 10,
   "id": "80203d1f-a930-4fc7-b437-421df9b6e5e6",
   "metadata": {},
   "outputs": [],
   "source": [
    "# df_txs_length.boxplot(column='tx_length', by='family', grid=True, rot=90, figsize=(9, 7))"
   ]
  },
  {
   "cell_type": "code",
   "execution_count": 11,
   "id": "e56fe366-fc14-4a9a-b556-8df0a6c6035b",
   "metadata": {},
   "outputs": [
    {
     "data": {
      "text/html": [
       "<div>\n",
       "<style scoped>\n",
       "    .dataframe tbody tr th:only-of-type {\n",
       "        vertical-align: middle;\n",
       "    }\n",
       "\n",
       "    .dataframe tbody tr th {\n",
       "        vertical-align: top;\n",
       "    }\n",
       "\n",
       "    .dataframe thead tr th {\n",
       "        text-align: left;\n",
       "    }\n",
       "\n",
       "    .dataframe thead tr:last-of-type th {\n",
       "        text-align: right;\n",
       "    }\n",
       "</style>\n",
       "<table border=\"1\" class=\"dataframe\">\n",
       "  <thead>\n",
       "    <tr>\n",
       "      <th></th>\n",
       "      <th colspan=\"8\" halign=\"left\">tx_length</th>\n",
       "    </tr>\n",
       "    <tr>\n",
       "      <th></th>\n",
       "      <th>count</th>\n",
       "      <th>mean</th>\n",
       "      <th>std</th>\n",
       "      <th>min</th>\n",
       "      <th>25%</th>\n",
       "      <th>50%</th>\n",
       "      <th>75%</th>\n",
       "      <th>max</th>\n",
       "    </tr>\n",
       "    <tr>\n",
       "      <th>family</th>\n",
       "      <th></th>\n",
       "      <th></th>\n",
       "      <th></th>\n",
       "      <th></th>\n",
       "      <th></th>\n",
       "      <th></th>\n",
       "      <th></th>\n",
       "      <th></th>\n",
       "    </tr>\n",
       "  </thead>\n",
       "  <tbody>\n",
       "    <tr>\n",
       "      <th>NEWAnk</th>\n",
       "      <td>32169.0</td>\n",
       "      <td>664.043613</td>\n",
       "      <td>460.494901</td>\n",
       "      <td>34.0</td>\n",
       "      <td>328.0</td>\n",
       "      <td>534.0</td>\n",
       "      <td>883.0</td>\n",
       "      <td>6606.0</td>\n",
       "    </tr>\n",
       "    <tr>\n",
       "      <th>NEWAnk_nomrs</th>\n",
       "      <td>32169.0</td>\n",
       "      <td>700.852778</td>\n",
       "      <td>490.814199</td>\n",
       "      <td>34.0</td>\n",
       "      <td>343.0</td>\n",
       "      <td>564.0</td>\n",
       "      <td>936.0</td>\n",
       "      <td>6909.0</td>\n",
       "    </tr>\n",
       "  </tbody>\n",
       "</table>\n",
       "</div>"
      ],
      "text/plain": [
       "             tx_length                                                     \\\n",
       "                 count        mean         std   min    25%    50%    75%   \n",
       "family                                                                      \n",
       "NEWAnk         32169.0  664.043613  460.494901  34.0  328.0  534.0  883.0   \n",
       "NEWAnk_nomrs   32169.0  700.852778  490.814199  34.0  343.0  564.0  936.0   \n",
       "\n",
       "                      \n",
       "                 max  \n",
       "family                \n",
       "NEWAnk        6606.0  \n",
       "NEWAnk_nomrs  6909.0  "
      ]
     },
     "execution_count": 11,
     "metadata": {},
     "output_type": "execute_result"
    }
   ],
   "source": [
    "df_txs_length.groupby('family').describe()"
   ]
  },
  {
   "cell_type": "code",
   "execution_count": 12,
   "id": "1aa71ba0-4e6c-4bca-9fe9-28d76c7571da",
   "metadata": {},
   "outputs": [
    {
     "name": "stdout",
     "output_type": "stream",
     "text": [
      "Building mr_tx_frequency for NEWAnk\n",
      " .... freq_count .... 0/32169\n",
      " .... freq_count .... 10000/32169\n",
      " .... freq_count .... 20000/32169\n",
      " .... freq_count .... 30000/32169\n",
      "Building mr_tx_frequency for NEWAnk_nomrs\n",
      " .... freq_count .... 0/32169\n",
      " .... freq_count .... 10000/32169\n",
      " .... freq_count .... 20000/32169\n",
      " .... freq_count .... 30000/32169\n",
      "Finished\n"
     ]
    }
   ],
   "source": [
    "df_freq_data = autils.build_mr_tx_frequency_df(txs_by_family)"
   ]
  },
  {
   "cell_type": "code",
   "execution_count": 13,
   "id": "02803c28-8b7d-484d-8a5f-dfb3bfc12440",
   "metadata": {},
   "outputs": [
    {
     "data": {
      "image/png": "[encoded data removed]",
      "text/plain": [
       "<Figure size 432x288 with 1 Axes>"
      ]
     },
     "metadata": {
      "needs_background": "light"
     },
     "output_type": "display_data"
    }
   ],
   "source": [
    "sns.histplot(df_freq_data, x='freq_percentage', hue='family', multiple='dodge', bins=20, binrange=(0.020, 0.1));"
   ]
  },
  {
   "cell_type": "code",
   "execution_count": 14,
   "id": "72e535fe-1cfb-40db-9d41-21b249844fc9",
   "metadata": {},
   "outputs": [],
   "source": [
    "# min_support = 0.025\n",
    "# df_freq_pairs_data = autils.build_pairs_mr_tx_frequency_df(\n",
    "#     txs_by_family, df_freq_data, min_support)"
   ]
  },
  {
   "cell_type": "code",
   "execution_count": 15,
   "id": "ee25eda4-9e24-4423-b3b3-1a3f1e2f22f5",
   "metadata": {},
   "outputs": [],
   "source": [
    "# TODO: Usar plot_utils.plot_histogram_mrs_support_count\n",
    "\n",
    "# sns.histplot(df_freq_pairs_data, x='freq_percentage', hue='family', \n",
    "#              multiple='dodge', bins=20, binrange=(0.010, 0.05)).set(\n",
    "#     title='Cantidad de apariciones por frecuencia en pares')\n",
    "# Se ven mas de 800 por el binrange que tomo. Si tomo binrange en pares y en singles es consistente"
   ]
  },
  {
   "cell_type": "code",
   "execution_count": 16,
   "id": "146f7dba-6c8d-4be5-89a6-a8760a44c7e5",
   "metadata": {},
   "outputs": [],
   "source": [
    "def show_tx_len_info_newank_nomrs(length):\n",
    "    assert length >= 4\n",
    "    \n",
    "    family_inputs_len = [\n",
    "        FamilyInput(\"NEWAnk\", f\"NEWAnk_len{length}_ALL_sub\", \"#bc5090\"),\n",
    "        FamilyInput(\"NEWAnk_nomrs\", f\"NEWAnk_len{length}_nomrs\", \"#003f5c\")\n",
    "    ]\n",
    "    txs_by_family_len = build_txs_by_family(family_inputs_len)\n",
    "    df_txs_length_len = autils.build_transaction_len_df(txs_by_family_len)\n",
    "    return df_txs_length_len.groupby('family').mean()\n",
    "    "
   ]
  },
  {
   "cell_type": "code",
   "execution_count": 55,
   "id": "4950d1ac-0a78-4d36-bbe4-98183ac94139",
   "metadata": {},
   "outputs": [],
   "source": [
    "def build_df_family_len_mean(max_len):\n",
    "    #                  (family, mrtype, displayname)\n",
    "    inputs_to_build = [(\"NEWAnk\", \"ALL_min\", \"NEWAnk\"), \n",
    "                       (\"NEWAnk\", \"nomrs\", \"NEWAnk_NOMRS\")]\n",
    "    length_range = range(4, max_len + 1)\n",
    "    \n",
    "    family_len_mean = {\n",
    "        'family': [],\n",
    "        'length': [],\n",
    "        'mean': [],\n",
    "        'std': [],\n",
    "        'items_unicos': [],\n",
    "        'items_total': [],\n",
    "    }\n",
    "\n",
    "    for family, mrtype, displayname in inputs_to_build:\n",
    "        for length in length_range:\n",
    "            \n",
    "            transactions_name = f\"{family}_len{length}_{mrtype}\"\n",
    "            transactions = autils.read_clean_transactions(transactions_name, \"output/clean_transactions\")\n",
    "            \n",
    "            items_total = 0\n",
    "            items_unicos = set()\n",
    "            for tx in transactions:\n",
    "                for item in tx:\n",
    "                    items_total += 1\n",
    "                    items_unicos.add(item)\n",
    "            \n",
    "            \n",
    "            df_txs_length_len = autils.build_transaction_len_df({transactions_name: transactions})\n",
    "            mean = df_txs_length_len['tx_length'].mean()\n",
    "            std = df_txs_length_len['tx_length'].std()\n",
    "\n",
    "            family_len_mean['family'].append(displayname)\n",
    "            family_len_mean['length'].append(length)\n",
    "            family_len_mean['mean'].append(mean)\n",
    "            family_len_mean['std'].append(std)\n",
    "            family_len_mean['items_unicos'].append(len(items_unicos))\n",
    "            family_len_mean['items_total'].append(items_total)\n",
    "\n",
    "\n",
    "    df_family_len_mean = pd.DataFrame(family_len_mean)\n",
    "\n",
    "    return df_family_len_mean\n"
   ]
  },
  {
   "cell_type": "code",
   "execution_count": 18,
   "id": "dd3f0b78-bb25-4d31-959c-e95de46e1733",
   "metadata": {},
   "outputs": [],
   "source": [
    "# Calcular promedios de tamaños de transacciones"
   ]
  },
  {
   "cell_type": "code",
   "execution_count": 56,
   "id": "72842d71-e45e-4adc-b4df-7f229e1f3010",
   "metadata": {},
   "outputs": [
    {
     "name": "stdout",
     "output_type": "stream",
     "text": [
      "Building transaction_len_df for NEWAnk_len4_ALL_min\n",
      "Building transaction_len_df for NEWAnk_len5_ALL_min\n",
      "Building transaction_len_df for NEWAnk_len6_ALL_min\n",
      "Building transaction_len_df for NEWAnk_len7_ALL_min\n",
      "Building transaction_len_df for NEWAnk_len8_ALL_min\n",
      "Building transaction_len_df for NEWAnk_len9_ALL_min\n",
      "Building transaction_len_df for NEWAnk_len10_ALL_min\n",
      "Building transaction_len_df for NEWAnk_len4_nomrs\n",
      "Building transaction_len_df for NEWAnk_len5_nomrs\n",
      "Building transaction_len_df for NEWAnk_len6_nomrs\n",
      "Building transaction_len_df for NEWAnk_len7_nomrs\n",
      "Building transaction_len_df for NEWAnk_len8_nomrs\n",
      "Building transaction_len_df for NEWAnk_len9_nomrs\n",
      "Building transaction_len_df for NEWAnk_len10_nomrs\n"
     ]
    }
   ],
   "source": [
    "df_family_len_mean = build_df_family_len_mean(10)"
   ]
  },
  {
   "cell_type": "code",
   "execution_count": 23,
   "id": "c1b269f6-66cd-4f0b-b607-f752006ee038",
   "metadata": {},
   "outputs": [
    {
     "data": {
      "text/html": [
       "<div>\n",
       "<style scoped>\n",
       "    .dataframe tbody tr th:only-of-type {\n",
       "        vertical-align: middle;\n",
       "    }\n",
       "\n",
       "    .dataframe tbody tr th {\n",
       "        vertical-align: top;\n",
       "    }\n",
       "\n",
       "    .dataframe thead th {\n",
       "        text-align: right;\n",
       "    }\n",
       "</style>\n",
       "<table border=\"1\" class=\"dataframe\">\n",
       "  <thead>\n",
       "    <tr style=\"text-align: right;\">\n",
       "      <th></th>\n",
       "      <th>family</th>\n",
       "      <th>length</th>\n",
       "      <th>mean</th>\n",
       "      <th>items_unicos</th>\n",
       "      <th>items_total</th>\n",
       "    </tr>\n",
       "  </thead>\n",
       "  <tbody>\n",
       "    <tr>\n",
       "      <th>0</th>\n",
       "      <td>NEWAnk</td>\n",
       "      <td>4</td>\n",
       "      <td>687.846747</td>\n",
       "      <td>158105</td>\n",
       "      <td>22127342</td>\n",
       "    </tr>\n",
       "    <tr>\n",
       "      <th>1</th>\n",
       "      <td>NEWAnk</td>\n",
       "      <td>5</td>\n",
       "      <td>663.561037</td>\n",
       "      <td>1666141</td>\n",
       "      <td>21346095</td>\n",
       "    </tr>\n",
       "    <tr>\n",
       "      <th>2</th>\n",
       "      <td>NEWAnk</td>\n",
       "      <td>6</td>\n",
       "      <td>346.329883</td>\n",
       "      <td>1855589</td>\n",
       "      <td>11141086</td>\n",
       "    </tr>\n",
       "    <tr>\n",
       "      <th>3</th>\n",
       "      <td>NEWAnk</td>\n",
       "      <td>7</td>\n",
       "      <td>135.871429</td>\n",
       "      <td>603460</td>\n",
       "      <td>4370848</td>\n",
       "    </tr>\n",
       "    <tr>\n",
       "      <th>4</th>\n",
       "      <td>NEWAnk</td>\n",
       "      <td>8</td>\n",
       "      <td>74.499394</td>\n",
       "      <td>298552</td>\n",
       "      <td>2396571</td>\n",
       "    </tr>\n",
       "    <tr>\n",
       "      <th>5</th>\n",
       "      <td>NEWAnk</td>\n",
       "      <td>9</td>\n",
       "      <td>47.517548</td>\n",
       "      <td>192830</td>\n",
       "      <td>1528592</td>\n",
       "    </tr>\n",
       "    <tr>\n",
       "      <th>6</th>\n",
       "      <td>NEWAnk</td>\n",
       "      <td>10</td>\n",
       "      <td>32.234001</td>\n",
       "      <td>131166</td>\n",
       "      <td>1035614</td>\n",
       "    </tr>\n",
       "    <tr>\n",
       "      <th>7</th>\n",
       "      <td>NEWAnk_NOMRS</td>\n",
       "      <td>4</td>\n",
       "      <td>687.919736</td>\n",
       "      <td>159450</td>\n",
       "      <td>22129690</td>\n",
       "    </tr>\n",
       "    <tr>\n",
       "      <th>8</th>\n",
       "      <td>NEWAnk_NOMRS</td>\n",
       "      <td>5</td>\n",
       "      <td>700.852778</td>\n",
       "      <td>2344861</td>\n",
       "      <td>22545733</td>\n",
       "    </tr>\n",
       "    <tr>\n",
       "      <th>9</th>\n",
       "      <td>NEWAnk_NOMRS</td>\n",
       "      <td>6</td>\n",
       "      <td>703.995555</td>\n",
       "      <td>8934181</td>\n",
       "      <td>22646833</td>\n",
       "    </tr>\n",
       "    <tr>\n",
       "      <th>10</th>\n",
       "      <td>NEWAnk_NOMRS</td>\n",
       "      <td>7</td>\n",
       "      <td>705.030371</td>\n",
       "      <td>12379826</td>\n",
       "      <td>22680122</td>\n",
       "    </tr>\n",
       "    <tr>\n",
       "      <th>11</th>\n",
       "      <td>NEWAnk_NOMRS</td>\n",
       "      <td>8</td>\n",
       "      <td>705.195747</td>\n",
       "      <td>13711759</td>\n",
       "      <td>22685442</td>\n",
       "    </tr>\n",
       "    <tr>\n",
       "      <th>12</th>\n",
       "      <td>NEWAnk_NOMRS</td>\n",
       "      <td>9</td>\n",
       "      <td>704.954242</td>\n",
       "      <td>14521026</td>\n",
       "      <td>22677673</td>\n",
       "    </tr>\n",
       "    <tr>\n",
       "      <th>13</th>\n",
       "      <td>NEWAnk_NOMRS</td>\n",
       "      <td>10</td>\n",
       "      <td>704.519102</td>\n",
       "      <td>15090767</td>\n",
       "      <td>22663675</td>\n",
       "    </tr>\n",
       "  </tbody>\n",
       "</table>\n",
       "</div>"
      ],
      "text/plain": [
       "          family  length        mean  items_unicos  items_total\n",
       "0         NEWAnk       4  687.846747        158105     22127342\n",
       "1         NEWAnk       5  663.561037       1666141     21346095\n",
       "2         NEWAnk       6  346.329883       1855589     11141086\n",
       "3         NEWAnk       7  135.871429        603460      4370848\n",
       "4         NEWAnk       8   74.499394        298552      2396571\n",
       "5         NEWAnk       9   47.517548        192830      1528592\n",
       "6         NEWAnk      10   32.234001        131166      1035614\n",
       "7   NEWAnk_NOMRS       4  687.919736        159450     22129690\n",
       "8   NEWAnk_NOMRS       5  700.852778       2344861     22545733\n",
       "9   NEWAnk_NOMRS       6  703.995555       8934181     22646833\n",
       "10  NEWAnk_NOMRS       7  705.030371      12379826     22680122\n",
       "11  NEWAnk_NOMRS       8  705.195747      13711759     22685442\n",
       "12  NEWAnk_NOMRS       9  704.954242      14521026     22677673\n",
       "13  NEWAnk_NOMRS      10  704.519102      15090767     22663675"
      ]
     },
     "execution_count": 23,
     "metadata": {},
     "output_type": "execute_result"
    }
   ],
   "source": [
    "df_family_len_mean"
   ]
  },
  {
   "cell_type": "code",
   "execution_count": 57,
   "id": "12a01d43-538e-42fe-bd17-ec65504e3040",
   "metadata": {},
   "outputs": [
    {
     "data": {
      "text/plain": [
       "Text(0.5, 0, 'Tamaño de ítem')"
      ]
     },
     "execution_count": 57,
     "metadata": {},
     "output_type": "execute_result"
    },
    {
     "data": {
      "image/png": "[encoded data removed]",
      "text/plain": [
       "<Figure size 432x288 with 1 Axes>"
      ]
     },
     "metadata": {
      "needs_background": "light"
     },
     "output_type": "display_data"
    }
   ],
   "source": [
    "# Plotear items totales de transacciones vs items unicos en transacciones en NEWAnk (comun)\n",
    "ax = df_family_len_mean[df_family_len_mean['family'] == \"NEWAnk\"].plot(\n",
    "    x='length', y=['items_unicos', 'items_total'])\n",
    "ax.get_yaxis().set_major_formatter(matplot_formatter_mil_spanish())\n",
    "plt.ylabel('Cantidad de ítems')\n",
    "plt.xlabel('Tamaño de ítem')\n"
   ]
  },
  {
   "cell_type": "code",
   "execution_count": 64,
   "id": "508a8fb2-f334-4b02-83fe-bce902e78c7a",
   "metadata": {},
   "outputs": [],
   "source": [
    "def plot_txs_mrs_vs_kmeras(df_family_len_mean, ycolumn, ylabel):\n",
    "    assert(ycolumn in ['items_total', 'items_unicos', 'mean'])\n",
    "    \n",
    "    label_replacement = {\n",
    "        \"NEWAnk\": \"MRs\",\n",
    "        \"NEWAnk_NOMRS\": \"KMERAS\"\n",
    "    }\n",
    "    \n",
    "    fig, ax = plt.subplots(figsize=(7, 4))\n",
    "    for label, df in df_family_len_mean.groupby('family'):\n",
    "        df.plot(x='length', y=ycolumn, ax=ax, label=label_replacement[label])\n",
    "\n",
    "    ax.ticklabel_format(style='plain')\n",
    "\n",
    "    ax.get_yaxis().set_major_formatter(matplot_formatter_mil_spanish())\n",
    "    plt.ylabel(ylabel)\n",
    "    plt.xlabel('Largo de ítem')\n",
    "    plt.legend(title=\"Tipo de transacción\")\n",
    "    \n",
    "    return fig"
   ]
  },
  {
   "cell_type": "code",
   "execution_count": 65,
   "id": "de4ae862-73c3-4488-8874-07950ee0189e",
   "metadata": {},
   "outputs": [
    {
     "data": {
      "image/png": "[encoded data removed]",
      "text/plain": [
       "<Figure size 504x288 with 1 Axes>"
      ]
     },
     "metadata": {
      "needs_background": "light"
     },
     "output_type": "display_data"
    }
   ],
   "source": [
    "fig = plot_txs_mrs_vs_kmeras(df_family_len_mean, 'items_total', \"Items totales\")\n",
    "# fig.savefig('imagenes/kmeras/transacciones_items_totales_por_tam_item.pdf', bbox_inches = \"tight\")"
   ]
  },
  {
   "cell_type": "code",
   "execution_count": 66,
   "id": "14edbe65-2d50-4498-9385-0cefb95c3182",
   "metadata": {},
   "outputs": [
    {
     "data": {
      "image/png": "[encoded data removed]",
      "text/plain": [
       "<Figure size 504x288 with 1 Axes>"
      ]
     },
     "metadata": {
      "needs_background": "light"
     },
     "output_type": "display_data"
    }
   ],
   "source": [
    "fig = plot_txs_mrs_vs_kmeras(df_family_len_mean, 'items_unicos', \"Items distintos\")\n",
    "# fig.savefig('imagenes/kmeras/transacciones_items_unicos_por_tam_item.pdf', bbox_inches = \"tight\")"
   ]
  },
  {
   "cell_type": "code",
   "execution_count": 68,
   "id": "577de448-1d1f-4ab8-8adc-a7f4046b0212",
   "metadata": {},
   "outputs": [
    {
     "data": {
      "image/png": "[encoded data removed]",
      "text/plain": [
       "<Figure size 504x288 with 1 Axes>"
      ]
     },
     "metadata": {
      "needs_background": "light"
     },
     "output_type": "display_data"
    }
   ],
   "source": [
    "# Se podria usar el parámetro \"yerr\" para graficar el desvío. \n",
    "# El problema es que el grafico no se entiende\n",
    "#  porque las KMERAS tienen transacciones de todos los tamaños\n",
    "fig = plot_txs_mrs_vs_kmeras(df_family_len_mean, 'mean', \"Cantidad promedio de ítems\")\n",
    "\n",
    "# fig.savefig('imagenes/kmeras/transacciones_largo_promedio_por_tam_item.pdf', bbox_inches = \"tight\")"
   ]
  },
  {
   "cell_type": "code",
   "execution_count": 25,
   "id": "2b59a80f-569e-4625-8d9a-434cf10555d2",
   "metadata": {},
   "outputs": [
    {
     "data": {
      "text/html": [
       "<div>\n",
       "<style scoped>\n",
       "    .dataframe tbody tr th:only-of-type {\n",
       "        vertical-align: middle;\n",
       "    }\n",
       "\n",
       "    .dataframe tbody tr th {\n",
       "        vertical-align: top;\n",
       "    }\n",
       "\n",
       "    .dataframe thead th {\n",
       "        text-align: right;\n",
       "    }\n",
       "</style>\n",
       "<table border=\"1\" class=\"dataframe\">\n",
       "  <thead>\n",
       "    <tr style=\"text-align: right;\">\n",
       "      <th></th>\n",
       "      <th>family</th>\n",
       "      <th>length</th>\n",
       "      <th>mean</th>\n",
       "      <th>items_unicos</th>\n",
       "      <th>items_total</th>\n",
       "    </tr>\n",
       "  </thead>\n",
       "  <tbody>\n",
       "    <tr>\n",
       "      <th>0</th>\n",
       "      <td>NEWAnk</td>\n",
       "      <td>4</td>\n",
       "      <td>687.846902</td>\n",
       "      <td>158107</td>\n",
       "      <td>22127347</td>\n",
       "    </tr>\n",
       "    <tr>\n",
       "      <th>1</th>\n",
       "      <td>NEWAnk</td>\n",
       "      <td>5</td>\n",
       "      <td>664.043613</td>\n",
       "      <td>1670107</td>\n",
       "      <td>21361619</td>\n",
       "    </tr>\n",
       "    <tr>\n",
       "      <th>2</th>\n",
       "      <td>NEWAnk</td>\n",
       "      <td>6</td>\n",
       "      <td>354.914918</td>\n",
       "      <td>1918366</td>\n",
       "      <td>11417258</td>\n",
       "    </tr>\n",
       "    <tr>\n",
       "      <th>3</th>\n",
       "      <td>NEWAnk</td>\n",
       "      <td>7</td>\n",
       "      <td>151.531039</td>\n",
       "      <td>705168</td>\n",
       "      <td>4874602</td>\n",
       "    </tr>\n",
       "    <tr>\n",
       "      <th>4</th>\n",
       "      <td>NEWAnk</td>\n",
       "      <td>8</td>\n",
       "      <td>91.496783</td>\n",
       "      <td>406929</td>\n",
       "      <td>2943360</td>\n",
       "    </tr>\n",
       "    <tr>\n",
       "      <th>5</th>\n",
       "      <td>NEWAnk</td>\n",
       "      <td>9</td>\n",
       "      <td>63.876341</td>\n",
       "      <td>297277</td>\n",
       "      <td>2054838</td>\n",
       "    </tr>\n",
       "    <tr>\n",
       "      <th>6</th>\n",
       "      <td>NEWAnk</td>\n",
       "      <td>10</td>\n",
       "      <td>47.779818</td>\n",
       "      <td>229600</td>\n",
       "      <td>1535070</td>\n",
       "    </tr>\n",
       "    <tr>\n",
       "      <th>7</th>\n",
       "      <td>NEWAnk_NOMRS</td>\n",
       "      <td>4</td>\n",
       "      <td>687.919736</td>\n",
       "      <td>159450</td>\n",
       "      <td>22129690</td>\n",
       "    </tr>\n",
       "    <tr>\n",
       "      <th>8</th>\n",
       "      <td>NEWAnk_NOMRS</td>\n",
       "      <td>5</td>\n",
       "      <td>700.852778</td>\n",
       "      <td>2344861</td>\n",
       "      <td>22545733</td>\n",
       "    </tr>\n",
       "    <tr>\n",
       "      <th>9</th>\n",
       "      <td>NEWAnk_NOMRS</td>\n",
       "      <td>6</td>\n",
       "      <td>703.995555</td>\n",
       "      <td>8934181</td>\n",
       "      <td>22646833</td>\n",
       "    </tr>\n",
       "    <tr>\n",
       "      <th>10</th>\n",
       "      <td>NEWAnk_NOMRS</td>\n",
       "      <td>7</td>\n",
       "      <td>705.030371</td>\n",
       "      <td>12379826</td>\n",
       "      <td>22680122</td>\n",
       "    </tr>\n",
       "    <tr>\n",
       "      <th>11</th>\n",
       "      <td>NEWAnk_NOMRS</td>\n",
       "      <td>8</td>\n",
       "      <td>705.195747</td>\n",
       "      <td>13711759</td>\n",
       "      <td>22685442</td>\n",
       "    </tr>\n",
       "    <tr>\n",
       "      <th>12</th>\n",
       "      <td>NEWAnk_NOMRS</td>\n",
       "      <td>9</td>\n",
       "      <td>704.954242</td>\n",
       "      <td>14521026</td>\n",
       "      <td>22677673</td>\n",
       "    </tr>\n",
       "    <tr>\n",
       "      <th>13</th>\n",
       "      <td>NEWAnk_NOMRS</td>\n",
       "      <td>10</td>\n",
       "      <td>704.519102</td>\n",
       "      <td>15090767</td>\n",
       "      <td>22663675</td>\n",
       "    </tr>\n",
       "  </tbody>\n",
       "</table>\n",
       "</div>"
      ],
      "text/plain": [
       "          family  length        mean  items_unicos  items_total\n",
       "0         NEWAnk       4  687.846902        158107     22127347\n",
       "1         NEWAnk       5  664.043613       1670107     21361619\n",
       "2         NEWAnk       6  354.914918       1918366     11417258\n",
       "3         NEWAnk       7  151.531039        705168      4874602\n",
       "4         NEWAnk       8   91.496783        406929      2943360\n",
       "5         NEWAnk       9   63.876341        297277      2054838\n",
       "6         NEWAnk      10   47.779818        229600      1535070\n",
       "7   NEWAnk_NOMRS       4  687.919736        159450     22129690\n",
       "8   NEWAnk_NOMRS       5  700.852778       2344861     22545733\n",
       "9   NEWAnk_NOMRS       6  703.995555       8934181     22646833\n",
       "10  NEWAnk_NOMRS       7  705.030371      12379826     22680122\n",
       "11  NEWAnk_NOMRS       8  705.195747      13711759     22685442\n",
       "12  NEWAnk_NOMRS       9  704.954242      14521026     22677673\n",
       "13  NEWAnk_NOMRS      10  704.519102      15090767     22663675"
      ]
     },
     "execution_count": 25,
     "metadata": {},
     "output_type": "execute_result"
    }
   ],
   "source": [
    "df_family_len_mean"
   ]
  },
  {
   "cell_type": "code",
   "execution_count": 26,
   "id": "bbc52445-ee0c-424e-a6a0-00298843970d",
   "metadata": {},
   "outputs": [],
   "source": [
    "# ----------------\n",
    "# Lo mismo pero con len6"
   ]
  },
  {
   "cell_type": "code",
   "execution_count": 27,
   "id": "10569222-0c9c-426a-a022-33271c7b2c04",
   "metadata": {},
   "outputs": [],
   "source": [
    "# family_inputs_len6 = [\n",
    "#     FamilyInput(\"NEWAnk\", \"NEWAnk_len6_ALL_sub\", \"#bc5090\"),\n",
    "#     FamilyInput(\"NEWAnk_nomrs\", \"NEWAnk_len6_nomrs\", \"#003f5c\")\n",
    "# ]"
   ]
  },
  {
   "cell_type": "code",
   "execution_count": 28,
   "id": "487c8b22-ba24-47da-8275-12b063b86eda",
   "metadata": {},
   "outputs": [],
   "source": [
    "# txs_by_family = build_txs_by_family(family_inputs_len6)"
   ]
  },
  {
   "cell_type": "code",
   "execution_count": 29,
   "id": "1f11bd3d-91b6-403d-9acd-4be07c692d06",
   "metadata": {},
   "outputs": [
    {
     "name": "stdout",
     "output_type": "stream",
     "text": [
      "Building transaction_len_df for NEWAnk\n",
      "Building transaction_len_df for NEWAnk_nomrs\n"
     ]
    },
    {
     "data": {
      "text/html": [
       "<div>\n",
       "<style scoped>\n",
       "    .dataframe tbody tr th:only-of-type {\n",
       "        vertical-align: middle;\n",
       "    }\n",
       "\n",
       "    .dataframe tbody tr th {\n",
       "        vertical-align: top;\n",
       "    }\n",
       "\n",
       "    .dataframe thead tr th {\n",
       "        text-align: left;\n",
       "    }\n",
       "\n",
       "    .dataframe thead tr:last-of-type th {\n",
       "        text-align: right;\n",
       "    }\n",
       "</style>\n",
       "<table border=\"1\" class=\"dataframe\">\n",
       "  <thead>\n",
       "    <tr>\n",
       "      <th></th>\n",
       "      <th colspan=\"8\" halign=\"left\">tx_length</th>\n",
       "    </tr>\n",
       "    <tr>\n",
       "      <th></th>\n",
       "      <th>count</th>\n",
       "      <th>mean</th>\n",
       "      <th>std</th>\n",
       "      <th>min</th>\n",
       "      <th>25%</th>\n",
       "      <th>50%</th>\n",
       "      <th>75%</th>\n",
       "      <th>max</th>\n",
       "    </tr>\n",
       "    <tr>\n",
       "      <th>family</th>\n",
       "      <th></th>\n",
       "      <th></th>\n",
       "      <th></th>\n",
       "      <th></th>\n",
       "      <th></th>\n",
       "      <th></th>\n",
       "      <th></th>\n",
       "      <th></th>\n",
       "    </tr>\n",
       "  </thead>\n",
       "  <tbody>\n",
       "    <tr>\n",
       "      <th>NEWAnk</th>\n",
       "      <td>32169.0</td>\n",
       "      <td>354.914918</td>\n",
       "      <td>224.833071</td>\n",
       "      <td>31.0</td>\n",
       "      <td>192.0</td>\n",
       "      <td>293.0</td>\n",
       "      <td>458.0</td>\n",
       "      <td>3331.0</td>\n",
       "    </tr>\n",
       "    <tr>\n",
       "      <th>NEWAnk_nomrs</th>\n",
       "      <td>32169.0</td>\n",
       "      <td>703.995555</td>\n",
       "      <td>494.270678</td>\n",
       "      <td>34.0</td>\n",
       "      <td>345.0</td>\n",
       "      <td>565.0</td>\n",
       "      <td>939.0</td>\n",
       "      <td>6990.0</td>\n",
       "    </tr>\n",
       "  </tbody>\n",
       "</table>\n",
       "</div>"
      ],
      "text/plain": [
       "             tx_length                                                     \\\n",
       "                 count        mean         std   min    25%    50%    75%   \n",
       "family                                                                      \n",
       "NEWAnk         32169.0  354.914918  224.833071  31.0  192.0  293.0  458.0   \n",
       "NEWAnk_nomrs   32169.0  703.995555  494.270678  34.0  345.0  565.0  939.0   \n",
       "\n",
       "                      \n",
       "                 max  \n",
       "family                \n",
       "NEWAnk        3331.0  \n",
       "NEWAnk_nomrs  6990.0  "
      ]
     },
     "execution_count": 29,
     "metadata": {},
     "output_type": "execute_result"
    }
   ],
   "source": [
    "# df_txs_length = autils.build_transaction_len_df(txs_by_family)\n",
    "# df_txs_length.groupby('family').describe()"
   ]
  },
  {
   "cell_type": "code",
   "execution_count": 30,
   "id": "13c5fac0-1595-4bb6-8415-160d114ffef1",
   "metadata": {},
   "outputs": [
    {
     "name": "stdout",
     "output_type": "stream",
     "text": [
      "Building mr_tx_frequency for NEWAnk\n",
      " .... freq_count .... 0/32169\n",
      " .... freq_count .... 10000/32169\n",
      " .... freq_count .... 20000/32169\n",
      " .... freq_count .... 30000/32169\n",
      "Building mr_tx_frequency for NEWAnk_nomrs\n",
      " .... freq_count .... 0/32169\n",
      " .... freq_count .... 10000/32169\n",
      " .... freq_count .... 20000/32169\n",
      " .... freq_count .... 30000/32169\n",
      "Finished\n"
     ]
    }
   ],
   "source": [
    "# df_freq_data = autils.build_mr_tx_frequency_df(txs_by_family)"
   ]
  },
  {
   "cell_type": "code",
   "execution_count": 31,
   "id": "1758fc29-0ca5-4289-ba40-13602b461fc7",
   "metadata": {},
   "outputs": [
    {
     "name": "stdout",
     "output_type": "stream",
     "text": [
      "build_pairs_mr_tx_frequency_df, min_support: 0.025\n",
      "Filtering mrs to get most frequents only\n",
      "Building freqs_by_pair_combinations for NEWAnk...\n",
      "Filtering transactions_frequents\n",
      " .... 0/32169\n",
      " .... 10000/32169\n",
      " .... 20000/32169\n",
      " .... 30000/32169\n",
      "Building freqs_by_pair_data for NEWAnk...\n",
      "NEWAnk ready.\n",
      "Building freqs_by_pair_combinations for NEWAnk_nomrs...\n",
      "Filtering transactions_frequents\n",
      " .... 0/32169\n",
      " .... 10000/32169\n",
      " .... 20000/32169\n",
      " .... 30000/32169\n",
      "Building freqs_by_pair_data for NEWAnk_nomrs...\n",
      "NEWAnk_nomrs ready.\n"
     ]
    }
   ],
   "source": [
    "# min_support = 0.025\n",
    "# df_freq_pairs_data = autils.build_pairs_mr_tx_frequency_df(txs_by_family, df_freq_data, min_support)"
   ]
  },
  {
   "cell_type": "code",
   "execution_count": 32,
   "id": "6e9cf078-b59e-48d6-9db6-98f34baca642",
   "metadata": {},
   "outputs": [],
   "source": [
    "# Renombrar para grafico\n",
    "# df_freq_pairs_data['family'] = df_freq_pairs_data['family'].replace({'NEWAnk_nomrs': 'NEWAnk_KMERAS'})\n",
    "# df_freq_pairs_data"
   ]
  },
  {
   "cell_type": "code",
   "execution_count": 36,
   "id": "8ce083f7-f679-4eb2-85ec-f8f1e0254d5b",
   "metadata": {},
   "outputs": [
    {
     "data": {
      "image/png": "[encoded data removed]",
      "text/plain": [
       "<Figure size 432x288 with 1 Axes>"
      ]
     },
     "metadata": {
      "needs_background": "light"
     },
     "output_type": "display_data"
    }
   ],
   "source": [
    "# plot_histogram_mrs_support_count(df_freq_data, min_val, max_val, n_bins\n",
    "# fig = plot_histogram_mrs_support_count(df_freq_pairs_data, 0.0, 0.050, 10)\n",
    "# fig.savefig('imagenes/kmeras/freq_pares_mrs_nomrs_newank6.pdf', bbox_inches = \"tight\")"
   ]
  },
  {
   "cell_type": "code",
   "execution_count": 34,
   "id": "25e6c98c-1872-4096-ad3c-6b6a0c8e3d3b",
   "metadata": {},
   "outputs": [],
   "source": [
    "\n",
    "# plot_freq_pares_nomrs = sns.histplot(df_freq_pairs_data.rename(columns={\"freq_percentage\": \"support\"}), \n",
    "#                                      x='support', \n",
    "#                                      hue='family', \n",
    "#              multiple='dodge', bins=20, binrange=(0.010, 0.05))\n",
    "\n",
    "# plot_freq_pares_nomrs.set_title('Cantidad de pares de ítems para un soporte dado')\n",
    "# fig = plot_freq_pares_nomrs.get_figure()\n",
    "# fig.savefig('imagenes/freq_pares_mrs_nomrs_newank6.pdf', bbox_inches = \"tight\")\n"
   ]
  },
  {
   "cell_type": "code",
   "execution_count": null,
   "id": "7bc4a4bd-9a66-4c67-bc31-c1e36406db3c",
   "metadata": {},
   "outputs": [],
   "source": []
  }
 ],
 "metadata": {
  "kernelspec": {
   "display_name": "Python 3 (ipykernel)",
   "language": "python",
   "name": "python3"
  },
  "language_info": {
   "codemirror_mode": {
    "name": "ipython",
    "version": 3
   },
   "file_extension": ".py",
   "mimetype": "text/x-python",
   "name": "python",
   "nbconvert_exporter": "python",
   "pygments_lexer": "ipython3",
   "version": "3.8.10"
  }
 },
 "nbformat": 4,
 "nbformat_minor": 5
}
