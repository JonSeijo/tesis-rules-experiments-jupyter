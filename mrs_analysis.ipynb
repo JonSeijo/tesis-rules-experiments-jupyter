{
 "cells": [
  {
   "cell_type": "code",
   "execution_count": 1,
   "id": "639ac4e0-4127-4267-a9f0-472eab784262",
   "metadata": {},
   "outputs": [],
   "source": [
    "from compare_rules import generic_set_intersection, \\\n",
    "    fast_list_intersection, mrs_txs_interseccion_lev_1, \\\n",
    "    mrs_txs_frecuencia_mayor_set, mrs_txs_frecuencia_mayor_list\n",
    "\n",
    "from info_rules import all_mrs_from_transactions\n",
    "\n",
    "import analysis_utils as autils\n",
    "\n",
    "from typing import Dict, List, Tuple"
   ]
  },
  {
   "cell_type": "code",
   "execution_count": 2,
   "id": "74c5edb0-e5b7-4067-ae6a-2fdae32be878",
   "metadata": {},
   "outputs": [],
   "source": [
    "import pandas as pd\n",
    "import seaborn as sns\n",
    "import numpy as np\n",
    "from plot_utils import set_spanish_locale, format_mil_spanish, matplot_formatter_mil_spanish, \\\n",
    "    plot_histogram_mrs_support_count\n",
    "\n",
    "set_spanish_locale()\n",
    "\n",
    "sns.set_style(\"whitegrid\")\n",
    "sns.set_context(\"notebook\")\n",
    "\n",
    "import matplotlib.pyplot as plt\n",
    "plt.rcParams[\"figure.figsize\"]= (8, 6)"
   ]
  },
  {
   "cell_type": "code",
   "execution_count": 3,
   "id": "f1c459df-a093-4883-9a48-9def8ced53b3",
   "metadata": {},
   "outputs": [],
   "source": [
    "# Quiero comparar los MRs en distintas familias.\n",
    "# Para eso uso las CLEAN transactions, que son las que se le pasan a las reglas\n",
    "# Tengo pendiente entender mejor cual es la diferencia entre las clean y las originales"
   ]
  },
  {
   "cell_type": "code",
   "execution_count": 4,
   "id": "6b82a37b-9f6f-45c6-b672-bc05a01e9ecd",
   "metadata": {},
   "outputs": [],
   "source": [
    "transactions_newank = autils.read_clean_transactions(\"NEWAnk_len4_ALL_sub\", \"output/clean_transactions\")"
   ]
  },
  {
   "cell_type": "code",
   "execution_count": 5,
   "id": "fb5fdb5e-885e-45c6-8142-201df3227b2a",
   "metadata": {},
   "outputs": [],
   "source": [
    "transactions_newank_uniform = autils.read_clean_transactions(\"NEWAnk_UNIFORM_len4_ALL_sub\", \"output/clean_transactions\")"
   ]
  },
  {
   "cell_type": "code",
   "execution_count": 6,
   "id": "c580bad4-fa13-4321-ab13-b0aeb90f6955",
   "metadata": {},
   "outputs": [],
   "source": [
    "transactions_newank_scram = autils.read_clean_transactions(\"NEWAnk_SCRAMBLED_len4_ALL_sub\", \"output/clean_transactions\")"
   ]
  },
  {
   "cell_type": "code",
   "execution_count": 7,
   "id": "23c6c225-4075-4f15-bab1-e7709cdd8e25",
   "metadata": {},
   "outputs": [],
   "source": [
    "transactions_tpr = autils.read_clean_transactions(\"TPR1_len4_ALL_sub\", \"output/clean_transactions\")"
   ]
  },
  {
   "cell_type": "code",
   "execution_count": 8,
   "id": "198c6bbd-bf95-4ab7-826d-9cc20088e447",
   "metadata": {},
   "outputs": [],
   "source": [
    "transactions_lrr = autils.read_clean_transactions(\"LRR1_len4_ALL_sub\", \"output/clean_transactions\")"
   ]
  },
  {
   "cell_type": "code",
   "execution_count": 9,
   "id": "0a044d72-e2aa-4bc1-82b7-78ec61dd28db",
   "metadata": {},
   "outputs": [],
   "source": [
    "assert len(transactions_newank) == 32169\n",
    "assert len(transactions_tpr) == 36389"
   ]
  },
  {
   "cell_type": "code",
   "execution_count": 10,
   "id": "e41c6f99-53c4-494a-8fe1-e193079fa044",
   "metadata": {},
   "outputs": [
    {
     "name": "stdout",
     "output_type": "stream",
     "text": [
      "Cantidad de transacciones\n",
      "transactions_newank: 32169\n",
      "transactions_tpr:    36389\n",
      "transactions_lrr:    33060\n"
     ]
    }
   ],
   "source": [
    "print(\"Cantidad de transacciones\")\n",
    "print(\"transactions_newank:\", len(transactions_newank))\n",
    "print(\"transactions_tpr:   \", len(transactions_tpr))\n",
    "print(\"transactions_lrr:   \", len(transactions_lrr))"
   ]
  },
  {
   "cell_type": "code",
   "execution_count": 11,
   "id": "7145175f-0380-4ab1-9537-d48421727869",
   "metadata": {},
   "outputs": [
    {
     "name": "stdout",
     "output_type": "stream",
     "text": [
      "Check transactions 0 .. OK!\n",
      "Check transactions 1 .. OK!\n",
      "Check transactions 2 .. OK!\n"
     ]
    }
   ],
   "source": [
    "# Sanity check: cada transaccion no tiene items repetidos\n",
    "for idx, transaccion in enumerate([transactions_newank, transactions_tpr, transactions_lrr]):\n",
    "    for tx in transaccion:\n",
    "        if len(tx) != len(set(tx)):\n",
    "            raise Exception(\"Transaccion invalida!\")\n",
    "    print(f\"Check transactions {idx} .. OK!\")"
   ]
  },
  {
   "cell_type": "code",
   "execution_count": 12,
   "id": "f7be1ab2-7437-4438-a403-bbb3a143d47f",
   "metadata": {},
   "outputs": [],
   "source": [
    "mrs_newank = all_mrs_from_transactions(transactions_newank)\n",
    "mrs_newank_unique = set(mrs_newank)"
   ]
  },
  {
   "cell_type": "code",
   "execution_count": 13,
   "id": "4b49fbf6-275b-48b7-bb26-ccdaf53f60d6",
   "metadata": {},
   "outputs": [],
   "source": [
    "mrs_tpr = all_mrs_from_transactions(transactions_tpr)\n",
    "mrs_tpr_unique = set(mrs_tpr)"
   ]
  },
  {
   "cell_type": "code",
   "execution_count": 14,
   "id": "64944e4f-de7f-4cde-94fd-2a74c44b6edc",
   "metadata": {},
   "outputs": [],
   "source": [
    "mrs_lrr = all_mrs_from_transactions(transactions_lrr)\n",
    "mrs_lrr_unique = set(mrs_lrr)"
   ]
  },
  {
   "cell_type": "code",
   "execution_count": 15,
   "id": "b3c9900b-96cc-4d65-a542-4f79daa86343",
   "metadata": {},
   "outputs": [],
   "source": [
    "# Exp0: Cuantos MRs tienen en comun"
   ]
  },
  {
   "cell_type": "code",
   "execution_count": 16,
   "id": "24971758-e57d-4193-a358-16e236824ae5",
   "metadata": {},
   "outputs": [],
   "source": [
    "exp0_intersection = fast_list_intersection(mrs_newank, mrs_tpr)"
   ]
  },
  {
   "cell_type": "code",
   "execution_count": 17,
   "id": "96e7d6f8-7234-4776-9fdd-82a9a8d7f9f9",
   "metadata": {},
   "outputs": [
    {
     "name": "stdout",
     "output_type": "stream",
     "text": [
      "Exp 0\n",
      "family_a total:      22127347\n",
      "family_b total:      22389264\n",
      "result intersection: 22106022\n"
     ]
    }
   ],
   "source": [
    "print(\"Exp 0\")\n",
    "print(\"family_a total:     \", len(mrs_newank))\n",
    "print(\"family_b total:     \", len(mrs_tpr))\n",
    "print(\"result intersection:\", len(exp0_intersection))"
   ]
  },
  {
   "cell_type": "code",
   "execution_count": 18,
   "id": "a1a130f3-7458-42ae-89ed-7d6a54705486",
   "metadata": {},
   "outputs": [],
   "source": [
    "# ------ Combinaciones para las tres familias (totales)\n",
    "# print(\"mrs_newank total:     \", len(mrs_newank))\n",
    "# print(\"mrs_tpr total:     \", len(mrs_tpr))\n",
    "# print(\"mrs_lrr total:     \", len(mrs_lrr))\n",
    "# print(\"\")\n",
    "# print(\"intersection(mrs_newank, mrs_tpr)\", \n",
    "#       len(fast_list_intersection(mrs_newank, mrs_tpr)))\n",
    "# print(\"intersection(mrs_newank, mrs_lrr)\", \n",
    "#       len(fast_list_intersection(mrs_newank, mrs_lrr)))\n",
    "# print(\"intersection(mrs_tpr, mrs_lrr)\", \n",
    "#       len(fast_list_intersection(mrs_tpr, mrs_lrr)))\n",
    "# print(\"\")\n",
    "# print(\"intersection(mrs_newank, mrs_tpr, mrs_lrr)\",\n",
    "#       len(fast_list_intersection(mrs_newank, fast_list_intersection(mrs_tpr, mrs_lrr)))\n",
    "#      )"
   ]
  },
  {
   "cell_type": "code",
   "execution_count": 19,
   "id": "720ce358-7583-4561-af79-624287f3dfe5",
   "metadata": {},
   "outputs": [],
   "source": [
    "# Exp1: Cuantos MRs unicos tienen en comun -como sets-"
   ]
  },
  {
   "cell_type": "code",
   "execution_count": 20,
   "id": "4fbbfd9c-99a6-4df4-b2fb-807af697fe22",
   "metadata": {},
   "outputs": [],
   "source": [
    "epx1_intersection = generic_set_intersection(mrs_newank_unique, mrs_tpr_unique)"
   ]
  },
  {
   "cell_type": "code",
   "execution_count": 21,
   "id": "ce84b363-ed60-41cf-9b6a-1c6d2c97eba7",
   "metadata": {},
   "outputs": [
    {
     "name": "stdout",
     "output_type": "stream",
     "text": [
      "Exp 1\n",
      "family_a uniques:    158107\n",
      "family_b uniques:    157521\n",
      "result intersection: 156340\n"
     ]
    }
   ],
   "source": [
    "print(\"Exp 1\")\n",
    "print(\"family_a uniques:   \", len(mrs_newank_unique))\n",
    "print(\"family_b uniques:   \", len(mrs_tpr_unique))\n",
    "print(\"result intersection:\", len(epx1_intersection))"
   ]
  },
  {
   "cell_type": "code",
   "execution_count": 22,
   "id": "157a8ef3-c626-4109-b8d2-87b6ed853a49",
   "metadata": {},
   "outputs": [],
   "source": [
    "# ------ Combinaciones para las tres familias (unicos)\n",
    "def print_combinaciones(mrs_newank_unique, mrs_tpr_unique, mrs_lrr_unique):\n",
    "    print(\"mrs_newank_unique:     \", format_mil_spanish(len(mrs_newank_unique)))\n",
    "    print(\"mrs_tpr_unique:     \", format_mil_spanish(len(mrs_tpr_unique)))\n",
    "    print(\"mrs_lrr_unique:     \", format_mil_spanish(len(mrs_lrr_unique)))\n",
    "    print(\"\")\n",
    "    print(\"intersection(mrs_newank_unique, mrs_tpr_unique)\", \n",
    "          format_mil_spanish(len(generic_set_intersection(mrs_newank_unique, mrs_tpr_unique))))\n",
    "    print(\"intersection(mrs_newank_unique, mrs_lrr_unique)\", \n",
    "          format_mil_spanish(len(generic_set_intersection(mrs_newank_unique, mrs_lrr_unique))))\n",
    "    print(\"intersection(mrs_tpr_unique, mrs_lrr_unique)\", \n",
    "          format_mil_spanish(len(generic_set_intersection(mrs_tpr_unique, mrs_lrr_unique))))\n",
    "    print(\"\")\n",
    "    print(\"intersection(mrs_newank, mrs_tpr, mrs_lrr)\",\n",
    "          format_mil_spanish(len(generic_set_intersection(mrs_newank_unique, generic_set_intersection(mrs_tpr_unique, mrs_lrr_unique))))\n",
    "         )"
   ]
  },
  {
   "cell_type": "code",
   "execution_count": 23,
   "id": "fdd1e8da-1b0e-4277-8202-74ca1c7a0094",
   "metadata": {},
   "outputs": [],
   "source": [
    "# TODO: Extraer a .py (latex_utils?) y agregar tests\n",
    "def print_combinaciones_for_latex(mrs_newank_unique, mrs_tpr_unique, mrs_lrr_unique):\n",
    "    \n",
    "    mrs_newank_unique_len = len(mrs_newank_unique)\n",
    "    mrs_tpr_unique_len = len(mrs_tpr_unique)\n",
    "    mrs_lrr_unique_len = len(mrs_lrr_unique)\n",
    "    \n",
    "    intersection_mrs_newank_unique_mrs_tpr_unique = \\\n",
    "          len(generic_set_intersection(mrs_newank_unique, mrs_tpr_unique))\n",
    "    intersection_mrs_newank_unique_mrs_lrr_unique = \\\n",
    "          len(generic_set_intersection(mrs_newank_unique, mrs_lrr_unique))\n",
    "    intersection_mrs_tpr_unique_mrs_lrr_unique = \\\n",
    "          len(generic_set_intersection(mrs_tpr_unique, mrs_lrr_unique))\n",
    "\n",
    "    intersection_mrs_newank_mrs_tpr_mrs_lrr = \\\n",
    "          len(generic_set_intersection(mrs_newank_unique, generic_set_intersection(mrs_tpr_unique, mrs_lrr_unique)))\n",
    "         \n",
    "    header = \"\"\"\n",
    "\\\\begin{table}[H]\n",
    "\\\\begin{center}\n",
    "\\\\begin{tabular}{|c|c|c|c|} \n",
    " \\\\hline\n",
    " \\\\textbf{{\\\\newank}} & \\\\textbf{{\\\\tpr}} & \\\\textbf{{\\\\lrr}} & \\\\multicolumn{1}{p{6cm}|}{\\\\textbf{Cantidad de MRs compartidos \\\\newline entre las familias seleccionadas}} \\\\\\\\\n",
    "\"\"\"\n",
    "    content = f\"\"\"\\\\hline\n",
    "x &   &   & {format_mil_spanish(mrs_newank_unique_len)} \\\\\\\\\n",
    " \\\\hline\n",
    "   & x &   & {format_mil_spanish(mrs_tpr_unique_len)} \\\\\\\\\n",
    " \\\\hline\n",
    "   &   & x & {format_mil_spanish(mrs_lrr_unique_len)} \\\\\\\\ \n",
    " \\\\hline\n",
    " x & x &   & {format_mil_spanish(intersection_mrs_newank_unique_mrs_tpr_unique)} \\\\\\\\ \n",
    " \\\\hline\n",
    " x &   & x & {format_mil_spanish(intersection_mrs_newank_unique_mrs_lrr_unique)} \\\\\\\\ \n",
    " \\\\hline\n",
    "   & x & x & {format_mil_spanish(intersection_mrs_tpr_unique_mrs_lrr_unique)} \\\\\\\\ \n",
    " \\\\hline\n",
    " x & x & x & {format_mil_spanish(intersection_mrs_newank_mrs_tpr_mrs_lrr)} \\\\\\\\ \n",
    " \\\\hline\n",
    " \"\"\"\n",
    "    footer = \"\"\"\n",
    "\\\\end{tabular}\n",
    "\\\\caption{Cantidad de MRs en las transacciones de las familias comparables, usando {\\\\minlen} (((COMPLETAR))) y refinamiento \\\\emph{substring}. No se tiene en cuenta la cantidad de instancias. En cada fila se marca con una x aquellas familias que se tomaron para calcular la intersección.}\n",
    "\\\\end{center}\n",
    "\\\\end{table} \n",
    "\"\"\"\n",
    "    print(header + content + footer)"
   ]
  },
  {
   "cell_type": "code",
   "execution_count": 24,
   "id": "197a9d6c-accb-4594-a9e3-f2d5cf0f9ee2",
   "metadata": {},
   "outputs": [
    {
     "name": "stdout",
     "output_type": "stream",
     "text": [
      "mrs_newank_unique:      158.107\n",
      "mrs_tpr_unique:      157.521\n",
      "mrs_lrr_unique:      156.549\n",
      "\n",
      "intersection(mrs_newank_unique, mrs_tpr_unique) 156.340\n",
      "intersection(mrs_newank_unique, mrs_lrr_unique) 155.456\n",
      "intersection(mrs_tpr_unique, mrs_lrr_unique) 154.910\n",
      "\n",
      "intersection(mrs_newank, mrs_tpr, mrs_lrr) 154.157\n"
     ]
    }
   ],
   "source": [
    "# len_4\n",
    "print_combinaciones(mrs_newank_unique, mrs_tpr_unique, mrs_lrr_unique)"
   ]
  },
  {
   "cell_type": "code",
   "execution_count": 25,
   "id": "d6ee3f26-8605-4a0e-8927-a8b59775e9dc",
   "metadata": {},
   "outputs": [],
   "source": [
    "# len_5\n",
    "\n",
    "transactions_newank_len5 = autils.read_clean_transactions(\"NEWAnk_len5_ALL_sub\", \"output/clean_transactions\")\n",
    "transactions_tpr_len5 = autils.read_clean_transactions(\"TPR1_len5_ALL_sub\", \"output/clean_transactions\")\n",
    "transactions_lrr_len5 = autils.read_clean_transactions(\"LRR1_len5_ALL_sub\", \"output/clean_transactions\")\n",
    "\n",
    "\n",
    "mrs_newank_len5 = all_mrs_from_transactions(transactions_newank_len5)\n",
    "mrs_tpr_len5 = all_mrs_from_transactions(transactions_tpr_len5)\n",
    "mrs_lrr_len5 = all_mrs_from_transactions(transactions_lrr_len5)\n",
    "\n",
    "mrs_newank_unique_len5 = set(mrs_newank_len5)\n",
    "mrs_tpr_unique_len5 = set(mrs_tpr_len5)\n",
    "mrs_lrr_unique_len5 = set(mrs_lrr_len5)\n",
    "\n",
    "# Sirve de algo? experimentar\n",
    "del transactions_newank_len5\n",
    "del transactions_tpr_len5\n",
    "del transactions_lrr_len5"
   ]
  },
  {
   "cell_type": "code",
   "execution_count": 26,
   "id": "21655519-20fa-4c37-9447-85c4a62c3da1",
   "metadata": {},
   "outputs": [
    {
     "name": "stdout",
     "output_type": "stream",
     "text": [
      "mrs_newank_unique:      1.670.107\n",
      "mrs_tpr_unique:      1.674.199\n",
      "mrs_lrr_unique:      1.299.696\n",
      "\n",
      "intersection(mrs_newank_unique, mrs_tpr_unique) 1.252.358\n",
      "intersection(mrs_newank_unique, mrs_lrr_unique) 1.008.665\n",
      "intersection(mrs_tpr_unique, mrs_lrr_unique) 996.533\n",
      "\n",
      "intersection(mrs_newank, mrs_tpr, mrs_lrr) 861.715\n"
     ]
    }
   ],
   "source": [
    "print_combinaciones(mrs_newank_unique_len5, mrs_tpr_unique_len5, mrs_lrr_unique_len5)"
   ]
  },
  {
   "cell_type": "code",
   "execution_count": null,
   "id": "cdde3420-70ab-44bd-93b6-4d0be62a7544",
   "metadata": {},
   "outputs": [],
   "source": []
  },
  {
   "cell_type": "code",
   "execution_count": 27,
   "id": "9fc7bba7-08ba-4ca4-ba73-8c8971cf14ad",
   "metadata": {},
   "outputs": [],
   "source": [
    "# Exp2: Cuantos MRs unicos tienen en comun -como sets-, con distancia=1"
   ]
  },
  {
   "cell_type": "code",
   "execution_count": 28,
   "id": "6be16645-bbca-4d40-b7f3-c7e5c1b32507",
   "metadata": {},
   "outputs": [],
   "source": [
    "exp2_intersection = mrs_txs_interseccion_lev_1(mrs_newank_unique, mrs_tpr_unique) # Usa idea de generar a priori las posibles rtas y luego revisar si en el otro set están\n",
    "# La \"interseccion\" es mas grande y eso esta ok,\n",
    "# porque cuando hay un match entre un mr y uno parecido, se agregan ambos a la bolsa de intersecciones"
   ]
  },
  {
   "cell_type": "code",
   "execution_count": 29,
   "id": "2d1b9ce7-3c80-43a6-a4c4-1cdffb7fdb5e",
   "metadata": {},
   "outputs": [
    {
     "name": "stdout",
     "output_type": "stream",
     "text": [
      "Exp 2\n",
      "family_a uniques:    158107\n",
      "family_b uniques:    157521\n",
      "result intersection: 159285\n"
     ]
    }
   ],
   "source": [
    "print(\"Exp 2\")\n",
    "print(\"family_a uniques:   \", len(mrs_newank_unique))\n",
    "print(\"family_b uniques:   \", len(mrs_tpr_unique))\n",
    "print(\"result intersection:\", len(exp2_intersection))"
   ]
  },
  {
   "cell_type": "code",
   "execution_count": 30,
   "id": "a89e3d11-5cb3-48f2-b7fe-fa51fbb59137",
   "metadata": {},
   "outputs": [],
   "source": [
    "# Exp3: Cuantos MRs unicos tienen en comun, solo si tomo los mas frecuentes"
   ]
  },
  {
   "cell_type": "code",
   "execution_count": 31,
   "id": "2859871f-9d32-4662-9b06-713bfb887147",
   "metadata": {},
   "outputs": [],
   "source": [
    "#min_freq = 500    # Despues del exp6 seguramente pueda definir mejor un minimo\n",
    "min_freq = 0.025*32169 # ~804 = 804,225\n",
    "mrs_newank_freq = mrs_txs_frecuencia_mayor_set(min_freq, mrs_newank)\n",
    "mrs_tpr_freq = mrs_txs_frecuencia_mayor_set(min_freq, mrs_tpr)\n",
    "mrs_lrr_freq = mrs_txs_frecuencia_mayor_set(min_freq, mrs_lrr)\n",
    "# Podria ver cuales son o simil\n",
    "\n",
    "# top5 de cada uno. de fimlia a, de familia b y de interseccion.\n",
    "# visualizar el top10"
   ]
  },
  {
   "cell_type": "code",
   "execution_count": 32,
   "id": "b0f87a1f-5df6-4d47-94bf-1645c72dcb68",
   "metadata": {},
   "outputs": [],
   "source": [
    "mrs_newank_len5_freq = mrs_txs_frecuencia_mayor_set(min_freq, mrs_newank_len5)\n",
    "mrs_tpr_len5_freq = mrs_txs_frecuencia_mayor_set(min_freq, mrs_tpr_len5)\n",
    "mrs_lrr_len5_freq = mrs_txs_frecuencia_mayor_set(min_freq, mrs_lrr_len5)"
   ]
  },
  {
   "cell_type": "code",
   "execution_count": 33,
   "id": "64ef77ac-4029-4ccf-b0e0-d9af18320cb7",
   "metadata": {},
   "outputs": [],
   "source": [
    "exp3_interseccion = fast_list_intersection(mrs_newank_freq, mrs_tpr_freq)"
   ]
  },
  {
   "cell_type": "code",
   "execution_count": 34,
   "id": "201d6309-5423-40d0-b635-ab91beddcaad",
   "metadata": {},
   "outputs": [
    {
     "name": "stdout",
     "output_type": "stream",
     "text": [
      "Exp 3\n",
      "family_a freqs:      2130\n",
      "family_b freqs:      2677\n",
      "result intersection: 708\n"
     ]
    }
   ],
   "source": [
    "print(\"Exp 3\")\n",
    "print(\"family_a freqs:     \", len(mrs_newank_freq))\n",
    "print(\"family_b freqs:     \", len(mrs_tpr_freq))\n",
    "print(\"result intersection:\", len(exp3_interseccion))"
   ]
  },
  {
   "cell_type": "code",
   "execution_count": 35,
   "id": "4892834e-19b0-42be-931d-a62abc75e32c",
   "metadata": {},
   "outputs": [
    {
     "name": "stdout",
     "output_type": "stream",
     "text": [
      "mrs_newank_unique:      2.130\n",
      "mrs_tpr_unique:      2.677\n",
      "mrs_lrr_unique:      3.759\n",
      "\n",
      "intersection(mrs_newank_unique, mrs_tpr_unique) 708\n",
      "intersection(mrs_newank_unique, mrs_lrr_unique) 485\n",
      "intersection(mrs_tpr_unique, mrs_lrr_unique) 628\n",
      "\n",
      "intersection(mrs_newank, mrs_tpr, mrs_lrr) 316\n"
     ]
    }
   ],
   "source": [
    "# len_4 . frequent mrs\n",
    "print_combinaciones(mrs_newank_freq, mrs_tpr_freq, mrs_lrr_freq)"
   ]
  },
  {
   "cell_type": "code",
   "execution_count": 36,
   "id": "f4381da3-33bd-4f0d-afb2-25ef79b1f9fd",
   "metadata": {},
   "outputs": [
    {
     "name": "stdout",
     "output_type": "stream",
     "text": [
      "\n",
      "\\begin{table}[H]\n",
      "\\begin{center}\n",
      "\\begin{tabular}{|c|c|c|c|} \n",
      " \\hline\n",
      " \\texttt{NEWAnk} & \\texttt{TPR1} & \\texttt{LRR1} & \\textbf{Cantidad de MRs únicos} \\\\ \n",
      " \\hline\n",
      "x &   &   & 2.130 \\\\\n",
      " \\hline\n",
      "   & x &   & 2.677 \\\\\n",
      " \\hline\n",
      "   &   & x & 3.759 \\\\ \n",
      " \\hline\n",
      " x & x &   & 708 \\\\ \n",
      " \\hline\n",
      " x &   & x & 485 \\\\ \n",
      " \\hline\n",
      "   & x & x & 628 \\\\ \n",
      " \\hline\n",
      " x & x & x & 316 \\\\ \n",
      " \\hline\n",
      " \n",
      "\\end{tabular}\n",
      "\\caption{\\centering Cantidad de MRs únicos, ((((COMPLETAR)))). En cada fila se marca con una x aquellas que se tomaron para calcular la intersección.}\n",
      "\\end{center}\n",
      "\\end{table} \n",
      "\n"
     ]
    }
   ],
   "source": [
    "print_combinaciones_for_latex(mrs_newank_freq, mrs_tpr_freq, mrs_lrr_freq)"
   ]
  },
  {
   "cell_type": "code",
   "execution_count": 37,
   "id": "0cdea055-0d8a-44e9-92b6-708d7162d645",
   "metadata": {},
   "outputs": [
    {
     "name": "stdout",
     "output_type": "stream",
     "text": [
      "mrs_newank_unique:      398\n",
      "mrs_tpr_unique:      133\n",
      "mrs_lrr_unique:      1.136\n",
      "\n",
      "intersection(mrs_newank_unique, mrs_tpr_unique) 1\n",
      "intersection(mrs_newank_unique, mrs_lrr_unique) 1\n",
      "intersection(mrs_tpr_unique, mrs_lrr_unique) 0\n",
      "\n",
      "intersection(mrs_newank, mrs_tpr, mrs_lrr) 0\n"
     ]
    }
   ],
   "source": [
    "# len_5 . frequent mrs\n",
    "print_combinaciones(mrs_newank_len5_freq, mrs_tpr_len5_freq, mrs_lrr_len5_freq)"
   ]
  },
  {
   "cell_type": "code",
   "execution_count": 38,
   "id": "43bac787-5c18-4bf1-9065-95f6f21a277d",
   "metadata": {},
   "outputs": [
    {
     "name": "stdout",
     "output_type": "stream",
     "text": [
      "{'AAAAA'}\n",
      "{'SSSSS'}\n"
     ]
    }
   ],
   "source": [
    "# Veo cuales son esas intersecciones\n",
    "print(generic_set_intersection(mrs_newank_len5_freq, mrs_tpr_len5_freq))\n",
    "print(generic_set_intersection(mrs_newank_len5_freq, mrs_lrr_len5_freq))"
   ]
  },
  {
   "cell_type": "code",
   "execution_count": 39,
   "id": "1cfa83c0-cf51-4a9c-a5b7-97107ba740a4",
   "metadata": {},
   "outputs": [
    {
     "name": "stdout",
     "output_type": "stream",
     "text": [
      "\n",
      "\\begin{table}[H]\n",
      "\\begin{center}\n",
      "\\begin{tabular}{|c|c|c|c|} \n",
      " \\hline\n",
      " \\texttt{NEWAnk} & \\texttt{TPR1} & \\texttt{LRR1} & \\textbf{Cantidad de MRs únicos} \\\\ \n",
      " \\hline\n",
      "x &   &   & 398 \\\\\n",
      " \\hline\n",
      "   & x &   & 133 \\\\\n",
      " \\hline\n",
      "   &   & x & 1.136 \\\\ \n",
      " \\hline\n",
      " x & x &   & 1 \\\\ \n",
      " \\hline\n",
      " x &   & x & 1 \\\\ \n",
      " \\hline\n",
      "   & x & x & 0 \\\\ \n",
      " \\hline\n",
      " x & x & x & 0 \\\\ \n",
      " \\hline\n",
      " \n",
      "\\end{tabular}\n",
      "\\caption{\\centering Cantidad de MRs únicos, ((((COMPLETAR)))). En cada fila se marca con una x aquellas que se tomaron para calcular la intersección.}\n",
      "\\end{center}\n",
      "\\end{table} \n",
      "\n"
     ]
    }
   ],
   "source": [
    "print_combinaciones_for_latex(mrs_newank_len5_freq, mrs_tpr_len5_freq, mrs_lrr_len5_freq)"
   ]
  },
  {
   "cell_type": "code",
   "execution_count": 40,
   "id": "1894771b-535f-411c-9f4e-0828df96fee2",
   "metadata": {},
   "outputs": [],
   "source": [
    "# Exp4: Cuantos MRs unicos tienen en comun, solo si tomo los mas frecuentes, con distancia=1"
   ]
  },
  {
   "cell_type": "code",
   "execution_count": 41,
   "id": "d3602097-92b9-47b3-bc25-4851586391c0",
   "metadata": {},
   "outputs": [],
   "source": [
    "#min_freq = 500    # Despues de algun experimiento de distribucion seguramente pueda definir mejor un minimo\n",
    "min_freq = 0.025*32169 # ~804\n",
    "mrs_newank_freq = mrs_txs_frecuencia_mayor_set(min_freq, mrs_newank)\n",
    "mrs_tpr_freq = mrs_txs_frecuencia_mayor_set(min_freq, mrs_tpr)"
   ]
  },
  {
   "cell_type": "code",
   "execution_count": 42,
   "id": "eb23200c-b995-426a-a90e-5c6de4acb3ad",
   "metadata": {},
   "outputs": [],
   "source": [
    "exp4_interseccion = mrs_txs_interseccion_lev_1(mrs_newank_freq, mrs_tpr_freq)"
   ]
  },
  {
   "cell_type": "code",
   "execution_count": 43,
   "id": "efc0e0ca-ca18-4ee3-beac-7b197db1925d",
   "metadata": {},
   "outputs": [
    {
     "name": "stdout",
     "output_type": "stream",
     "text": [
      "Exp 4\n",
      "family_a freqs:      2130\n",
      "family_b freqs:      2677\n",
      "result intersection: 3524\n"
     ]
    }
   ],
   "source": [
    "print(\"Exp 4\")\n",
    "print(\"family_a freqs:     \", len(mrs_newank_freq))\n",
    "print(\"family_b freqs:     \", len(mrs_tpr_freq))\n",
    "print(\"result intersection:\", len(exp4_interseccion))\n",
    "# La interseccion de dist=1 es bastante grande! Osea que son muy parecidos en frecuentes?"
   ]
  },
  {
   "cell_type": "code",
   "execution_count": null,
   "id": "95f168e5-b9cd-45e8-8ee5-9022b93a91c3",
   "metadata": {},
   "outputs": [],
   "source": []
  },
  {
   "cell_type": "code",
   "execution_count": 44,
   "id": "dc4c989c-f098-4e9e-82ba-82e6ecbfa99a",
   "metadata": {},
   "outputs": [],
   "source": [
    "# Exp5: Cuantos MRs -NO- estan en la interseccion con distancia=1, si tomo los mas frecuentes"
   ]
  },
  {
   "cell_type": "code",
   "execution_count": 45,
   "id": "6f597ab9-acc9-4294-aacb-417ccb018f12",
   "metadata": {},
   "outputs": [],
   "source": [
    "mrs_newank_freq_not_intersection = (mrs_newank_freq - exp4_interseccion)\n",
    "mrs_tpr_freq_not_intersection = (mrs_tpr_freq - exp4_interseccion)\n",
    "\n",
    "exp5_not_intersection = mrs_newank_freq_not_intersection.union(mrs_tpr_freq_not_intersection)"
   ]
  },
  {
   "cell_type": "code",
   "execution_count": 46,
   "id": "7dd24bcc-3aaa-4a74-8af6-005ece3255e6",
   "metadata": {},
   "outputs": [
    {
     "name": "stdout",
     "output_type": "stream",
     "text": [
      "Exp 5\n",
      "family_a freqs:      2130\n",
      "family_b freqs:      2677\n",
      "family_a NOT intersection:      264\n",
      "family_b NOT intersection:      311\n",
      "combined NOT intersection:      575\n"
     ]
    }
   ],
   "source": [
    "print(\"Exp 5\")\n",
    "print(\"family_a freqs:     \", len(mrs_newank_freq))\n",
    "print(\"family_b freqs:     \", len(mrs_tpr_freq))\n",
    "print(\"family_a NOT intersection:     \", len(mrs_newank_freq_not_intersection))\n",
    "print(\"family_b NOT intersection:     \", len(mrs_tpr_freq_not_intersection))\n",
    "print(\"combined NOT intersection:     \", len(exp5_not_intersection))\n",
    "# Osea, son poquitos los que no estan en la interseccion de distancia=1, tomando aquellos con mucha frecuencia\n",
    "\n",
    "# TODO: Ver cuales son estos 230, ordenar por frecuencia\n",
    "# TODO: Ver logos en pfam para saber si aparecen"
   ]
  },
  {
   "cell_type": "code",
   "execution_count": 47,
   "id": "cbb34f1e-bbc3-42f8-afc2-0ac25d6f63aa",
   "metadata": {},
   "outputs": [],
   "source": [
    "# Exp6: Distribucion del largo de las transacciones (recordar que estoy usando los clean!)\n",
    "# Esto es distinto al largo de las proteinas, proteinas del mismo tamaño pueden tener diferente long de transaccion\n",
    "# Igual, el largo de una transaccion no deberia influir en el algoritmo (solo frecuencia de items)\n",
    "#  pero es para entender mejor los datos que tengo"
   ]
  },
  {
   "cell_type": "code",
   "execution_count": 48,
   "id": "5454ba49-ad65-4e99-9727-080f726dc3a1",
   "metadata": {},
   "outputs": [
    {
     "name": "stdout",
     "output_type": "stream",
     "text": [
      "Building transaction_len_df for NEWAnk\n",
      "Building transaction_len_df for TPR1\n",
      "Building transaction_len_df for LRR1\n"
     ]
    }
   ],
   "source": [
    "input_transaction_len = {\n",
    "    \"NEWAnk\": transactions_newank,\n",
    "    \"TPR1\": transactions_tpr,\n",
    "    \"LRR1\": transactions_lrr\n",
    "}\n",
    "\n",
    "df_txs_length = autils.build_transaction_len_df(input_transaction_len)"
   ]
  },
  {
   "cell_type": "code",
   "execution_count": 49,
   "id": "12875449-545f-4887-9d36-decaf2a92c2e",
   "metadata": {},
   "outputs": [
    {
     "data": {
      "text/html": [
       "<div>\n",
       "<style scoped>\n",
       "    .dataframe tbody tr th:only-of-type {\n",
       "        vertical-align: middle;\n",
       "    }\n",
       "\n",
       "    .dataframe tbody tr th {\n",
       "        vertical-align: top;\n",
       "    }\n",
       "\n",
       "    .dataframe thead tr th {\n",
       "        text-align: left;\n",
       "    }\n",
       "\n",
       "    .dataframe thead tr:last-of-type th {\n",
       "        text-align: right;\n",
       "    }\n",
       "</style>\n",
       "<table border=\"1\" class=\"dataframe\">\n",
       "  <thead>\n",
       "    <tr>\n",
       "      <th></th>\n",
       "      <th colspan=\"8\" halign=\"left\">tx_length</th>\n",
       "    </tr>\n",
       "    <tr>\n",
       "      <th></th>\n",
       "      <th>count</th>\n",
       "      <th>mean</th>\n",
       "      <th>std</th>\n",
       "      <th>min</th>\n",
       "      <th>25%</th>\n",
       "      <th>50%</th>\n",
       "      <th>75%</th>\n",
       "      <th>max</th>\n",
       "    </tr>\n",
       "    <tr>\n",
       "      <th>family</th>\n",
       "      <th></th>\n",
       "      <th></th>\n",
       "      <th></th>\n",
       "      <th></th>\n",
       "      <th></th>\n",
       "      <th></th>\n",
       "      <th></th>\n",
       "      <th></th>\n",
       "    </tr>\n",
       "  </thead>\n",
       "  <tbody>\n",
       "    <tr>\n",
       "      <th>LRR1</th>\n",
       "      <td>33060.0</td>\n",
       "      <td>656.478342</td>\n",
       "      <td>334.029851</td>\n",
       "      <td>39.0</td>\n",
       "      <td>376.0</td>\n",
       "      <td>637.0</td>\n",
       "      <td>915.0</td>\n",
       "      <td>3472.0</td>\n",
       "    </tr>\n",
       "    <tr>\n",
       "      <th>NEWAnk</th>\n",
       "      <td>32169.0</td>\n",
       "      <td>687.846902</td>\n",
       "      <td>475.868414</td>\n",
       "      <td>34.0</td>\n",
       "      <td>339.0</td>\n",
       "      <td>557.0</td>\n",
       "      <td>920.0</td>\n",
       "      <td>6260.0</td>\n",
       "    </tr>\n",
       "    <tr>\n",
       "      <th>TPR1</th>\n",
       "      <td>36389.0</td>\n",
       "      <td>615.275605</td>\n",
       "      <td>358.567947</td>\n",
       "      <td>34.0</td>\n",
       "      <td>346.0</td>\n",
       "      <td>566.0</td>\n",
       "      <td>782.0</td>\n",
       "      <td>4099.0</td>\n",
       "    </tr>\n",
       "  </tbody>\n",
       "</table>\n",
       "</div>"
      ],
      "text/plain": [
       "       tx_length                                                           \n",
       "           count        mean         std   min    25%    50%    75%     max\n",
       "family                                                                     \n",
       "LRR1     33060.0  656.478342  334.029851  39.0  376.0  637.0  915.0  3472.0\n",
       "NEWAnk   32169.0  687.846902  475.868414  34.0  339.0  557.0  920.0  6260.0\n",
       "TPR1     36389.0  615.275605  358.567947  34.0  346.0  566.0  782.0  4099.0"
      ]
     },
     "execution_count": 49,
     "metadata": {},
     "output_type": "execute_result"
    }
   ],
   "source": [
    "df_txs_length.groupby('family').describe()"
   ]
  },
  {
   "cell_type": "code",
   "execution_count": 50,
   "id": "1952c8bc-3ee1-48eb-9a45-1d5ec1ed032d",
   "metadata": {},
   "outputs": [
    {
     "data": {
      "image/png": "[encoded data removed]",
      "text/plain": [
       "<Figure size 504x360 with 1 Axes>"
      ]
     },
     "metadata": {
      "needs_background": "light"
     },
     "output_type": "display_data"
    }
   ],
   "source": [
    "# Distribucion del largo de las transacciones por cada familia\n",
    "\n",
    "# Exp repetido en notebook de kmeras, para usar refinamiento 'minimum'\n",
    "\n",
    "ax_boxplot = df_txs_length.boxplot(\n",
    "    column='tx_length', by='family', grid=True, figsize=(7, 5),\n",
    "    # ,showfliers=False # Outliers\n",
    ")\n",
    "\n",
    "ax_boxplot.get_yaxis().set_major_formatter(matplot_formatter_mil_spanish())\n",
    "ax_boxplot.set_ylabel('Cantidad de ítems')\n",
    "ax_boxplot.set_xlabel('Familia')\n",
    "\n",
    "plt.title(\"\")\n",
    "plt.suptitle(\"\")\n",
    "\n",
    "fig_tx_length_boxplot = ax_boxplot.get_figure()\n",
    "\n",
    "# fig_tx_length_boxplot.savefig('imagenes/kmeras/transactions_mrs_length_boxplot_newank_tpr_lrr.pdf', bbox_inches = \"tight\")\n"
   ]
  },
  {
   "cell_type": "code",
   "execution_count": null,
   "id": "6d5de50c-7eed-49b1-9aad-41394fedde37",
   "metadata": {},
   "outputs": [],
   "source": []
  },
  {
   "cell_type": "code",
   "execution_count": 51,
   "id": "414299b9-a694-49c8-a21b-81291465f942",
   "metadata": {},
   "outputs": [],
   "source": [
    "# Exp7: Como es la distribucion de los largos de los mrs. Largo promedio (recordar que estoy usando los clean!)"
   ]
  },
  {
   "cell_type": "code",
   "execution_count": 52,
   "id": "670bb418-b7b6-48af-9dab-a7fe5111d2bb",
   "metadata": {},
   "outputs": [
    {
     "name": "stdout",
     "output_type": "stream",
     "text": [
      "Building mr_len_df for NEWAnk\n",
      "Building mr_len_df for TPR1\n",
      "Building mr_len_df for LRR1\n"
     ]
    }
   ],
   "source": [
    "input_build_mr_len = {\n",
    "    \"NEWAnk\": mrs_newank_unique,\n",
    "    \"TPR1\": mrs_tpr_unique,\n",
    "    \"LRR1\": mrs_lrr_unique\n",
    "}\n",
    "\n",
    "df_mrs_length = autils.build_mr_len_df(input_build_mr_len)"
   ]
  },
  {
   "cell_type": "code",
   "execution_count": 53,
   "id": "7513c963-eabc-493d-b5df-50bed4b70319",
   "metadata": {},
   "outputs": [
    {
     "data": {
      "text/plain": [
       "<AxesSubplot:title={'center':'mr_length'}, xlabel='family'>"
      ]
     },
     "execution_count": 53,
     "metadata": {},
     "output_type": "execute_result"
    },
    {
     "data": {
      "image/png": "[encoded data removed]",
      "text/plain": [
       "<Figure size 648x504 with 1 Axes>"
      ]
     },
     "metadata": {
      "needs_background": "light"
     },
     "output_type": "display_data"
    }
   ],
   "source": [
    "# Distribucion del largo de los mrs por cada familia\n",
    "df_mrs_length.boxplot(column='mr_length', by='family', grid=True, rot=90, figsize=(9, 7)\n",
    "     # ,showfliers=False # Outliers   \n",
    ")"
   ]
  },
  {
   "cell_type": "code",
   "execution_count": 54,
   "id": "cefc203c-6056-49d4-8dcc-5887d0294703",
   "metadata": {},
   "outputs": [],
   "source": [
    "# Son todos largo 4 con algun outlier en 5"
   ]
  },
  {
   "cell_type": "code",
   "execution_count": 55,
   "id": "f3e0c1ec-a7a2-45e5-b5f6-85b5884c5cbb",
   "metadata": {},
   "outputs": [],
   "source": [
    "# Exp8: Cuantos exactamente de largo 4 y largo 5 hay en cada familia"
   ]
  },
  {
   "cell_type": "code",
   "execution_count": 56,
   "id": "ca1f3f3e-808d-4aa9-a343-d8c3032ba331",
   "metadata": {},
   "outputs": [],
   "source": [
    "\n",
    "def show_mr_length_stats(length, family):\n",
    "    # families = [\"NEWAnk\", \"TPR1\", \"LRR1\"]\n",
    "    transactions_len = autils.read_clean_transactions(f\"{family}_len{length}_ALL_sub\", \"output/clean_transactions\")\n",
    "    mrs_len = all_mrs_from_transactions(transactions_len)\n",
    "    mrs_unique_len = set(mrs_len)\n",
    "\n",
    "    df_mrs_length = autils.build_mr_len_df({family: mrs_unique_len})\n",
    "\n",
    "    stats = df_mrs_length.groupby(['family', 'mr_length']\n",
    "                                 ).agg({'mr_length': 'count'}\n",
    "                                 ).rename(columns={'mr_length': 'count'}\n",
    "                                 ).reset_index()\n",
    "\n",
    "    print(f\"Stats for {family}. Length {length}\")\n",
    "    return stats\n"
   ]
  },
  {
   "cell_type": "code",
   "execution_count": 57,
   "id": "53116d0c-cc58-4e1d-9387-8b1a1dabf473",
   "metadata": {},
   "outputs": [
    {
     "name": "stdout",
     "output_type": "stream",
     "text": [
      "Building mr_len_df for NEWAnk\n",
      "Stats for NEWAnk. Length 4\n"
     ]
    },
    {
     "data": {
      "text/html": [
       "<div>\n",
       "<style scoped>\n",
       "    .dataframe tbody tr th:only-of-type {\n",
       "        vertical-align: middle;\n",
       "    }\n",
       "\n",
       "    .dataframe tbody tr th {\n",
       "        vertical-align: top;\n",
       "    }\n",
       "\n",
       "    .dataframe thead th {\n",
       "        text-align: right;\n",
       "    }\n",
       "</style>\n",
       "<table border=\"1\" class=\"dataframe\">\n",
       "  <thead>\n",
       "    <tr style=\"text-align: right;\">\n",
       "      <th></th>\n",
       "      <th>family</th>\n",
       "      <th>mr_length</th>\n",
       "      <th>count</th>\n",
       "    </tr>\n",
       "  </thead>\n",
       "  <tbody>\n",
       "    <tr>\n",
       "      <th>0</th>\n",
       "      <td>NEWAnk</td>\n",
       "      <td>4</td>\n",
       "      <td>158105</td>\n",
       "    </tr>\n",
       "    <tr>\n",
       "      <th>1</th>\n",
       "      <td>NEWAnk</td>\n",
       "      <td>5</td>\n",
       "      <td>2</td>\n",
       "    </tr>\n",
       "  </tbody>\n",
       "</table>\n",
       "</div>"
      ],
      "text/plain": [
       "   family  mr_length   count\n",
       "0  NEWAnk          4  158105\n",
       "1  NEWAnk          5       2"
      ]
     },
     "execution_count": 57,
     "metadata": {},
     "output_type": "execute_result"
    }
   ],
   "source": [
    "df_stats_len_4 = show_mr_length_stats(4, \"NEWAnk\")\n",
    "df_stats_len_4"
   ]
  },
  {
   "cell_type": "code",
   "execution_count": 58,
   "id": "d167e0b6-888b-452c-83af-ba4643622ac0",
   "metadata": {},
   "outputs": [],
   "source": [
    "# df_stats_len_4.plot(kind='bar')"
   ]
  },
  {
   "cell_type": "code",
   "execution_count": 59,
   "id": "4be5f958-88ed-44bb-a796-52eaffffb289",
   "metadata": {},
   "outputs": [
    {
     "name": "stdout",
     "output_type": "stream",
     "text": [
      "Building mr_len_df for NEWAnk\n",
      "Stats for NEWAnk. Length 5\n"
     ]
    },
    {
     "data": {
      "text/html": [
       "<div>\n",
       "<style scoped>\n",
       "    .dataframe tbody tr th:only-of-type {\n",
       "        vertical-align: middle;\n",
       "    }\n",
       "\n",
       "    .dataframe tbody tr th {\n",
       "        vertical-align: top;\n",
       "    }\n",
       "\n",
       "    .dataframe thead th {\n",
       "        text-align: right;\n",
       "    }\n",
       "</style>\n",
       "<table border=\"1\" class=\"dataframe\">\n",
       "  <thead>\n",
       "    <tr style=\"text-align: right;\">\n",
       "      <th></th>\n",
       "      <th>family</th>\n",
       "      <th>mr_length</th>\n",
       "      <th>count</th>\n",
       "    </tr>\n",
       "  </thead>\n",
       "  <tbody>\n",
       "    <tr>\n",
       "      <th>0</th>\n",
       "      <td>NEWAnk</td>\n",
       "      <td>5</td>\n",
       "      <td>1666141</td>\n",
       "    </tr>\n",
       "    <tr>\n",
       "      <th>1</th>\n",
       "      <td>NEWAnk</td>\n",
       "      <td>6</td>\n",
       "      <td>3760</td>\n",
       "    </tr>\n",
       "    <tr>\n",
       "      <th>2</th>\n",
       "      <td>NEWAnk</td>\n",
       "      <td>7</td>\n",
       "      <td>174</td>\n",
       "    </tr>\n",
       "    <tr>\n",
       "      <th>3</th>\n",
       "      <td>NEWAnk</td>\n",
       "      <td>8</td>\n",
       "      <td>28</td>\n",
       "    </tr>\n",
       "    <tr>\n",
       "      <th>4</th>\n",
       "      <td>NEWAnk</td>\n",
       "      <td>9</td>\n",
       "      <td>2</td>\n",
       "    </tr>\n",
       "    <tr>\n",
       "      <th>5</th>\n",
       "      <td>NEWAnk</td>\n",
       "      <td>10</td>\n",
       "      <td>2</td>\n",
       "    </tr>\n",
       "  </tbody>\n",
       "</table>\n",
       "</div>"
      ],
      "text/plain": [
       "   family  mr_length    count\n",
       "0  NEWAnk          5  1666141\n",
       "1  NEWAnk          6     3760\n",
       "2  NEWAnk          7      174\n",
       "3  NEWAnk          8       28\n",
       "4  NEWAnk          9        2\n",
       "5  NEWAnk         10        2"
      ]
     },
     "execution_count": 59,
     "metadata": {},
     "output_type": "execute_result"
    }
   ],
   "source": [
    "show_mr_length_stats(5, \"NEWAnk\")"
   ]
  },
  {
   "cell_type": "code",
   "execution_count": 60,
   "id": "001a620e-3a8f-4641-b240-597feecd4281",
   "metadata": {},
   "outputs": [
    {
     "name": "stdout",
     "output_type": "stream",
     "text": [
      "Building mr_len_df for NEWAnk\n",
      "Stats for NEWAnk. Length 6\n"
     ]
    },
    {
     "data": {
      "text/html": [
       "<div>\n",
       "<style scoped>\n",
       "    .dataframe tbody tr th:only-of-type {\n",
       "        vertical-align: middle;\n",
       "    }\n",
       "\n",
       "    .dataframe tbody tr th {\n",
       "        vertical-align: top;\n",
       "    }\n",
       "\n",
       "    .dataframe thead th {\n",
       "        text-align: right;\n",
       "    }\n",
       "</style>\n",
       "<table border=\"1\" class=\"dataframe\">\n",
       "  <thead>\n",
       "    <tr style=\"text-align: right;\">\n",
       "      <th></th>\n",
       "      <th>family</th>\n",
       "      <th>mr_length</th>\n",
       "      <th>count</th>\n",
       "    </tr>\n",
       "  </thead>\n",
       "  <tbody>\n",
       "    <tr>\n",
       "      <th>0</th>\n",
       "      <td>NEWAnk</td>\n",
       "      <td>6</td>\n",
       "      <td>1855589</td>\n",
       "    </tr>\n",
       "    <tr>\n",
       "      <th>1</th>\n",
       "      <td>NEWAnk</td>\n",
       "      <td>7</td>\n",
       "      <td>50884</td>\n",
       "    </tr>\n",
       "    <tr>\n",
       "      <th>2</th>\n",
       "      <td>NEWAnk</td>\n",
       "      <td>8</td>\n",
       "      <td>7269</td>\n",
       "    </tr>\n",
       "    <tr>\n",
       "      <th>3</th>\n",
       "      <td>NEWAnk</td>\n",
       "      <td>9</td>\n",
       "      <td>2445</td>\n",
       "    </tr>\n",
       "    <tr>\n",
       "      <th>4</th>\n",
       "      <td>NEWAnk</td>\n",
       "      <td>10</td>\n",
       "      <td>1110</td>\n",
       "    </tr>\n",
       "    <tr>\n",
       "      <th>5</th>\n",
       "      <td>NEWAnk</td>\n",
       "      <td>11</td>\n",
       "      <td>468</td>\n",
       "    </tr>\n",
       "    <tr>\n",
       "      <th>6</th>\n",
       "      <td>NEWAnk</td>\n",
       "      <td>12</td>\n",
       "      <td>247</td>\n",
       "    </tr>\n",
       "    <tr>\n",
       "      <th>7</th>\n",
       "      <td>NEWAnk</td>\n",
       "      <td>13</td>\n",
       "      <td>142</td>\n",
       "    </tr>\n",
       "    <tr>\n",
       "      <th>8</th>\n",
       "      <td>NEWAnk</td>\n",
       "      <td>14</td>\n",
       "      <td>70</td>\n",
       "    </tr>\n",
       "    <tr>\n",
       "      <th>9</th>\n",
       "      <td>NEWAnk</td>\n",
       "      <td>15</td>\n",
       "      <td>54</td>\n",
       "    </tr>\n",
       "    <tr>\n",
       "      <th>10</th>\n",
       "      <td>NEWAnk</td>\n",
       "      <td>16</td>\n",
       "      <td>28</td>\n",
       "    </tr>\n",
       "    <tr>\n",
       "      <th>11</th>\n",
       "      <td>NEWAnk</td>\n",
       "      <td>17</td>\n",
       "      <td>22</td>\n",
       "    </tr>\n",
       "    <tr>\n",
       "      <th>12</th>\n",
       "      <td>NEWAnk</td>\n",
       "      <td>18</td>\n",
       "      <td>12</td>\n",
       "    </tr>\n",
       "    <tr>\n",
       "      <th>13</th>\n",
       "      <td>NEWAnk</td>\n",
       "      <td>19</td>\n",
       "      <td>11</td>\n",
       "    </tr>\n",
       "    <tr>\n",
       "      <th>14</th>\n",
       "      <td>NEWAnk</td>\n",
       "      <td>20</td>\n",
       "      <td>4</td>\n",
       "    </tr>\n",
       "    <tr>\n",
       "      <th>15</th>\n",
       "      <td>NEWAnk</td>\n",
       "      <td>21</td>\n",
       "      <td>6</td>\n",
       "    </tr>\n",
       "    <tr>\n",
       "      <th>16</th>\n",
       "      <td>NEWAnk</td>\n",
       "      <td>22</td>\n",
       "      <td>1</td>\n",
       "    </tr>\n",
       "    <tr>\n",
       "      <th>17</th>\n",
       "      <td>NEWAnk</td>\n",
       "      <td>23</td>\n",
       "      <td>1</td>\n",
       "    </tr>\n",
       "    <tr>\n",
       "      <th>18</th>\n",
       "      <td>NEWAnk</td>\n",
       "      <td>24</td>\n",
       "      <td>2</td>\n",
       "    </tr>\n",
       "    <tr>\n",
       "      <th>19</th>\n",
       "      <td>NEWAnk</td>\n",
       "      <td>29</td>\n",
       "      <td>1</td>\n",
       "    </tr>\n",
       "  </tbody>\n",
       "</table>\n",
       "</div>"
      ],
      "text/plain": [
       "    family  mr_length    count\n",
       "0   NEWAnk          6  1855589\n",
       "1   NEWAnk          7    50884\n",
       "2   NEWAnk          8     7269\n",
       "3   NEWAnk          9     2445\n",
       "4   NEWAnk         10     1110\n",
       "5   NEWAnk         11      468\n",
       "6   NEWAnk         12      247\n",
       "7   NEWAnk         13      142\n",
       "8   NEWAnk         14       70\n",
       "9   NEWAnk         15       54\n",
       "10  NEWAnk         16       28\n",
       "11  NEWAnk         17       22\n",
       "12  NEWAnk         18       12\n",
       "13  NEWAnk         19       11\n",
       "14  NEWAnk         20        4\n",
       "15  NEWAnk         21        6\n",
       "16  NEWAnk         22        1\n",
       "17  NEWAnk         23        1\n",
       "18  NEWAnk         24        2\n",
       "19  NEWAnk         29        1"
      ]
     },
     "execution_count": 60,
     "metadata": {},
     "output_type": "execute_result"
    }
   ],
   "source": [
    "df_stats_len6 = show_mr_length_stats(6, \"NEWAnk\")\n",
    "df_stats_len6"
   ]
  },
  {
   "cell_type": "code",
   "execution_count": 67,
   "id": "a4475b37-154e-4c9b-8dfe-b073747f3883",
   "metadata": {},
   "outputs": [
    {
     "data": {
      "image/png": "[encoded data removed]",
      "text/plain": [
       "<Figure size 432x288 with 1 Axes>"
      ]
     },
     "metadata": {
      "needs_background": "light"
     },
     "output_type": "display_data"
    }
   ],
   "source": [
    "# Escala LOG\n",
    "ax = df_stats_len6[df_stats_len6.mr_length <= 11].plot(\n",
    "    kind='bar', x='mr_length', y='count', logy=True, legend=False, rot=0)\n",
    "\n",
    "ax.set_ylim(1, )\n",
    "ax.set_xlabel(\"Largo de MR\")\n",
    "ax.set_ylabel(\"Cantidad de MRs\")\n",
    "df_stats_len6_figure = ax.get_figure()\n",
    "# df_stats_len6_figure.savefig('imagenes/minlen/longitud_mr_minimo_6_log.pdf', bbox_inches = \"tight\")"
   ]
  },
  {
   "cell_type": "code",
   "execution_count": 62,
   "id": "5c447d0c-e958-4c86-9c86-0cdb40a10642",
   "metadata": {},
   "outputs": [
    {
     "name": "stdout",
     "output_type": "stream",
     "text": [
      "Building mr_len_df for NEWAnk\n",
      "Stats for NEWAnk. Length 7\n"
     ]
    },
    {
     "data": {
      "text/html": [
       "<div>\n",
       "<style scoped>\n",
       "    .dataframe tbody tr th:only-of-type {\n",
       "        vertical-align: middle;\n",
       "    }\n",
       "\n",
       "    .dataframe tbody tr th {\n",
       "        vertical-align: top;\n",
       "    }\n",
       "\n",
       "    .dataframe thead th {\n",
       "        text-align: right;\n",
       "    }\n",
       "</style>\n",
       "<table border=\"1\" class=\"dataframe\">\n",
       "  <thead>\n",
       "    <tr style=\"text-align: right;\">\n",
       "      <th></th>\n",
       "      <th>family</th>\n",
       "      <th>mr_length</th>\n",
       "      <th>count</th>\n",
       "    </tr>\n",
       "  </thead>\n",
       "  <tbody>\n",
       "    <tr>\n",
       "      <th>0</th>\n",
       "      <td>NEWAnk</td>\n",
       "      <td>7</td>\n",
       "      <td>603460</td>\n",
       "    </tr>\n",
       "    <tr>\n",
       "      <th>1</th>\n",
       "      <td>NEWAnk</td>\n",
       "      <td>8</td>\n",
       "      <td>60037</td>\n",
       "    </tr>\n",
       "    <tr>\n",
       "      <th>2</th>\n",
       "      <td>NEWAnk</td>\n",
       "      <td>9</td>\n",
       "      <td>18538</td>\n",
       "    </tr>\n",
       "    <tr>\n",
       "      <th>3</th>\n",
       "      <td>NEWAnk</td>\n",
       "      <td>10</td>\n",
       "      <td>8488</td>\n",
       "    </tr>\n",
       "    <tr>\n",
       "      <th>4</th>\n",
       "      <td>NEWAnk</td>\n",
       "      <td>11</td>\n",
       "      <td>4580</td>\n",
       "    </tr>\n",
       "    <tr>\n",
       "      <th>...</th>\n",
       "      <td>...</td>\n",
       "      <td>...</td>\n",
       "      <td>...</td>\n",
       "    </tr>\n",
       "    <tr>\n",
       "      <th>62</th>\n",
       "      <td>NEWAnk</td>\n",
       "      <td>88</td>\n",
       "      <td>1</td>\n",
       "    </tr>\n",
       "    <tr>\n",
       "      <th>63</th>\n",
       "      <td>NEWAnk</td>\n",
       "      <td>95</td>\n",
       "      <td>1</td>\n",
       "    </tr>\n",
       "    <tr>\n",
       "      <th>64</th>\n",
       "      <td>NEWAnk</td>\n",
       "      <td>97</td>\n",
       "      <td>1</td>\n",
       "    </tr>\n",
       "    <tr>\n",
       "      <th>65</th>\n",
       "      <td>NEWAnk</td>\n",
       "      <td>101</td>\n",
       "      <td>1</td>\n",
       "    </tr>\n",
       "    <tr>\n",
       "      <th>66</th>\n",
       "      <td>NEWAnk</td>\n",
       "      <td>112</td>\n",
       "      <td>1</td>\n",
       "    </tr>\n",
       "  </tbody>\n",
       "</table>\n",
       "<p>67 rows × 3 columns</p>\n",
       "</div>"
      ],
      "text/plain": [
       "    family  mr_length   count\n",
       "0   NEWAnk          7  603460\n",
       "1   NEWAnk          8   60037\n",
       "2   NEWAnk          9   18538\n",
       "3   NEWAnk         10    8488\n",
       "4   NEWAnk         11    4580\n",
       "..     ...        ...     ...\n",
       "62  NEWAnk         88       1\n",
       "63  NEWAnk         95       1\n",
       "64  NEWAnk         97       1\n",
       "65  NEWAnk        101       1\n",
       "66  NEWAnk        112       1\n",
       "\n",
       "[67 rows x 3 columns]"
      ]
     },
     "execution_count": 62,
     "metadata": {},
     "output_type": "execute_result"
    }
   ],
   "source": [
    "df_stats_len7 = show_mr_length_stats(7, \"NEWAnk\")\n",
    "df_stats_len7"
   ]
  },
  {
   "cell_type": "code",
   "execution_count": 63,
   "id": "4135d337-ca56-45ff-9a2f-136ec2cc81d4",
   "metadata": {},
   "outputs": [
    {
     "data": {
      "text/plain": [
       "<AxesSubplot:xlabel='mr_length'>"
      ]
     },
     "execution_count": 63,
     "metadata": {},
     "output_type": "execute_result"
    },
    {
     "data": {
      "image/png": "[encoded data removed]",
      "text/plain": [
       "<Figure size 432x288 with 1 Axes>"
      ]
     },
     "metadata": {
      "needs_background": "light"
     },
     "output_type": "display_data"
    }
   ],
   "source": [
    "df_stats_len7[df_stats_len7.mr_length <= 11].plot(kind='bar', x='mr_length', y='count')"
   ]
  },
  {
   "cell_type": "code",
   "execution_count": 64,
   "id": "b76fe245-7a88-46f5-b15e-3d2a75089218",
   "metadata": {},
   "outputs": [
    {
     "name": "stdout",
     "output_type": "stream",
     "text": [
      "Building mr_len_df for NEWAnk\n",
      "Stats for NEWAnk. Length 8\n"
     ]
    },
    {
     "data": {
      "text/html": [
       "<div>\n",
       "<style scoped>\n",
       "    .dataframe tbody tr th:only-of-type {\n",
       "        vertical-align: middle;\n",
       "    }\n",
       "\n",
       "    .dataframe tbody tr th {\n",
       "        vertical-align: top;\n",
       "    }\n",
       "\n",
       "    .dataframe thead th {\n",
       "        text-align: right;\n",
       "    }\n",
       "</style>\n",
       "<table border=\"1\" class=\"dataframe\">\n",
       "  <thead>\n",
       "    <tr style=\"text-align: right;\">\n",
       "      <th></th>\n",
       "      <th>family</th>\n",
       "      <th>mr_length</th>\n",
       "      <th>count</th>\n",
       "    </tr>\n",
       "  </thead>\n",
       "  <tbody>\n",
       "    <tr>\n",
       "      <th>0</th>\n",
       "      <td>NEWAnk</td>\n",
       "      <td>8</td>\n",
       "      <td>298552</td>\n",
       "    </tr>\n",
       "    <tr>\n",
       "      <th>1</th>\n",
       "      <td>NEWAnk</td>\n",
       "      <td>9</td>\n",
       "      <td>53155</td>\n",
       "    </tr>\n",
       "    <tr>\n",
       "      <th>2</th>\n",
       "      <td>NEWAnk</td>\n",
       "      <td>10</td>\n",
       "      <td>21320</td>\n",
       "    </tr>\n",
       "    <tr>\n",
       "      <th>3</th>\n",
       "      <td>NEWAnk</td>\n",
       "      <td>11</td>\n",
       "      <td>10541</td>\n",
       "    </tr>\n",
       "    <tr>\n",
       "      <th>4</th>\n",
       "      <td>NEWAnk</td>\n",
       "      <td>12</td>\n",
       "      <td>6180</td>\n",
       "    </tr>\n",
       "    <tr>\n",
       "      <th>...</th>\n",
       "      <td>...</td>\n",
       "      <td>...</td>\n",
       "      <td>...</td>\n",
       "    </tr>\n",
       "    <tr>\n",
       "      <th>134</th>\n",
       "      <td>NEWAnk</td>\n",
       "      <td>433</td>\n",
       "      <td>1</td>\n",
       "    </tr>\n",
       "    <tr>\n",
       "      <th>135</th>\n",
       "      <td>NEWAnk</td>\n",
       "      <td>436</td>\n",
       "      <td>1</td>\n",
       "    </tr>\n",
       "    <tr>\n",
       "      <th>136</th>\n",
       "      <td>NEWAnk</td>\n",
       "      <td>441</td>\n",
       "      <td>1</td>\n",
       "    </tr>\n",
       "    <tr>\n",
       "      <th>137</th>\n",
       "      <td>NEWAnk</td>\n",
       "      <td>474</td>\n",
       "      <td>1</td>\n",
       "    </tr>\n",
       "    <tr>\n",
       "      <th>138</th>\n",
       "      <td>NEWAnk</td>\n",
       "      <td>490</td>\n",
       "      <td>1</td>\n",
       "    </tr>\n",
       "  </tbody>\n",
       "</table>\n",
       "<p>139 rows × 3 columns</p>\n",
       "</div>"
      ],
      "text/plain": [
       "     family  mr_length   count\n",
       "0    NEWAnk          8  298552\n",
       "1    NEWAnk          9   53155\n",
       "2    NEWAnk         10   21320\n",
       "3    NEWAnk         11   10541\n",
       "4    NEWAnk         12    6180\n",
       "..      ...        ...     ...\n",
       "134  NEWAnk        433       1\n",
       "135  NEWAnk        436       1\n",
       "136  NEWAnk        441       1\n",
       "137  NEWAnk        474       1\n",
       "138  NEWAnk        490       1\n",
       "\n",
       "[139 rows x 3 columns]"
      ]
     },
     "execution_count": 64,
     "metadata": {},
     "output_type": "execute_result"
    }
   ],
   "source": [
    "df_stats_len8 = show_mr_length_stats(8, \"NEWAnk\")\n",
    "df_stats_len8"
   ]
  },
  {
   "cell_type": "code",
   "execution_count": 68,
   "id": "630dc9fc-eb82-4cf8-820d-8d8705bd842c",
   "metadata": {},
   "outputs": [
    {
     "data": {
      "image/png": "[encoded data removed]",
      "text/plain": [
       "<Figure size 432x288 with 1 Axes>"
      ]
     },
     "metadata": {
      "needs_background": "light"
     },
     "output_type": "display_data"
    }
   ],
   "source": [
    "ax = df_stats_len8[df_stats_len8.mr_length <= 15].plot(\n",
    "    kind='bar', x='mr_length', y='count', logy=False, legend=False, rot=0)\n",
    "\n",
    "# ax.set_ylim(1, )  # Solo si uso logaritmica\n",
    "ax.set_xlabel(\"Largo de MR\")\n",
    "ax.set_ylabel(\"Cantidad de MRs\")\n",
    "ax.get_yaxis().set_major_formatter(matplot_formatter_mil_spanish())\n",
    "df_stats_len8_fig = ax.get_figure()\n",
    "# df_stats_len8_fig.savefig('imagenes/minlen/longitud_mr_minimo_8.pdf', bbox_inches = \"tight\")"
   ]
  },
  {
   "cell_type": "code",
   "execution_count": 66,
   "id": "90676c93-4510-4e11-9a1a-e91a305f493d",
   "metadata": {},
   "outputs": [
    {
     "data": {
      "text/html": [
       "<div>\n",
       "<style scoped>\n",
       "    .dataframe tbody tr th:only-of-type {\n",
       "        vertical-align: middle;\n",
       "    }\n",
       "\n",
       "    .dataframe tbody tr th {\n",
       "        vertical-align: top;\n",
       "    }\n",
       "\n",
       "    .dataframe thead th {\n",
       "        text-align: right;\n",
       "    }\n",
       "</style>\n",
       "<table border=\"1\" class=\"dataframe\">\n",
       "  <thead>\n",
       "    <tr style=\"text-align: right;\">\n",
       "      <th></th>\n",
       "      <th></th>\n",
       "      <th>mr_length</th>\n",
       "    </tr>\n",
       "    <tr>\n",
       "      <th>family</th>\n",
       "      <th>mr_length</th>\n",
       "      <th></th>\n",
       "    </tr>\n",
       "  </thead>\n",
       "  <tbody>\n",
       "    <tr>\n",
       "      <th rowspan=\"2\" valign=\"top\">LRR1</th>\n",
       "      <th>4</th>\n",
       "      <td>156543</td>\n",
       "    </tr>\n",
       "    <tr>\n",
       "      <th>5</th>\n",
       "      <td>6</td>\n",
       "    </tr>\n",
       "    <tr>\n",
       "      <th rowspan=\"2\" valign=\"top\">NEWAnk</th>\n",
       "      <th>4</th>\n",
       "      <td>158105</td>\n",
       "    </tr>\n",
       "    <tr>\n",
       "      <th>5</th>\n",
       "      <td>2</td>\n",
       "    </tr>\n",
       "    <tr>\n",
       "      <th rowspan=\"2\" valign=\"top\">TPR1</th>\n",
       "      <th>4</th>\n",
       "      <td>157520</td>\n",
       "    </tr>\n",
       "    <tr>\n",
       "      <th>5</th>\n",
       "      <td>1</td>\n",
       "    </tr>\n",
       "  </tbody>\n",
       "</table>\n",
       "</div>"
      ],
      "text/plain": [
       "                  mr_length\n",
       "family mr_length           \n",
       "LRR1   4             156543\n",
       "       5                  6\n",
       "NEWAnk 4             158105\n",
       "       5                  2\n",
       "TPR1   4             157520\n",
       "       5                  1"
      ]
     },
     "execution_count": 66,
     "metadata": {},
     "output_type": "execute_result"
    }
   ],
   "source": [
    "df_mrs_length.groupby(['family', 'mr_length']).agg({'mr_length': 'count'})\n",
    "# Podemos suponer todos de largo 4. Por que? Esto es por lo de clean_transactions"
   ]
  },
  {
   "cell_type": "code",
   "execution_count": 67,
   "id": "2ceb69b1-3d39-4327-8d81-2612d87c0b06",
   "metadata": {},
   "outputs": [],
   "source": [
    "# ABCDE, ABCD   ->   ABCD   ||||      ABCDE -> ABCD --  \n",
    "\n",
    "#  Ver quienes son esas 6,2,1  (son www, yyy ?? )\n",
    "#  TODO: Probar sin hacer ningun filtro de subtring/superstring. Como cambian las reglas\n",
    "#  TODO: Probar hacer un filtro dejando solo los de longitud 5"
   ]
  },
  {
   "cell_type": "code",
   "execution_count": 68,
   "id": "144a5c7c-c278-4b59-9a59-fc83fdc68eb2",
   "metadata": {},
   "outputs": [],
   "source": [
    "# Exp9: Como es la distribucion de la frecuencia de los MRs. \n",
    "# ¿Puede ser que en una familia todas las apariciones estan concentradas en unos pocos mrs?"
   ]
  },
  {
   "cell_type": "code",
   "execution_count": 69,
   "id": "f6964330-fd84-4c9b-ac51-9dd5e56e486f",
   "metadata": {},
   "outputs": [
    {
     "name": "stdout",
     "output_type": "stream",
     "text": [
      "Building mr_tx_frequency for NEWAnk\n",
      " .... freq_count .... 0/32169\n",
      " .... freq_count .... 10000/32169\n",
      " .... freq_count .... 20000/32169\n",
      " .... freq_count .... 30000/32169\n",
      "Building mr_tx_frequency for TPR1\n",
      " .... freq_count .... 0/36389\n",
      " .... freq_count .... 10000/36389\n",
      " .... freq_count .... 20000/36389\n",
      " .... freq_count .... 30000/36389\n",
      "Building mr_tx_frequency for LRR1\n",
      " .... freq_count .... 0/33060\n",
      " .... freq_count .... 10000/33060\n",
      " .... freq_count .... 20000/33060\n",
      " .... freq_count .... 30000/33060\n",
      "Finished\n"
     ]
    }
   ],
   "source": [
    "input_build_mr_tx_frequency = {\n",
    "    \"NEWAnk\": transactions_newank,\n",
    "    \"TPR1\": transactions_tpr,\n",
    "    \"LRR1\": transactions_lrr\n",
    "}\n",
    "\n",
    "df_freq_data = autils.build_mr_tx_frequency_df(input_build_mr_tx_frequency)"
   ]
  },
  {
   "cell_type": "code",
   "execution_count": 70,
   "id": "a594be2b-aada-479e-9214-bd181964b090",
   "metadata": {},
   "outputs": [
    {
     "data": {
      "image/png": "[encoded data removed]",
      "text/plain": [
       "<Figure size 432x288 with 1 Axes>"
      ]
     },
     "metadata": {
      "needs_background": "light"
     },
     "output_type": "display_data"
    }
   ],
   "source": [
    "sns.histplot(df_freq_data, x='freq', hue='family', multiple='dodge', bins=10, binrange=(0, 2000));\n",
    "# Esto no está bien, \n",
    "#  no quiero ver exactamente la frecuencia, quiero ver el % de apariciones en relacion a la cant de txs "
   ]
  },
  {
   "cell_type": "code",
   "execution_count": 71,
   "id": "d3969280-00b2-4b20-8556-85cc6163fbd6",
   "metadata": {},
   "outputs": [],
   "source": [
    "# Primeras conclusiones\n",
    "\n",
    "# LRR1 tiene muchos MRs que tienen alta frecuencia\n",
    "# min_support: 0.025\n",
    "# transactions_lrr:    33060\n",
    "\n",
    "# Para ser considereda en una regla, el item tiene que tener mas de: 826 apariciones\n",
    "\n",
    "# Para LRR1 vemos que tiene muchos MRs con mas de 826 apariciones, por lo que son considerados en el minssuport,\n",
    "#  por lo que tiene sentido que se terminen generando mas reglas\n",
    "\n",
    "# ---------\n",
    "# Ahora, lo que NO entiendo, es por que TPR genera muchas MENOS reglas que NEWAnk,\n",
    "#  pero teniendo mas items con mayor o igual frecuencia   ¿?  (rta -> tiene que ver con frecuencia de pares)"
   ]
  },
  {
   "cell_type": "code",
   "execution_count": 72,
   "id": "b4fbeabe-3364-4fef-91d2-4300acd8c485",
   "metadata": {},
   "outputs": [],
   "source": [
    "# Exp10: Igual que lo anterior pero usando % en el eje X\n",
    "# X = 0-100% de proteinas [txs]  -> frecuencia?\n",
    "# Y = cuantos items hay que aparecen en ese % de proteinas [txs] == cuantos items con esa frecuencia\n"
   ]
  },
  {
   "cell_type": "code",
   "execution_count": 73,
   "id": "d51f0011-4cfd-49da-af78-e2da4b742bc2",
   "metadata": {},
   "outputs": [
    {
     "data": {
      "image/png": "[encoded data removed]",
      "text/plain": [
       "<Figure size 432x288 with 1 Axes>"
      ]
     },
     "metadata": {
      "needs_background": "light"
     },
     "output_type": "display_data"
    }
   ],
   "source": [
    "sns.histplot(df_freq_data, x='freq_percentage', hue='family', multiple='dodge', bins=20, binrange=(0.025, 0.1));\n",
    "# TODO: Marcar recta vertical"
   ]
  },
  {
   "cell_type": "code",
   "execution_count": null,
   "id": "4085fac2-1ce4-4ca3-82ae-2c9f93372bd1",
   "metadata": {},
   "outputs": [],
   "source": []
  },
  {
   "cell_type": "code",
   "execution_count": 74,
   "id": "3dcc8c1c-89f3-4652-b0a1-07dad678fbaf",
   "metadata": {},
   "outputs": [
    {
     "data": {
      "text/plain": [
       "Text(0.5, 1.0, 'Cantidad de MRs presente para una frecuencia dada')"
      ]
     },
     "execution_count": 74,
     "metadata": {},
     "output_type": "execute_result"
    },
    {
     "data": {
      "image/png": "[encoded data removed]",
      "text/plain": [
       "<Figure size 432x288 with 1 Axes>"
      ]
     },
     "metadata": {
      "needs_background": "light"
     },
     "output_type": "display_data"
    }
   ],
   "source": [
    "plot_exp10 = sns.histplot(df_freq_data, \n",
    "                          x='freq_percentage', \n",
    "                          hue='family', \n",
    "                          multiple='dodge', \n",
    "                          bins=20, \n",
    "                          binrange=(0.02, 0.1));\n",
    "fig = plot_exp10.get_figure()\n",
    "plt.title(\"Cantidad de MRs presente para una frecuencia dada\")\n",
    "# plt.axvline(x=0.025, color='red')\n",
    "# fig.savefig('imagenes/single_freq_percentage_count_exp10.pdf', bbox_inches = \"tight\")"
   ]
  },
  {
   "cell_type": "code",
   "execution_count": 99,
   "id": "0fda2fe6-dbb0-4d61-9571-4b6ba1f989c4",
   "metadata": {},
   "outputs": [
    {
     "data": {
      "image/png": "[encoded data removed]",
      "text/plain": [
       "<Figure size 432x288 with 1 Axes>"
      ]
     },
     "metadata": {
      "needs_background": "light"
     },
     "output_type": "display_data"
    }
   ],
   "source": [
    "fig = plot_histogram_mrs_support_count(df_freq_data, 0.0, 0.1, 10, vline=None, ylabel=\"Cantidad de ítems\")\n",
    "# fig.savefig('imagenes/frecuencias/single_freq_percentage_count.pdf', bbox_inches = \"tight\")"
   ]
  },
  {
   "cell_type": "code",
   "execution_count": 78,
   "id": "0197143f-51cb-4d69-81f5-95d9f1bcbd4d",
   "metadata": {},
   "outputs": [
    {
     "name": "stdout",
     "output_type": "stream",
     "text": [
      "Building mr_tx_frequency for NEWAnk_UNIFORM\n",
      " .... freq_count .... 0/32169\n",
      " .... freq_count .... 10000/32169\n",
      " .... freq_count .... 20000/32169\n",
      " .... freq_count .... 30000/32169\n",
      "Building mr_tx_frequency for NEWAnk_SCRAMBLED\n",
      " .... freq_count .... 0/32169\n",
      " .... freq_count .... 10000/32169\n",
      " .... freq_count .... 20000/32169\n",
      " .... freq_count .... 30000/32169\n",
      "Building mr_tx_frequency for NEWAnk\n",
      " .... freq_count .... 0/32169\n",
      " .... freq_count .... 10000/32169\n",
      " .... freq_count .... 20000/32169\n",
      " .... freq_count .... 30000/32169\n",
      "Finished\n"
     ]
    }
   ],
   "source": [
    "input_build_mr_tx_frequency_control = {\n",
    "    \"NEWAnk_UNIFORM\": transactions_newank_uniform,\n",
    "    \"NEWAnk_SCRAMBLED\": transactions_newank_scram,\n",
    "    \"NEWAnk\": transactions_newank,\n",
    "}\n",
    "\n",
    "df_freq_data_control = autils.build_mr_tx_frequency_df(input_build_mr_tx_frequency_control)"
   ]
  },
  {
   "cell_type": "code",
   "execution_count": 98,
   "id": "d653c059-a896-4097-8283-a7047d184f1d",
   "metadata": {},
   "outputs": [
    {
     "data": {
      "image/png": "[encoded data removed]",
      "text/plain": [
       "<Figure size 432x288 with 1 Axes>"
      ]
     },
     "metadata": {
      "needs_background": "light"
     },
     "output_type": "display_data"
    }
   ],
   "source": [
    "fig = plot_histogram_mrs_support_count(df_freq_data_control, 0.0, 0.1, 10, vline=None, ylabel=\"Cantidad de ítems\")\n",
    "# fig.savefig('imagenes/frecuencias/single_freq_percentage_count_control.pdf', bbox_inches = \"tight\")"
   ]
  },
  {
   "cell_type": "code",
   "execution_count": null,
   "id": "99419331-7539-4652-b02e-3f67b07013a8",
   "metadata": {},
   "outputs": [],
   "source": []
  },
  {
   "cell_type": "code",
   "execution_count": 80,
   "id": "0b4cafef-ed19-4aea-8016-dbdbf46e9978",
   "metadata": {},
   "outputs": [],
   "source": [
    "# Parece tener consistente que superando el umbral del min_support, NEWAnk tenga mas items \n",
    "#  con frecuencia alta en comparacion con TPR1, que deja de aparecer.\n",
    "\n",
    "# No me queda claro que la diferencia sea tanta como para que NEWAnk genere 4000 y TPR genere 4"
   ]
  },
  {
   "cell_type": "code",
   "execution_count": 81,
   "id": "510339c4-8a11-4efe-a156-d0f7f1c60f40",
   "metadata": {},
   "outputs": [],
   "source": [
    "# Si me quedo solo con los items que superan el min_support, aca se nota mejor como LRR1 gana.\n",
    "# Entre TPR y NEWAnk no me queda claro, pero para generar una regla necesito 2 items. Pruebo pares."
   ]
  },
  {
   "cell_type": "code",
   "execution_count": 82,
   "id": "a22072ea-8fa6-4a6e-a64a-a93a813d3232",
   "metadata": {},
   "outputs": [],
   "source": [
    "# Exp10: En vez de considerar items solos, considerar pares de items.\n",
    "#  Para que no explote, tomo solo los items que superan el min_support\n",
    "min_support = 0.025\n",
    "df_freq_data_step1 = df_freq_data[df_freq_data.freq_percentage > min_support]"
   ]
  },
  {
   "cell_type": "code",
   "execution_count": 83,
   "id": "a819514b-3bf9-4065-9c0a-621774f65793",
   "metadata": {},
   "outputs": [
    {
     "data": {
      "text/html": [
       "<div>\n",
       "<style scoped>\n",
       "    .dataframe tbody tr th:only-of-type {\n",
       "        vertical-align: middle;\n",
       "    }\n",
       "\n",
       "    .dataframe tbody tr th {\n",
       "        vertical-align: top;\n",
       "    }\n",
       "\n",
       "    .dataframe thead th {\n",
       "        text-align: right;\n",
       "    }\n",
       "</style>\n",
       "<table border=\"1\" class=\"dataframe\">\n",
       "  <thead>\n",
       "    <tr style=\"text-align: right;\">\n",
       "      <th></th>\n",
       "      <th>family</th>\n",
       "      <th>mr</th>\n",
       "      <th>freq</th>\n",
       "      <th>freq_percentage</th>\n",
       "    </tr>\n",
       "  </thead>\n",
       "  <tbody>\n",
       "    <tr>\n",
       "      <th>0</th>\n",
       "      <td>NEWAnk</td>\n",
       "      <td>AAAE</td>\n",
       "      <td>2246</td>\n",
       "      <td>0.069819</td>\n",
       "    </tr>\n",
       "    <tr>\n",
       "      <th>2</th>\n",
       "      <td>NEWAnk</td>\n",
       "      <td>AAEG</td>\n",
       "      <td>1627</td>\n",
       "      <td>0.050577</td>\n",
       "    </tr>\n",
       "    <tr>\n",
       "      <th>3</th>\n",
       "      <td>NEWAnk</td>\n",
       "      <td>AAGA</td>\n",
       "      <td>3168</td>\n",
       "      <td>0.098480</td>\n",
       "    </tr>\n",
       "    <tr>\n",
       "      <th>5</th>\n",
       "      <td>NEWAnk</td>\n",
       "      <td>AAGL</td>\n",
       "      <td>1439</td>\n",
       "      <td>0.044733</td>\n",
       "    </tr>\n",
       "    <tr>\n",
       "      <th>6</th>\n",
       "      <td>NEWAnk</td>\n",
       "      <td>AALA</td>\n",
       "      <td>1993</td>\n",
       "      <td>0.061954</td>\n",
       "    </tr>\n",
       "  </tbody>\n",
       "</table>\n",
       "</div>"
      ],
      "text/plain": [
       "   family    mr  freq  freq_percentage\n",
       "0  NEWAnk  AAAE  2246         0.069819\n",
       "2  NEWAnk  AAEG  1627         0.050577\n",
       "3  NEWAnk  AAGA  3168         0.098480\n",
       "5  NEWAnk  AAGL  1439         0.044733\n",
       "6  NEWAnk  AALA  1993         0.061954"
      ]
     },
     "execution_count": 83,
     "metadata": {},
     "output_type": "execute_result"
    }
   ],
   "source": [
    "df_freq_data_step1.head()"
   ]
  },
  {
   "cell_type": "code",
   "execution_count": 84,
   "id": "249bea2a-fd2a-47c3-8171-c91fc829f832",
   "metadata": {},
   "outputs": [
    {
     "name": "stdout",
     "output_type": "stream",
     "text": [
      "build_pairs_mr_tx_frequency_df, min_support: 0.025\n",
      "Filtering mrs to get most frequents only\n",
      "2130\n",
      "2051\n",
      "3610\n"
     ]
    }
   ],
   "source": [
    "frequent_mrs_by_family = autils.build_frequent_mrs_by_family(df_freq_data, min_support)\n",
    "    \n",
    "print(len(frequent_mrs_by_family['NEWAnk']))\n",
    "print(len(frequent_mrs_by_family['TPR1']))\n",
    "print(len(frequent_mrs_by_family['LRR1']))"
   ]
  },
  {
   "cell_type": "code",
   "execution_count": 85,
   "id": "353903c0-e94f-483a-9274-eef6dbcce1b3",
   "metadata": {},
   "outputs": [
    {
     "name": "stdout",
     "output_type": "stream",
     "text": [
      "32169\n",
      "1092\n",
      "14366\n"
     ]
    }
   ],
   "source": [
    "print(len(transactions_newank))\n",
    "for i, tx in enumerate(transactions_newank):\n",
    "    if len(tx) > 5000:\n",
    "        print(i)\n",
    "        \n",
    "# Tengo transacciones con mas de 5000 MRs. No es raro?"
   ]
  },
  {
   "cell_type": "code",
   "execution_count": 86,
   "id": "0b2601ee-900d-48a2-bcc2-1f9856c52bb6",
   "metadata": {},
   "outputs": [
    {
     "data": {
      "text/html": [
       "<div>\n",
       "<style scoped>\n",
       "    .dataframe tbody tr th:only-of-type {\n",
       "        vertical-align: middle;\n",
       "    }\n",
       "\n",
       "    .dataframe tbody tr th {\n",
       "        vertical-align: top;\n",
       "    }\n",
       "\n",
       "    .dataframe thead th {\n",
       "        text-align: right;\n",
       "    }\n",
       "</style>\n",
       "<table border=\"1\" class=\"dataframe\">\n",
       "  <thead>\n",
       "    <tr style=\"text-align: right;\">\n",
       "      <th></th>\n",
       "      <th>lens</th>\n",
       "    </tr>\n",
       "  </thead>\n",
       "  <tbody>\n",
       "    <tr>\n",
       "      <th>count</th>\n",
       "      <td>32169.000000</td>\n",
       "    </tr>\n",
       "    <tr>\n",
       "      <th>mean</th>\n",
       "      <td>97.637508</td>\n",
       "    </tr>\n",
       "    <tr>\n",
       "      <th>std</th>\n",
       "      <td>46.476257</td>\n",
       "    </tr>\n",
       "    <tr>\n",
       "      <th>min</th>\n",
       "      <td>11.000000</td>\n",
       "    </tr>\n",
       "    <tr>\n",
       "      <th>25%</th>\n",
       "      <td>64.000000</td>\n",
       "    </tr>\n",
       "    <tr>\n",
       "      <th>50%</th>\n",
       "      <td>88.000000</td>\n",
       "    </tr>\n",
       "    <tr>\n",
       "      <th>75%</th>\n",
       "      <td>121.000000</td>\n",
       "    </tr>\n",
       "    <tr>\n",
       "      <th>max</th>\n",
       "      <td>703.000000</td>\n",
       "    </tr>\n",
       "  </tbody>\n",
       "</table>\n",
       "</div>"
      ],
      "text/plain": [
       "               lens\n",
       "count  32169.000000\n",
       "mean      97.637508\n",
       "std       46.476257\n",
       "min       11.000000\n",
       "25%       64.000000\n",
       "50%       88.000000\n",
       "75%      121.000000\n",
       "max      703.000000"
      ]
     },
     "execution_count": 86,
     "metadata": {},
     "output_type": "execute_result"
    }
   ],
   "source": [
    "transactions_frequents_test = autils.get_transactions_with_frequents(frequent_mrs_by_family[\"NEWAnk\"], transactions_newank)\n",
    "pd.DataFrame({\"lens\": [ len(tx) for tx in transactions_frequents_test]}).describe()\n",
    "# Largo promedio es 100. Va a estar ok!"
   ]
  },
  {
   "cell_type": "code",
   "execution_count": 87,
   "id": "b120102b-06b2-4831-ae25-e31f84ea87d7",
   "metadata": {},
   "outputs": [
    {
     "name": "stdout",
     "output_type": "stream",
     "text": [
      "build_pairs_mr_tx_frequency_df, min_support: 0.025\n",
      "Filtering mrs to get most frequents only\n",
      "Building freqs_by_pair_combinations for NEWAnk...\n",
      "Filtering transactions_frequents\n",
      " .... 0/32169\n",
      " .... 5000/32169\n",
      " .... 10000/32169\n",
      " .... 15000/32169\n",
      " .... 20000/32169\n",
      " .... 25000/32169\n",
      " .... 30000/32169\n",
      "Building freqs_by_pair_data for NEWAnk...\n",
      "NEWAnk ready.\n",
      "Building freqs_by_pair_combinations for TPR1...\n",
      "Filtering transactions_frequents\n",
      " .... 0/36389\n",
      " .... 5000/36389\n",
      " .... 10000/36389\n",
      " .... 15000/36389\n",
      " .... 20000/36389\n",
      " .... 25000/36389\n",
      " .... 30000/36389\n",
      " .... 35000/36389\n",
      "Building freqs_by_pair_data for TPR1...\n",
      "TPR1 ready.\n",
      "Building freqs_by_pair_combinations for LRR1...\n",
      "Filtering transactions_frequents\n",
      " .... 0/33060\n",
      " .... 5000/33060\n",
      " .... 10000/33060\n",
      " .... 15000/33060\n",
      " .... 20000/33060\n",
      " .... 25000/33060\n",
      " .... 30000/33060\n",
      "Building freqs_by_pair_data for LRR1...\n",
      "LRR1 ready.\n",
      "Building DataFrame\n"
     ]
    }
   ],
   "source": [
    "input_build_pairs_mr_tx_frequency = {\n",
    "    \"NEWAnk\": transactions_newank,\n",
    "    \"TPR1\": transactions_tpr,\n",
    "    \"LRR1\": transactions_lrr\n",
    "}\n",
    "\n",
    "min_support = 0.025\n",
    "df_freq_pairs_data = autils.build_pairs_mr_tx_frequency_df(\n",
    "    input_build_pairs_mr_tx_frequency, df_freq_data, min_support)"
   ]
  },
  {
   "cell_type": "code",
   "execution_count": 88,
   "id": "40594846-e5a7-4e39-b759-3562bdbaa385",
   "metadata": {},
   "outputs": [
    {
     "data": {
      "image/png": "[encoded data removed]",
      "text/plain": [
       "<Figure size 432x288 with 1 Axes>"
      ]
     },
     "metadata": {
      "needs_background": "light"
     },
     "output_type": "display_data"
    }
   ],
   "source": [
    "sns.histplot(df_freq_pairs_data, x='freq_percentage', hue='family', multiple='dodge', bins=10);"
   ]
  },
  {
   "cell_type": "code",
   "execution_count": 89,
   "id": "731c9e41-3123-4617-adb0-757e07ab8640",
   "metadata": {},
   "outputs": [
    {
     "data": {
      "image/png": "[encoded data removed]",
      "text/plain": [
       "<Figure size 432x288 with 1 Axes>"
      ]
     },
     "metadata": {
      "needs_background": "light"
     },
     "output_type": "display_data"
    }
   ],
   "source": [
    "# Estos son los que superan el min_support\n",
    "sns.histplot(df_freq_pairs_data, x='freq_percentage', hue='family', \n",
    "             multiple='dodge', bins=20, binrange=(0.025, 1));"
   ]
  },
  {
   "cell_type": "code",
   "execution_count": 90,
   "id": "63ee3632-4ec2-4c11-826b-97409d167720",
   "metadata": {},
   "outputs": [
    {
     "data": {
      "image/png": "[encoded data removed]",
      "text/plain": [
       "<Figure size 432x288 with 1 Axes>"
      ]
     },
     "metadata": {
      "needs_background": "light"
     },
     "output_type": "display_data"
    }
   ],
   "source": [
    "# Estos son los que superan el min_support\n",
    "sns.histplot(df_freq_pairs_data, x='freq_percentage', hue='family', \n",
    "             multiple='dodge', bins=20, binrange=(0.025, 0.05));"
   ]
  },
  {
   "cell_type": "code",
   "execution_count": 91,
   "id": "8190c958-b873-4cc8-b405-911ef665e894",
   "metadata": {},
   "outputs": [
    {
     "data": {
      "image/png": "[encoded data removed]",
      "text/plain": [
       "<Figure size 432x288 with 1 Axes>"
      ]
     },
     "metadata": {
      "needs_background": "light"
     },
     "output_type": "display_data"
    }
   ],
   "source": [
    "sns.histplot(df_freq_pairs_data, x='freq_percentage', hue='family', \n",
    "             multiple='dodge', bins=20, binrange=(0.010, 0.05));\n",
    "\n",
    "#  Ver cuanto deberia mover el min_supoort a la izquierda o a la derecha\n",
    "# con las otras familias, para obtener una cant de reglas parecidas que NEWAnk\n",
    "\n",
    "# Para hacer algo automatico hay que tener en cuenta tambien lo de largo 1"
   ]
  },
  {
   "cell_type": "code",
   "execution_count": 92,
   "id": "33162118-2523-4c66-91f3-7ff0728d7cbb",
   "metadata": {},
   "outputs": [],
   "source": [
    "# Aca se nota bastante la diferencia entre las familias, y se explica la diferencia de reglas\n",
    "# Para generar una regla se necesita (al menos) dos elementos, asi que este es el grafico de elems usados en reglas"
   ]
  },
  {
   "cell_type": "code",
   "execution_count": null,
   "id": "cc5750f1-d5dc-44b6-bb1b-5d57634b80fa",
   "metadata": {},
   "outputs": [],
   "source": []
  },
  {
   "cell_type": "code",
   "execution_count": 97,
   "id": "b5b87588-acb0-4203-8d98-4e97adc48a79",
   "metadata": {},
   "outputs": [
    {
     "data": {
      "image/png": "[encoded data removed]",
      "text/plain": [
       "<Figure size 432x288 with 1 Axes>"
      ]
     },
     "metadata": {
      "needs_background": "light"
     },
     "output_type": "display_data"
    }
   ],
   "source": [
    "fig = plot_histogram_mrs_support_count(df_freq_pairs_data, 0.0, 0.1, 10, vline=None, ylabel=\"Cantidad de pares de ítems\")\n",
    "# fig.savefig('imagenes/frecuencias/pairs_freq_percentage_count.pdf', bbox_inches = \"tight\")"
   ]
  },
  {
   "cell_type": "code",
   "execution_count": 103,
   "id": "b62f3763-5473-458a-a36f-682c1f8838ce",
   "metadata": {},
   "outputs": [
    {
     "data": {
      "image/png": "[encoded data removed]",
      "text/plain": [
       "<Figure size 432x288 with 1 Axes>"
      ]
     },
     "metadata": {
      "needs_background": "light"
     },
     "output_type": "display_data"
    }
   ],
   "source": [
    "# Para seccion de prediccion de reglas.\n",
    "df_freq_pairs_data_newank_tpr1 = df_freq_pairs_data[df_freq_pairs_data.family.isin([\"NEWAnk\", \"TPR1\"])]\n",
    "fig = plot_histogram_mrs_support_count(df_freq_pairs_data_newank_tpr1, 0.000, 0.05, 10, logy=True, vline=0.025, ylabel=\"Cantidad de pares de ítems\")\n",
    "# fig.savefig('imagenes/frecuencias/pair_freq_percentage_count_newank_tpr1_len4.pdf', bbox_inches = \"tight\")"
   ]
  }
 ],
 "metadata": {
  "kernelspec": {
   "display_name": "Python 3 (ipykernel)",
   "language": "python",
   "name": "python3"
  },
  "language_info": {
   "codemirror_mode": {
    "name": "ipython",
    "version": 3
   },
   "file_extension": ".py",
   "mimetype": "text/x-python",
   "name": "python",
   "nbconvert_exporter": "python",
   "pygments_lexer": "ipython3",
   "version": "3.8.10"
  }
 },
 "nbformat": 4,
 "nbformat_minor": 5
}
