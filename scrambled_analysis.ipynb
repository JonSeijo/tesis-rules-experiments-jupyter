{
 "cells": [
  {
   "cell_type": "code",
   "execution_count": 1,
   "id": "8f461458-e29d-4730-9bce-7095e060200f",
   "metadata": {},
   "outputs": [
    {
     "data": {
      "text/plain": [
       "'\\nNEWAnk: Dataset usual\\nNEWAnk_SCRAMBLED: Permutacion al azar de aminoacidos\\nNEWAnk_UNIFORM: Aminoacidos elegidos al azar\\n'"
      ]
     },
     "execution_count": 1,
     "metadata": {},
     "output_type": "execute_result"
    }
   ],
   "source": [
    "\"\"\"\n",
    "NEWAnk: Dataset usual\n",
    "NEWAnk_SCRAMBLED: Permutacion al azar de aminoacidos\n",
    "NEWAnk_UNIFORM: Aminoacidos elegidos al azar\n",
    "\"\"\""
   ]
  },
  {
   "cell_type": "code",
   "execution_count": 2,
   "id": "184b6b62-d2b0-4598-a84f-4240b548e69c",
   "metadata": {},
   "outputs": [],
   "source": [
    "import pandas as pd\n",
    "import seaborn as sns\n",
    "\n",
    "# sns.set_style(\"darkgrid\")\n",
    "sns.set_style(\"whitegrid\")\n",
    "\n",
    "import matplotlib.pyplot as plt\n",
    "plt.rcParams[\"figure.figsize\"]= (8, 6)"
   ]
  },
  {
   "cell_type": "code",
   "execution_count": 3,
   "id": "d6ba1c9f-5ee3-42cd-8d80-d5152b4adae5",
   "metadata": {},
   "outputs": [],
   "source": [
    "import analysis_utils as autils"
   ]
  },
  {
   "cell_type": "code",
   "execution_count": 4,
   "id": "bb961f63-bc94-4291-90f5-74092f6b4c32",
   "metadata": {},
   "outputs": [],
   "source": [
    "# TODO: Algunas funciones deberian ir en \"analysis_utils\"\n",
    "from compare_rules import all_mrs_from_transactions, generic_set_intersection , \\\n",
    "    fast_list_intersection, mrs_txs_interseccion_lev_1, \\\n",
    "    mrs_txs_frecuencia_mayor_set, mrs_txs_frecuencia_mayor_list"
   ]
  },
  {
   "cell_type": "code",
   "execution_count": 6,
   "id": "f279a17a-7445-4553-ae87-d0530784644c",
   "metadata": {},
   "outputs": [],
   "source": [
    "transactions_newank = autils.read_clean_transactions(\"NEWAnk_len4_ALL_sub\", \"output/clean_transactions\")"
   ]
  },
  {
   "cell_type": "code",
   "execution_count": 7,
   "id": "b11201a0-6382-406f-917c-ea23a4fbfb13",
   "metadata": {},
   "outputs": [],
   "source": [
    "transactions_newank_scrambled = autils.read_clean_transactions(\"NEWAnk_SCRAMBLED_len4_ALL_sub\", \"output/clean_transactions\")"
   ]
  },
  {
   "cell_type": "code",
   "execution_count": 8,
   "id": "a23276e7-ed96-4bee-8b77-1afc721c1ddc",
   "metadata": {},
   "outputs": [],
   "source": [
    "transactions_newank_uniform = autils.read_clean_transactions(\"NEWAnk_UNIFORM_len4_ALL_sub\", \"output/clean_transactions\")"
   ]
  },
  {
   "cell_type": "code",
   "execution_count": 9,
   "id": "ad9e411f-c2ad-42de-91f8-8f4fdf96f128",
   "metadata": {},
   "outputs": [],
   "source": [
    "assert len(transactions_newank) == 32169\n",
    "assert len(transactions_newank_scrambled) == 32169\n",
    "assert len(transactions_newank_uniform) == 32169"
   ]
  },
  {
   "cell_type": "code",
   "execution_count": 10,
   "id": "664d26f3-e4ac-4256-bb89-a89339453fe0",
   "metadata": {},
   "outputs": [],
   "source": [
    "mrs_newank = all_mrs_from_transactions(transactions_newank)\n",
    "mrs_newank_scrambled = all_mrs_from_transactions(transactions_newank_scrambled)\n",
    "mrs_newank_uniform = all_mrs_from_transactions(transactions_newank_uniform)"
   ]
  },
  {
   "cell_type": "code",
   "execution_count": 11,
   "id": "32b85dae-e5a4-412c-9f79-73432d255a0a",
   "metadata": {},
   "outputs": [],
   "source": [
    "mrs_newank_unique = set(mrs_newank)\n",
    "mrs_newank_scrambled_unique = set(mrs_newank_scrambled)\n",
    "mrs_newank_uniform_unique = set(mrs_newank_uniform)"
   ]
  },
  {
   "cell_type": "code",
   "execution_count": 12,
   "id": "c610d422-4568-45c0-8dc7-6299bb30dfa8",
   "metadata": {},
   "outputs": [
    {
     "name": "stdout",
     "output_type": "stream",
     "text": [
      "Unique MRs\n",
      "mrs_newank_unique:           158107\n",
      "mrs_newank_scrambled_unique: 159639\n",
      "mrs_newank_uniform_unique:   160000\n"
     ]
    }
   ],
   "source": [
    "print(\"Unique MRs\")\n",
    "print(\"mrs_newank_unique:          \", len(mrs_newank_unique))\n",
    "print(\"mrs_newank_scrambled_unique:\", len(mrs_newank_scrambled_unique))\n",
    "print(\"mrs_newank_uniform_unique:  \", len(mrs_newank_uniform_unique))\n",
    "# En la interseccion van a estar [casi] todos"
   ]
  },
  {
   "cell_type": "code",
   "execution_count": 15,
   "id": "08581e9c-b96b-4ae2-8e65-05beff953930",
   "metadata": {},
   "outputs": [
    {
     "name": "stdout",
     "output_type": "stream",
     "text": [
      "Building transaction_len_df for NEWAnk\n",
      "Building transaction_len_df for NEWAnk_SCRAMBLED\n",
      "Building transaction_len_df for NEWAnk_UNIFORM\n"
     ]
    }
   ],
   "source": [
    "# Exp6. Distribucion del largo de transacciones\n",
    "input_transaction_len = {\n",
    "    \"NEWAnk\": transactions_newank,\n",
    "    \"NEWAnk_SCRAMBLED\": transactions_newank_scrambled,\n",
    "    \"NEWAnk_UNIFORM\": transactions_newank_uniform\n",
    "}\n",
    "\n",
    "df_txs_length = autils.build_transaction_len_df(input_transaction_len)"
   ]
  },
  {
   "cell_type": "code",
   "execution_count": 16,
   "id": "be4c5145-bb14-4f21-aa25-97c2f2002dba",
   "metadata": {},
   "outputs": [
    {
     "data": {
      "text/plain": [
       "<AxesSubplot:title={'center':'tx_length'}, xlabel='family'>"
      ]
     },
     "execution_count": 16,
     "metadata": {},
     "output_type": "execute_result"
    },
    {
     "data": {
      "image/png": "[encoded data removed]",
      "text/plain": [
       "<Figure size 648x504 with 1 Axes>"
      ]
     },
     "metadata": {
      "needs_background": "light"
     },
     "output_type": "display_data"
    }
   ],
   "source": [
    "df_txs_length.boxplot(column='tx_length', by='family', grid=True, rot=90, figsize=(9, 7))"
   ]
  },
  {
   "cell_type": "code",
   "execution_count": 17,
   "id": "99dbcd69-6b9e-450f-afe7-171140ee96c4",
   "metadata": {},
   "outputs": [],
   "source": [
    "# Exp7. Distribucion de largo promedio de los MRs"
   ]
  },
  {
   "cell_type": "code",
   "execution_count": 18,
   "id": "2dfc3fe3-8d76-4192-8ec8-9aea4a63f3b0",
   "metadata": {},
   "outputs": [
    {
     "name": "stdout",
     "output_type": "stream",
     "text": [
      "Building mr_len_df for NEWAnk\n",
      "Building mr_len_df for NEWAnk_SCRAMBLED\n",
      "Building mr_len_df for NEWAnk_UNIFORM\n"
     ]
    }
   ],
   "source": [
    "input_build_mr_len = {\n",
    "    \"NEWAnk\": mrs_newank_unique,\n",
    "    \"NEWAnk_SCRAMBLED\": mrs_newank_scrambled_unique,\n",
    "    \"NEWAnk_UNIFORM\": mrs_newank_uniform_unique\n",
    "}\n",
    "\n",
    "df_mrs_length = autils.build_mr_len_df(input_build_mr_len)"
   ]
  },
  {
   "cell_type": "code",
   "execution_count": 19,
   "id": "a6a0273e-bd83-4088-8b62-38b8be701c73",
   "metadata": {},
   "outputs": [
    {
     "data": {
      "text/html": [
       "<div>\n",
       "<style scoped>\n",
       "    .dataframe tbody tr th:only-of-type {\n",
       "        vertical-align: middle;\n",
       "    }\n",
       "\n",
       "    .dataframe tbody tr th {\n",
       "        vertical-align: top;\n",
       "    }\n",
       "\n",
       "    .dataframe thead th {\n",
       "        text-align: right;\n",
       "    }\n",
       "</style>\n",
       "<table border=\"1\" class=\"dataframe\">\n",
       "  <thead>\n",
       "    <tr style=\"text-align: right;\">\n",
       "      <th></th>\n",
       "      <th></th>\n",
       "      <th>mr_length</th>\n",
       "    </tr>\n",
       "    <tr>\n",
       "      <th>family</th>\n",
       "      <th>mr_length</th>\n",
       "      <th></th>\n",
       "    </tr>\n",
       "  </thead>\n",
       "  <tbody>\n",
       "    <tr>\n",
       "      <th rowspan=\"2\" valign=\"top\">NEWAnk</th>\n",
       "      <th>4</th>\n",
       "      <td>158105</td>\n",
       "    </tr>\n",
       "    <tr>\n",
       "      <th>5</th>\n",
       "      <td>2</td>\n",
       "    </tr>\n",
       "    <tr>\n",
       "      <th>NEWAnk_SCRAMBLED</th>\n",
       "      <th>4</th>\n",
       "      <td>159639</td>\n",
       "    </tr>\n",
       "    <tr>\n",
       "      <th>NEWAnk_UNIFORM</th>\n",
       "      <th>4</th>\n",
       "      <td>160000</td>\n",
       "    </tr>\n",
       "  </tbody>\n",
       "</table>\n",
       "</div>"
      ],
      "text/plain": [
       "                            mr_length\n",
       "family           mr_length           \n",
       "NEWAnk           4             158105\n",
       "                 5                  2\n",
       "NEWAnk_SCRAMBLED 4             159639\n",
       "NEWAnk_UNIFORM   4             160000"
      ]
     },
     "execution_count": 19,
     "metadata": {},
     "output_type": "execute_result"
    }
   ],
   "source": [
    "df_mrs_length.groupby(['family', 'mr_length']).agg({'mr_length': 'count'})\n",
    "# Son [casi] todos de largo 4. Esperado"
   ]
  },
  {
   "cell_type": "code",
   "execution_count": 20,
   "id": "09a7dcab-86ab-420f-b7ef-e8fb86a125cb",
   "metadata": {},
   "outputs": [],
   "source": [
    "# Exp10. Frecuencia de MRs de acuerdo al % de aparicion"
   ]
  },
  {
   "cell_type": "code",
   "execution_count": 21,
   "id": "17c414e0-8d72-4c3c-a798-167be0dece43",
   "metadata": {},
   "outputs": [
    {
     "name": "stdout",
     "output_type": "stream",
     "text": [
      "Building mr_tx_frequency for NEWAnk\n",
      " .... freq_count .... 0/32169\n",
      " .... freq_count .... 10000/32169\n",
      " .... freq_count .... 20000/32169\n",
      " .... freq_count .... 30000/32169\n",
      "Building mr_tx_frequency for NEWAnk_SCRAMBLED\n",
      " .... freq_count .... 0/32169\n",
      " .... freq_count .... 10000/32169\n",
      " .... freq_count .... 20000/32169\n",
      " .... freq_count .... 30000/32169\n",
      "Building mr_tx_frequency for NEWAnk_UNIFORM\n",
      " .... freq_count .... 0/32169\n",
      " .... freq_count .... 10000/32169\n",
      " .... freq_count .... 20000/32169\n",
      " .... freq_count .... 30000/32169\n"
     ]
    }
   ],
   "source": [
    "input_build_mr_tx_frequency = {\n",
    "    \"NEWAnk\": transactions_newank,\n",
    "    \"NEWAnk_SCRAMBLED\": transactions_newank_scrambled,\n",
    "    \"NEWAnk_UNIFORM\": transactions_newank_uniform\n",
    "}\n",
    "\n",
    "df_freq_data = autils.build_mr_tx_frequency_df(input_build_mr_tx_frequency)"
   ]
  },
  {
   "cell_type": "code",
   "execution_count": 22,
   "id": "ed734da4-d979-4e0f-92c9-0f78ada78586",
   "metadata": {},
   "outputs": [
    {
     "data": {
      "image/png": "[encoded data removed]",
      "text/plain": [
       "<Figure size 432x288 with 1 Axes>"
      ]
     },
     "metadata": {
      "needs_background": "light"
     },
     "output_type": "display_data"
    }
   ],
   "source": [
    "sns.histplot(df_freq_data, x='freq_percentage', hue='family', multiple='dodge', bins=20, binrange=(0.01, 0.08));\n",
    "# Uniform ni aparece, tiene frecuencias menores a 0.01\n",
    "# Scrambled y NEWAnk parecen comparables. Queda ver experimento de pares"
   ]
  },
  {
   "cell_type": "code",
   "execution_count": 23,
   "id": "7aa9ad9b-8576-4b2f-902e-063f7081f6b3",
   "metadata": {},
   "outputs": [],
   "source": [
    "# Exp10. Frecuencias de aparicion de pares de items"
   ]
  },
  {
   "cell_type": "code",
   "execution_count": 24,
   "id": "8d7f797a-0756-4013-9699-4f8e6f954099",
   "metadata": {},
   "outputs": [
    {
     "name": "stdout",
     "output_type": "stream",
     "text": [
      "build_pairs_mr_tx_frequency_df, min_support: 0.025\n",
      "Filtering mrs to get most frequents only\n",
      "Building freqs_by_pair_combinations for NEWAnk...\n",
      "Filtering transactions_frequents\n",
      " .... 0/32169\n",
      " .... 10000/32169\n",
      " .... 20000/32169\n",
      " .... 30000/32169\n",
      "Building freqs_by_pair_data for NEWAnk...\n",
      "NEWAnk ready.\n",
      "Building freqs_by_pair_combinations for NEWAnk_SCRAMBLED...\n",
      "Filtering transactions_frequents\n",
      " .... 0/32169\n",
      " .... 10000/32169\n",
      " .... 20000/32169\n",
      " .... 30000/32169\n",
      "Building freqs_by_pair_data for NEWAnk_SCRAMBLED...\n",
      "NEWAnk_SCRAMBLED ready.\n",
      "WARNING! No frequent mrs for family: NEWAnk_UNIFORM\n",
      "Building freqs_by_pair_combinations for NEWAnk_UNIFORM...\n",
      "Filtering transactions_frequents\n",
      " .... 0/32169\n",
      " .... 10000/32169\n",
      " .... 20000/32169\n",
      " .... 30000/32169\n",
      "Building freqs_by_pair_data for NEWAnk_UNIFORM...\n",
      "NEWAnk_UNIFORM ready.\n"
     ]
    }
   ],
   "source": [
    "input_build_pairs_mr_tx_frequency = {\n",
    "    \"NEWAnk\": transactions_newank,\n",
    "    \"NEWAnk_SCRAMBLED\": transactions_newank_scrambled,\n",
    "    \"NEWAnk_UNIFORM\": transactions_newank_uniform\n",
    "}\n",
    "\n",
    "min_support = 0.025\n",
    "df_freq_pairs_data = autils.build_pairs_mr_tx_frequency_df(\n",
    "    input_build_pairs_mr_tx_frequency, df_freq_data, min_support)"
   ]
  },
  {
   "cell_type": "code",
   "execution_count": 25,
   "id": "46d8a70f-5989-4827-a801-444bffc13d1f",
   "metadata": {},
   "outputs": [
    {
     "data": {
      "image/png": "[encoded data removed]",
      "text/plain": [
       "<Figure size 432x288 with 1 Axes>"
      ]
     },
     "metadata": {
      "needs_background": "light"
     },
     "output_type": "display_data"
    }
   ],
   "source": [
    "sns.histplot(df_freq_pairs_data, x='freq_percentage', hue='family', \n",
    "             multiple='dodge', bins=20, binrange=(0.010, 0.05));"
   ]
  },
  {
   "cell_type": "code",
   "execution_count": 30,
   "id": "5a4a11e0-e3a7-4348-a2a2-0b9c9b993208",
   "metadata": {},
   "outputs": [
    {
     "data": {
      "image/png": "[encoded data removed]",
      "text/plain": [
       "<Figure size 432x288 with 1 Axes>"
      ]
     },
     "metadata": {
      "needs_background": "light"
     },
     "output_type": "display_data"
    }
   ],
   "source": [
    "# Solo SCRAMBLED. Ningun par supera 0.025, por eso no genera reglas\n",
    "sns.histplot(df_freq_pairs_data[df_freq_pairs_data.family == \"NEWAnk_SCRAMBLED\"], \n",
    "             x='freq_percentage', hue='family', \n",
    "             multiple='dodge', bins=20, binrange=(0.010, 0.05));"
   ]
  },
  {
   "cell_type": "code",
   "execution_count": null,
   "id": "7616d8e5-7df8-4083-83b2-feb3eec4d1ee",
   "metadata": {},
   "outputs": [],
   "source": []
  }
 ],
 "metadata": {
  "kernelspec": {
   "display_name": "Python 3 (ipykernel)",
   "language": "python",
   "name": "python3"
  },
  "language_info": {
   "codemirror_mode": {
    "name": "ipython",
    "version": 3
   },
   "file_extension": ".py",
   "mimetype": "text/x-python",
   "name": "python",
   "nbconvert_exporter": "python",
   "pygments_lexer": "ipython3",
   "version": "3.8.10"
  }
 },
 "nbformat": 4,
 "nbformat_minor": 5
}
