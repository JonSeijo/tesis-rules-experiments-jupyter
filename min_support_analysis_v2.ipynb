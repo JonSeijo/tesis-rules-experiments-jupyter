{
 "cells": [
  {
   "cell_type": "code",
   "execution_count": null,
   "id": "6c758fe9-ec80-41b9-b643-fee328592c74",
   "metadata": {},
   "outputs": [],
   "source": []
  },
  {
   "cell_type": "code",
   "execution_count": 1,
   "id": "7276da7c-2c1c-4f80-b1f7-ae5d742d0498",
   "metadata": {},
   "outputs": [],
   "source": [
    "import pandas as pd\n",
    "import matplotlib.pyplot as plt\n",
    "import seaborn as sns\n",
    "sns.set_style(\"whitegrid\")"
   ]
  },
  {
   "cell_type": "code",
   "execution_count": 2,
   "id": "cb88025e-509b-4411-8edb-58420720ba73",
   "metadata": {},
   "outputs": [],
   "source": [
    "import analysis_utils as autils"
   ]
  },
  {
   "cell_type": "code",
   "execution_count": 3,
   "id": "5bf1f5bc-e099-47aa-980b-01221cc7271f",
   "metadata": {},
   "outputs": [],
   "source": [
    "import plot_utils"
   ]
  },
  {
   "cell_type": "code",
   "execution_count": null,
   "id": "d3e22bcc-e759-4be0-8a2b-30defc22976c",
   "metadata": {},
   "outputs": [],
   "source": [
    "txs_by_family_len4 = {\n",
    "    \"NEWAnk\": autils.read_clean_transactions(\"NEWAnk_len4_ALL_sub\", \"output/clean_transactions\"),\n",
    "    \"TPR1\": autils.read_clean_transactions(\"TPR1_len4_ALL_sub\", \"output/clean_transactions\"),\n",
    "}"
   ]
  },
  {
   "cell_type": "code",
   "execution_count": null,
   "id": "9033495e-d6ee-46db-a21e-47aef9f5a781",
   "metadata": {},
   "outputs": [],
   "source": [
    "# Calculo frecuencias de items individuales"
   ]
  },
  {
   "cell_type": "code",
   "execution_count": null,
   "id": "1ddf108f-5310-45ae-b038-8eadacd37777",
   "metadata": {},
   "outputs": [],
   "source": [
    "df_freq_data_len4 = autils.build_mr_tx_frequency_df(txs_by_family_len4)"
   ]
  },
  {
   "cell_type": "code",
   "execution_count": null,
   "id": "a457bc74-5bd5-4bed-bc8b-e3369592522d",
   "metadata": {},
   "outputs": [],
   "source": [
    "# Calculo frecuencias de a pares, con aquellos items que superan el min_support"
   ]
  },
  {
   "cell_type": "code",
   "execution_count": null,
   "id": "7eecb51f-385b-4da6-9084-02683ddf1f22",
   "metadata": {},
   "outputs": [],
   "source": [
    "# min_support = 0.025\n",
    "# df_freq_pairs_data = autils.build_pairs_mr_tx_frequency_df(txs_by_family, df_freq_data, min_support)"
   ]
  },
  {
   "cell_type": "code",
   "execution_count": null,
   "id": "6e670eef-a00e-4805-9e69-8a4b1869e73e",
   "metadata": {},
   "outputs": [],
   "source": [
    "# fig = plot_utils.plot_histogram_mrs_support_count(df_freq_pairs_data, 0.000, 0.05, 10, logy=True, vline=0.025)\n",
    "# fig.savefig('imagenes/frecuencias/pair_freq_percentage_count_newank_tpr1_len4.pdf', bbox_inches = \"tight\")"
   ]
  },
  {
   "cell_type": "code",
   "execution_count": null,
   "id": "95ec0331-cc5a-4fa9-ae74-167d774a52b8",
   "metadata": {},
   "outputs": [],
   "source": [
    "# df_freq_pairs_data_newank = df_freq_pairs_data[df_freq_pairs_data.family == \"NEWAnk\" ]"
   ]
  },
  {
   "cell_type": "code",
   "execution_count": 4,
   "id": "4ba1e859-8996-49dd-a3cb-e86b89063d87",
   "metadata": {},
   "outputs": [],
   "source": [
    "def sum_apparitions_count_greater_than(family, support, df_freq_pairs):    \n",
    "    if 'family' in df_freq_pairs.columns:\n",
    "        df_tmp = df_freq_pairs[df_freq_pairs.family == family]\n",
    "    else:\n",
    "        df_tmp = df_freq_pairs\n",
    "        print(\"WARNING: No family selected from df_freq_pairs. Using entire df.\")\n",
    "\n",
    "    S = df_tmp[ df_tmp.freq_percentage > support ]['freq'].sum()\n",
    "    return S"
   ]
  },
  {
   "cell_type": "code",
   "execution_count": 5,
   "id": "109d3f23-211c-4555-bb62-b779bea8e341",
   "metadata": {},
   "outputs": [],
   "source": [
    "def calcular_min_support_para_suma(S_newank_025: float, left_support, right_support, df_freq_pairs_data_tpr1, iteraciones, filter_family):\n",
    "    lo = left_support\n",
    "    hi = right_support\n",
    "\n",
    "    for iteracion in range(iteraciones):\n",
    "        print(\"-------------------------------\")\n",
    "        print(f\"Iteracion #{iteracion+1}\")\n",
    "        query_support = (lo + hi) / 2\n",
    "        print(f\"Calculando para support: {query_support}\")\n",
    "\n",
    "        Sres = sum_apparitions_count_greater_than(filter_family, query_support, df_freq_pairs_data_tpr1)\n",
    "        print(f\"RESULTADO. Support: {query_support}. Suma: {Sres}. Objetivo: {S_newank_025}\")\n",
    "        print(f\"  distancia: {abs(S_newank_025 - Sres)}\")\n",
    "        if Sres < S_newank_025:\n",
    "            hi = query_support # El support buscado esta mas a la izquierda, achico el rango de busqueda\n",
    "        else:\n",
    "            lo = query_support # Voy a buscar supports mas grandes. "
   ]
  },
  {
   "cell_type": "code",
   "execution_count": null,
   "id": "19855ec7-e4ec-45e9-a78b-bda4e9ca1ce2",
   "metadata": {},
   "outputs": [],
   "source": [
    "# S_newank_025 = sum_apparitions_count_greater_than(\"NEWAnk\", min_support, df_freq_pairs_data_newank)\n",
    "# S_newank_025"
   ]
  },
  {
   "cell_type": "code",
   "execution_count": null,
   "id": "57664949-c936-42d8-b8a1-1ca430e3e131",
   "metadata": {},
   "outputs": [],
   "source": [
    "# Pregunta 2.\n",
    "# ¿Cuanto debe ser el valor de \"support\" para que la suma a derecha sea S?"
   ]
  },
  {
   "cell_type": "code",
   "execution_count": null,
   "id": "8aad6472-edfa-4201-aa01-2221d890128e",
   "metadata": {},
   "outputs": [],
   "source": [
    "# df_freq_data_len4_tpr1 = df_freq_data_len4[df_freq_data_len4.family == \"TPR1\"]\n",
    "# txs_by_family_len4_tpr = { \"TPR1\": txs_by_family_len4[\"TPR1\"] }"
   ]
  },
  {
   "cell_type": "code",
   "execution_count": null,
   "id": "d64f6cfb-1ed6-4856-85c1-0faa7ac30fb6",
   "metadata": {},
   "outputs": [],
   "source": [
    "# min_support = 0.0095 # A ojimetro, probé con varios. Menos que esto el algoritmo explota en memoria\n",
    "# df_freq_pairs_data_len4_tpr1 = autils.build_pairs_mr_tx_frequency_df_memory_efficient(txs_by_family_len4_tpr, df_freq_data_len4_tpr1, min_support)"
   ]
  },
  {
   "cell_type": "code",
   "execution_count": null,
   "id": "880fd258-de66-4cef-be25-956549b5b0a8",
   "metadata": {},
   "outputs": [],
   "source": [
    "# build_pairs_mr_tx_frequency_df_memory_efficient\n",
    "\n",
    "# Memoria: 5.6 GB\n",
    "# build_pairs_mr_tx_frequency_df, min_support: 0.0095\n",
    "# Filtering mrs to get most frequents only\n",
    "# Building freqs_by_pair_combinations for TPR1...\n",
    "# Filtering transactions_frequents\n",
    "#  .... 0/36389\n",
    "#  .... 5000/36389\n",
    "#  .... 10000/36389\n",
    "#  .... 15000/36389\n",
    "#  .... 20000/36389\n",
    "#  .... 25000/36389\n",
    "#  .... 30000/36389\n",
    "#  .... 35000/36389\n",
    "# Memoria: 17.5 GB\n",
    "# Building freqs_by_pair_data for TPR1...\n",
    "# TPR1 ready.\n",
    "# Memoria: 19.0 GB\n",
    "# Memoria: 7.2 GB\n",
    "# Building final DataFrame"
   ]
  },
  {
   "cell_type": "code",
   "execution_count": null,
   "id": "13f4f4b4-5958-4c65-9c96-e2e50a0278a3",
   "metadata": {},
   "outputs": [],
   "source": []
  },
  {
   "cell_type": "code",
   "execution_count": null,
   "id": "e161a56b-1316-42ab-9e1b-f05889742389",
   "metadata": {},
   "outputs": [],
   "source": [
    "# txs_by_family_len4_newank = { \"NEWAnk\": txs_by_family_len4[\"NEWAnk\"] }\n",
    "# df_freq_data_len4_newank = df_freq_data_len4[df_freq_data_len4.family == \"NEWAnk\"]"
   ]
  },
  {
   "cell_type": "code",
   "execution_count": null,
   "id": "59f39fe4-f510-4a3a-a914-335dcc111af1",
   "metadata": {},
   "outputs": [],
   "source": [
    "# min_support = 0.025\n",
    "# df_freq_pairs_data_len4_newank = autils.build_pairs_mr_tx_frequency_df_memory_efficient(txs_by_family_len4_newank, df_freq_data_len4_newank, min_support)"
   ]
  },
  {
   "cell_type": "code",
   "execution_count": null,
   "id": "a0fc1520-c4ac-4097-8e29-3b32eb25a6c9",
   "metadata": {},
   "outputs": [],
   "source": [
    "# S_newank_025_len4 = sum_apparitions_count_greater_than(\"NEWAnk\", min_support, df_freq_pairs_data_len4_newank)\n",
    "# S_newank_025_len4\n",
    "# S_newank_025_len4 = 7157467 # Comento el calculo para ahorrar tiempo y memoria, pero dá esto."
   ]
  },
  {
   "cell_type": "code",
   "execution_count": null,
   "id": "75f6fcd6-7f78-4f40-a7b7-09b0fe494593",
   "metadata": {},
   "outputs": [],
   "source": [
    "# calcular_min_support_para_suma(S_newank_025_len4, 0.0095, 0.025, df_freq_pairs_data_len4_tpr1, 15, \"TPR1\")"
   ]
  },
  {
   "cell_type": "code",
   "execution_count": null,
   "id": "d23e47c9-d65c-4871-ba4d-4ac324620e51",
   "metadata": {},
   "outputs": [],
   "source": [
    "\"\"\"\n",
    "-------------------------------\n",
    "Iteracion #1\n",
    "Calculando para support: 0.01725\n",
    "WARNING: No family selected from df_freq_pairs. Using entire df.\n",
    "RESULTADO. Support: 0.01725. Suma: 1404078. Objetivo: 7157467\n",
    "  distancia: 5753389\n",
    "-------------------------------\n",
    "Iteracion #2\n",
    "Calculando para support: 0.013375000000000001\n",
    "WARNING: No family selected from df_freq_pairs. Using entire df.\n",
    "RESULTADO. Support: 0.013375000000000001. Suma: 2946547. Objetivo: 7157467\n",
    "  distancia: 4210920\n",
    "-------------------------------\n",
    "Iteracion #3\n",
    "Calculando para support: 0.0114375\n",
    "WARNING: No family selected from df_freq_pairs. Using entire df.\n",
    "RESULTADO. Support: 0.0114375. Suma: 4505634. Objetivo: 7157467\n",
    "  distancia: 2651833\n",
    "-------------------------------\n",
    "Iteracion #4\n",
    "Calculando para support: 0.010468749999999999\n",
    "WARNING: No family selected from df_freq_pairs. Using entire df.\n",
    "RESULTADO. Support: 0.010468749999999999. Suma: 5791270. Objetivo: 7157467\n",
    "  distancia: 1366197\n",
    "-------------------------------\n",
    "Iteracion #5\n",
    "Calculando para support: 0.009984375\n",
    "WARNING: No family selected from df_freq_pairs. Using entire df.\n",
    "RESULTADO. Support: 0.009984375. Suma: 6544157. Objetivo: 7157467\n",
    "  distancia: 613310\n",
    "-------------------------------\n",
    "Iteracion #6\n",
    "Calculando para support: 0.009742187499999999\n",
    "WARNING: No family selected from df_freq_pairs. Using entire df.\n",
    "RESULTADO. Support: 0.009742187499999999. Suma: 6979504. Objetivo: 7157467\n",
    "  distancia: 177963\n",
    "-------------------------------\n",
    "Iteracion #7\n",
    "Calculando para support: 0.00962109375\n",
    "WARNING: No family selected from df_freq_pairs. Using entire df.\n",
    "RESULTADO. Support: 0.00962109375. Suma: 7208959. Objetivo: 7157467\n",
    "  distancia: 51492\n",
    "-------------------------------\n",
    "Iteracion #8\n",
    "Calculando para support: 0.009681640625\n",
    "WARNING: No family selected from df_freq_pairs. Using entire df.\n",
    "RESULTADO. Support: 0.009681640625. Suma: 7091206. Objetivo: 7157467\n",
    "  distancia: 66261\n",
    "-------------------------------\n",
    "Iteracion #9\n",
    "Calculando para support: 0.0096513671875\n",
    "WARNING: No family selected from df_freq_pairs. Using entire df.\n",
    "RESULTADO. Support: 0.0096513671875. Suma: 7150342. Objetivo: 7157467\n",
    "  distancia: 7125\n",
    "-------------------------------\n",
    "Iteracion #10\n",
    "Calculando para support: 0.00963623046875\n",
    "WARNING: No family selected from df_freq_pairs. Using entire df.\n",
    "RESULTADO. Support: 0.00963623046875. Suma: 7208959. Objetivo: 7157467\n",
    "  distancia: 51492\n",
    "-------------------------------\n",
    "Iteracion #11\n",
    "Calculando para support: 0.009643798828125\n",
    "WARNING: No family selected from df_freq_pairs. Using entire df.\n",
    "RESULTADO. Support: 0.009643798828125. Suma: 7208959. Objetivo: 7157467\n",
    "  distancia: 51492\n",
    "-------------------------------\n",
    "Iteracion #12\n",
    "Calculando para support: 0.009647583007812498\n",
    "WARNING: No family selected from df_freq_pairs. Using entire df.\n",
    "RESULTADO. Support: 0.009647583007812498. Suma: 7150342. Objetivo: 7157467\n",
    "  distancia: 7125\n",
    "-------------------------------\n",
    "Iteracion #13\n",
    "Calculando para support: 0.009645690917968748\n",
    "WARNING: No family selected from df_freq_pairs. Using entire df.\n",
    "RESULTADO. Support: 0.009645690917968748. Suma: 7208959. Objetivo: 7157467\n",
    "  distancia: 51492\n",
    "-------------------------------\n",
    "Iteracion #14\n",
    "Calculando para support: 0.009646636962890623\n",
    "WARNING: No family selected from df_freq_pairs. Using entire df.\n",
    "RESULTADO. Support: 0.009646636962890623. Suma: 7150342. Objetivo: 7157467\n",
    "  distancia: 7125\n",
    "-------------------------------\n",
    "Iteracion #15\n",
    "Calculando para support: 0.009646163940429685\n",
    "WARNING: No family selected from df_freq_pairs. Using entire df.\n",
    "RESULTADO. Support: 0.009646163940429685. Suma: 7150342. Objetivo: 7157467\n",
    "  distancia: 7125\n",
    "\"\"\"\n",
    "\"\""
   ]
  },
  {
   "cell_type": "code",
   "execution_count": null,
   "id": "b1eb0a0d-b74a-4465-a4ed-ab623cab9246",
   "metadata": {},
   "outputs": [],
   "source": [
    "# txs_by_family_len6_newank = { \"NEWAnk\": autils.read_clean_transactions(\"NEWAnk_len6_ALL_sub\", \"output/clean_transactions\") }\n",
    "# df_freq_data_len6_newank = autils.build_mr_tx_frequency_df(txs_by_family_len6_newank)"
   ]
  },
  {
   "cell_type": "code",
   "execution_count": null,
   "id": "d9140f40-02bc-4138-8ccc-a791a05d80d7",
   "metadata": {},
   "outputs": [],
   "source": [
    "# min_support = 0.025\n",
    "# df_freq_pairs_data_len6_newank = autils.build_pairs_mr_tx_frequency_df(txs_by_family_len6_newank, df_freq_data_len6_newank, min_support)"
   ]
  },
  {
   "cell_type": "code",
   "execution_count": null,
   "id": "3f321d29-1bb5-4b81-bff3-f53f9a051732",
   "metadata": {},
   "outputs": [],
   "source": [
    "# S_newank_025_len6 = sum_apparitions_count_greater_than(\"NEWAnk\", min_support, df_freq_pairs_data_len6_newank)\n",
    "# S_newank_025_len6\n",
    "# S_newank_025_len6 = 50696 # Comento el calculo para ahorrar tiempo y memoria, pero dá esto."
   ]
  },
  {
   "cell_type": "code",
   "execution_count": null,
   "id": "12dba7d7-b06a-4852-8cb6-9d4344e63cec",
   "metadata": {},
   "outputs": [],
   "source": [
    "# txs_by_family_len6_tpr = { \"TPR1\": autils.read_clean_transactions(\"TPR1_len6_ALL_sub\", \"output/clean_transactions\") }\n",
    "# df_freq_data_len6_tpr = autils.build_mr_tx_frequency_df(txs_by_family_len6_tpr)"
   ]
  },
  {
   "cell_type": "code",
   "execution_count": null,
   "id": "3301de08-8c2a-430a-9436-d2c8f352de7d",
   "metadata": {},
   "outputs": [],
   "source": [
    "# min_support = 0.0030 # A ojimetro, probé con varios. Menos que esto el algoritmo explota en memoria\n",
    "# df_freq_pairs_data_len6_tpr = autils.build_pairs_mr_tx_frequency_df_memory_efficient(txs_by_family_len6_tpr, df_freq_data_len6_tpr, min_support)"
   ]
  },
  {
   "cell_type": "code",
   "execution_count": null,
   "id": "f63d78a8-f715-4271-b2d6-09f9dad771fc",
   "metadata": {},
   "outputs": [],
   "source": [
    "# calcular_min_support_para_suma(S_newank_025_len6, 0.0030, 0.025, df_freq_pairs_data_len6_tpr, 10, \"TPR1\")"
   ]
  },
  {
   "cell_type": "code",
   "execution_count": null,
   "id": "0da6c636-68af-4719-ad71-5b395256687f",
   "metadata": {},
   "outputs": [],
   "source": [
    "\"\"\"\n",
    "-------------------------------\n",
    "Iteracion #1\n",
    "Calculando para support: 0.014\n",
    "WARNING: No family selected from df_freq_pairs. Using entire df.\n",
    "RESULTADO. Support: 0.014. Suma: 158. Objetivo: 50696\n",
    "  distancia: 50538\n",
    "-------------------------------\n",
    "Iteracion #2\n",
    "Calculando para support: 0.0085\n",
    "WARNING: No family selected from df_freq_pairs. Using entire df.\n",
    "RESULTADO. Support: 0.0085. Suma: 8693. Objetivo: 50696\n",
    "  distancia: 42003\n",
    "-------------------------------\n",
    "Iteracion #3\n",
    "Calculando para support: 0.00575\n",
    "WARNING: No family selected from df_freq_pairs. Using entire df.\n",
    "RESULTADO. Support: 0.00575. Suma: 20846. Objetivo: 50696\n",
    "  distancia: 29850\n",
    "-------------------------------\n",
    "Iteracion #4\n",
    "Calculando para support: 0.004375\n",
    "WARNING: No family selected from df_freq_pairs. Using entire df.\n",
    "RESULTADO. Support: 0.004375. Suma: 36486. Objetivo: 50696\n",
    "  distancia: 14210\n",
    "-------------------------------\n",
    "Iteracion #5\n",
    "Calculando para support: 0.0036875000000000002\n",
    "WARNING: No family selected from df_freq_pairs. Using entire df.\n",
    "RESULTADO. Support: 0.0036875000000000002. Suma: 74526. Objetivo: 50696\n",
    "  distancia: 23830\n",
    "-------------------------------\n",
    "Iteracion #6\n",
    "Calculando para support: 0.00403125\n",
    "WARNING: No family selected from df_freq_pairs. Using entire df.\n",
    "RESULTADO. Support: 0.00403125. Suma: 36486. Objetivo: 50696\n",
    "  distancia: 14210\n",
    "-------------------------------\n",
    "Iteracion #7\n",
    "Calculando para support: 0.003859375\n",
    "WARNING: No family selected from df_freq_pairs. Using entire df.\n",
    "RESULTADO. Support: 0.003859375. Suma: 36486. Objetivo: 50696\n",
    "  distancia: 14210\n",
    "-------------------------------\n",
    "Iteracion #8\n",
    "Calculando para support: 0.0037734375\n",
    "WARNING: No family selected from df_freq_pairs. Using entire df.\n",
    "RESULTADO. Support: 0.0037734375. Suma: 74526. Objetivo: 50696\n",
    "  distancia: 23830\n",
    "-------------------------------\n",
    "Iteracion #9\n",
    "Calculando para support: 0.00381640625\n",
    "WARNING: No family selected from df_freq_pairs. Using entire df.\n",
    "RESULTADO. Support: 0.00381640625. Suma: 36486. Objetivo: 50696\n",
    "  distancia: 14210\n",
    "-------------------------------\n",
    "Iteracion #10\n",
    "Calculando para support: 0.003794921875\n",
    "WARNING: No family selected from df_freq_pairs. Using entire df.\n",
    "RESULTADO. Support: 0.003794921875. Suma: 36486. Objetivo: 50696\n",
    "  distancia: 14210\n",
    "\"\"\"\n",
    "\"\""
   ]
  },
  {
   "cell_type": "code",
   "execution_count": null,
   "id": "18159458-839a-4a23-9289-f2cef9517fa8",
   "metadata": {},
   "outputs": [],
   "source": [
    "# Ahora mismo proceso pero con len5"
   ]
  },
  {
   "cell_type": "code",
   "execution_count": null,
   "id": "66531c08-3330-4978-b4a8-768f2326a969",
   "metadata": {},
   "outputs": [],
   "source": [
    "# Calcular el S_newank_025_len5"
   ]
  },
  {
   "cell_type": "code",
   "execution_count": 6,
   "id": "a162dfbb-7db2-45c8-ba5e-733a043aea46",
   "metadata": {},
   "outputs": [
    {
     "name": "stdout",
     "output_type": "stream",
     "text": [
      "Building mr_tx_frequency for NEWAnk\n",
      " .... freq_count .... 0/32169\n",
      " .... freq_count .... 10000/32169\n",
      " .... freq_count .... 20000/32169\n",
      " .... freq_count .... 30000/32169\n",
      "Finished\n"
     ]
    }
   ],
   "source": [
    "txs_by_family_len5_newank = { \"NEWAnk\": autils.read_clean_transactions(\"NEWAnk_len5_ALL_sub\", \"output/clean_transactions\") }\n",
    "df_freq_data_len5_newank = autils.build_mr_tx_frequency_df(txs_by_family_len5_newank)"
   ]
  },
  {
   "cell_type": "code",
   "execution_count": 7,
   "id": "bd3e65be-d1ef-4d2c-bf95-e029f7a68cae",
   "metadata": {},
   "outputs": [
    {
     "name": "stdout",
     "output_type": "stream",
     "text": [
      "build_pairs_mr_tx_frequency_df, min_support: 0.025\n",
      "Filtering mrs to get most frequents only\n",
      "Building freqs_by_pair_combinations for NEWAnk...\n",
      "Filtering transactions_frequents\n",
      " .... 0/32169\n",
      " .... 5000/32169\n",
      " .... 10000/32169\n",
      " .... 15000/32169\n",
      " .... 20000/32169\n",
      " .... 25000/32169\n",
      " .... 30000/32169\n",
      "Building freqs_by_pair_data for NEWAnk...\n",
      "NEWAnk ready.\n",
      "Building DataFrame\n"
     ]
    }
   ],
   "source": [
    "min_support = 0.025\n",
    "df_freq_pairs_data_len5_newank = autils.build_pairs_mr_tx_frequency_df(txs_by_family_len5_newank, df_freq_data_len5_newank, min_support)"
   ]
  },
  {
   "cell_type": "code",
   "execution_count": 8,
   "id": "7a18adad-9b8e-4182-8153-cf942021aa1a",
   "metadata": {},
   "outputs": [
    {
     "data": {
      "text/plain": [
       "484060"
      ]
     },
     "execution_count": 8,
     "metadata": {},
     "output_type": "execute_result"
    }
   ],
   "source": [
    "S_newank_025_len5 = sum_apparitions_count_greater_than(\"NEWAnk\", min_support, df_freq_pairs_data_len5_newank)\n",
    "S_newank_025_len5\n",
    "# S_newank_025_len5 = 484060 # Comento el calculo para ahorrar tiempo y memoria, pero dá esto."
   ]
  },
  {
   "cell_type": "code",
   "execution_count": 9,
   "id": "81158a0b-68e2-4352-9f85-4e7bcf4fad3c",
   "metadata": {},
   "outputs": [],
   "source": [
    "# Calculo las frecuencias para TPR1_len5"
   ]
  },
  {
   "cell_type": "code",
   "execution_count": 10,
   "id": "41811130-a701-44c9-be8d-fea110932818",
   "metadata": {},
   "outputs": [
    {
     "name": "stdout",
     "output_type": "stream",
     "text": [
      "Building mr_tx_frequency for TPR1\n",
      " .... freq_count .... 0/36389\n",
      " .... freq_count .... 10000/36389\n",
      " .... freq_count .... 20000/36389\n",
      " .... freq_count .... 30000/36389\n",
      "Finished\n"
     ]
    }
   ],
   "source": [
    "txs_by_family_len5_tpr = { \"TPR1\": autils.read_clean_transactions(\"TPR1_len5_ALL_sub\", \"output/clean_transactions\") }\n",
    "df_freq_data_len5_tpr = autils.build_mr_tx_frequency_df(txs_by_family_len5_tpr)"
   ]
  },
  {
   "cell_type": "code",
   "execution_count": 11,
   "id": "6c948a21-fccd-4d00-8828-48c4048e4a26",
   "metadata": {},
   "outputs": [
    {
     "name": "stdout",
     "output_type": "stream",
     "text": [
      "Memoria: 3.7 GB\n",
      "build_pairs_mr_tx_frequency_df, min_support: 0.005\n",
      "Filtering mrs to get most frequents only\n",
      "Building freqs_by_pair_combinations for TPR1...\n",
      "Filtering transactions_frequents\n",
      " .... 0/36389\n",
      " .... 5000/36389\n",
      " .... 10000/36389\n",
      " .... 15000/36389\n",
      " .... 20000/36389\n",
      " .... 25000/36389\n",
      " .... 30000/36389\n",
      " .... 35000/36389\n",
      "Memoria: 4.7 GB\n",
      "Building freqs_by_pair_data for TPR1...\n",
      "TPR1 ready.\n",
      "Memoria: 4.8 GB\n",
      "Memoria: 3.9 GB\n",
      "Building final DataFrame\n"
     ]
    }
   ],
   "source": [
    "min_support = 0.0050 # Ojimetro\n",
    "df_freq_pairs_data_len5_tpr = autils.build_pairs_mr_tx_frequency_df_memory_efficient(txs_by_family_len5_tpr, df_freq_data_len5_tpr, min_support)"
   ]
  },
  {
   "cell_type": "code",
   "execution_count": null,
   "id": "f9928331-f94b-4026-aa82-11e940a45795",
   "metadata": {},
   "outputs": [],
   "source": []
  },
  {
   "cell_type": "code",
   "execution_count": 12,
   "id": "0e2176b5-2a1e-4d96-b69e-6a04e6a66567",
   "metadata": {},
   "outputs": [
    {
     "name": "stdout",
     "output_type": "stream",
     "text": [
      "-------------------------------\n",
      "Iteracion #1\n",
      "Calculando para support: 0.015000000000000001\n",
      "WARNING: No family selected from df_freq_pairs. Using entire df.\n",
      "RESULTADO. Support: 0.015000000000000001. Suma: 27431. Objetivo: 484060\n",
      "  distancia: 456629\n",
      "-------------------------------\n",
      "Iteracion #2\n",
      "Calculando para support: 0.01\n",
      "WARNING: No family selected from df_freq_pairs. Using entire df.\n",
      "RESULTADO. Support: 0.01. Suma: 101895. Objetivo: 484060\n",
      "  distancia: 382165\n",
      "-------------------------------\n",
      "Iteracion #3\n",
      "Calculando para support: 0.0075\n",
      "WARNING: No family selected from df_freq_pairs. Using entire df.\n",
      "RESULTADO. Support: 0.0075. Suma: 575509. Objetivo: 484060\n",
      "  distancia: 91449\n",
      "-------------------------------\n",
      "Iteracion #4\n",
      "Calculando para support: 0.00875\n",
      "WARNING: No family selected from df_freq_pairs. Using entire df.\n",
      "RESULTADO. Support: 0.00875. Suma: 174584. Objetivo: 484060\n",
      "  distancia: 309476\n",
      "-------------------------------\n",
      "Iteracion #5\n",
      "Calculando para support: 0.008125\n",
      "WARNING: No family selected from df_freq_pairs. Using entire df.\n",
      "RESULTADO. Support: 0.008125. Suma: 305498. Objetivo: 484060\n",
      "  distancia: 178562\n",
      "-------------------------------\n",
      "Iteracion #6\n",
      "Calculando para support: 0.0078125\n",
      "WARNING: No family selected from df_freq_pairs. Using entire df.\n",
      "RESULTADO. Support: 0.0078125. Suma: 383287. Objetivo: 484060\n",
      "  distancia: 100773\n",
      "-------------------------------\n",
      "Iteracion #7\n",
      "Calculando para support: 0.00765625\n",
      "WARNING: No family selected from df_freq_pairs. Using entire df.\n",
      "RESULTADO. Support: 0.00765625. Suma: 459256. Objetivo: 484060\n",
      "  distancia: 24804\n",
      "-------------------------------\n",
      "Iteracion #8\n",
      "Calculando para support: 0.007578125\n",
      "WARNING: No family selected from df_freq_pairs. Using entire df.\n",
      "RESULTADO. Support: 0.007578125. Suma: 517422. Objetivo: 484060\n",
      "  distancia: 33362\n",
      "-------------------------------\n",
      "Iteracion #9\n",
      "Calculando para support: 0.0076171875\n",
      "WARNING: No family selected from df_freq_pairs. Using entire df.\n",
      "RESULTADO. Support: 0.0076171875. Suma: 477326. Objetivo: 484060\n",
      "  distancia: 6734\n",
      "-------------------------------\n",
      "Iteracion #10\n",
      "Calculando para support: 0.007597656249999999\n",
      "WARNING: No family selected from df_freq_pairs. Using entire df.\n",
      "RESULTADO. Support: 0.007597656249999999. Suma: 498378. Objetivo: 484060\n",
      "  distancia: 14318\n"
     ]
    }
   ],
   "source": [
    "calcular_min_support_para_suma(S_newank_025_len5, 0.0050, 0.025, df_freq_pairs_data_len5_tpr, 10, \"TPR1\")"
   ]
  },
  {
   "cell_type": "code",
   "execution_count": null,
   "id": "2d33752b-202e-44c1-b151-8aa12c47bcb1",
   "metadata": {},
   "outputs": [],
   "source": []
  },
  {
   "cell_type": "code",
   "execution_count": null,
   "id": "de46459f-552d-45e3-8753-585226f549e4",
   "metadata": {},
   "outputs": [],
   "source": []
  },
  {
   "cell_type": "code",
   "execution_count": null,
   "id": "395f50a5-25fe-43ee-adfb-f9f57e6afb0f",
   "metadata": {},
   "outputs": [],
   "source": [
    "df_tmp = df_freq_pairs_data_newank[df_freq_pairs_data_newank.family == \"NEWAnk\"]\n",
    "df_tmp_sorted = df_tmp[ df_tmp.freq_percentage > 0.025 ].sort_values(by='freq_percentage')"
   ]
  },
  {
   "cell_type": "code",
   "execution_count": null,
   "id": "785fa59c-f8cb-4fd4-b940-c1eeed40fef6",
   "metadata": {},
   "outputs": [],
   "source": [
    "df_tmp_sorted.describe()\n",
    "# Son ~5500, cada uno tiene freq ~1250. Tiene sentido que la suma de ~7kk"
   ]
  },
  {
   "cell_type": "code",
   "execution_count": null,
   "id": "10f20820-54e2-4822-b714-0b530db1abb4",
   "metadata": {},
   "outputs": [],
   "source": [
    "# Exp: prueba sin hacer el recalculo. \n",
    "# NO es correcto porque al bajar el min_support aparecen pares nuevos \n",
    "#  que en el dataset de 0.025 ni siquiera existian"
   ]
  },
  {
   "cell_type": "code",
   "execution_count": null,
   "id": "fe3dfd03-3c19-4050-8816-3a756dffbc84",
   "metadata": {},
   "outputs": [],
   "source": [
    "df_freq_pairs_data_tpr1 = df_freq_pairs_data[df_freq_pairs_data.family == \"TPR1\" ]"
   ]
  },
  {
   "cell_type": "code",
   "execution_count": null,
   "id": "12c3127a-1ec9-4214-bce7-d1ba47b9c188",
   "metadata": {},
   "outputs": [],
   "source": [
    "S_newank_025"
   ]
  }
 ],
 "metadata": {
  "kernelspec": {
   "display_name": "Python 3 (ipykernel)",
   "language": "python",
   "name": "python3"
  },
  "language_info": {
   "codemirror_mode": {
    "name": "ipython",
    "version": 3
   },
   "file_extension": ".py",
   "mimetype": "text/x-python",
   "name": "python",
   "nbconvert_exporter": "python",
   "pygments_lexer": "ipython3",
   "version": "3.8.10"
  }
 },
 "nbformat": 4,
 "nbformat_minor": 5
}
